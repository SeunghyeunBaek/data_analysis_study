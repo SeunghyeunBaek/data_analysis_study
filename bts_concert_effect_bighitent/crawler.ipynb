{
 "cells": [
  {
   "cell_type": "markdown",
   "metadata": {
    "toc": true
   },
   "source": [
    "<h1>Table of Contents<span class=\"tocSkip\"></span></h1>\n",
    "<div class=\"toc\"><ul class=\"toc-item\"><li><span><a href=\"#JTBC-토요일-23시-방영작-크롤링\" data-toc-modified-id=\"JTBC-토요일-23시-방영작-크롤링-1\"><span class=\"toc-item-num\">1&nbsp;&nbsp;</span>JTBC 토요일 23시 방영작 크롤링</a></span><ul class=\"toc-item\"><li><span><a href=\"#URL-분석\" data-toc-modified-id=\"URL-분석-1.1\"><span class=\"toc-item-num\">1.1&nbsp;&nbsp;</span>URL 분석</a></span></li><li><span><a href=\"#크롤링-전략\" data-toc-modified-id=\"크롤링-전략-1.2\"><span class=\"toc-item-num\">1.2&nbsp;&nbsp;</span>크롤링 전략</a></span></li></ul></li><li><span><a href=\"#시청률-크롤링\" data-toc-modified-id=\"시청률-크롤링-2\"><span class=\"toc-item-num\">2&nbsp;&nbsp;</span>시청률 크롤링</a></span><ul class=\"toc-item\"><li><span><a href=\"#URL-분석\" data-toc-modified-id=\"URL-분석-2.1\"><span class=\"toc-item-num\">2.1&nbsp;&nbsp;</span>URL 분석</a></span></li><li><span><a href=\"#크롤링-전략\" data-toc-modified-id=\"크롤링-전략-2.2\"><span class=\"toc-item-num\">2.2&nbsp;&nbsp;</span>크롤링 전략</a></span></li></ul></li><li><span><a href=\"#트위터-언급량-크롤링\" data-toc-modified-id=\"트위터-언급량-크롤링-3\"><span class=\"toc-item-num\">3&nbsp;&nbsp;</span>트위터 언급량 크롤링</a></span></li></ul></div>"
   ]
  },
  {
   "cell_type": "code",
   "execution_count": 23,
   "metadata": {
    "ExecuteTime": {
     "end_time": "2019-07-28T18:37:44.083400Z",
     "start_time": "2019-07-28T18:37:44.077972Z"
    }
   },
   "outputs": [],
   "source": [
    "# libraries\n",
    "from selenium.webdriver.support.ui import Select\n",
    "from selenium import webdriver\n",
    "\n",
    "import numpy as np  # linear algebra\n",
    "import pandas as pd  # file I/O\n",
    "import requests\n",
    "import json\n",
    "import bs4\n",
    "\n",
    "import re  # regex\n",
    "import time  # time sleep\n",
    "\n",
    "from twitterscraper import query_tweets  # 트위터 크롤러"
   ]
  },
  {
   "cell_type": "code",
   "execution_count": 3,
   "metadata": {
    "ExecuteTime": {
     "end_time": "2019-07-28T06:45:31.010468Z",
     "start_time": "2019-07-28T06:45:26.949702Z"
    }
   },
   "outputs": [],
   "source": [
    "driver = webdriver.Chrome('D:\\document\\chrome_driver\\chromedriver')  # start webdriver"
   ]
  },
  {
   "cell_type": "markdown",
   "metadata": {},
   "source": [
    "## JTBC 토요일 23시 방영작 크롤링\n",
    "### URL 분석\n",
    "* JTBC 편성표 url은 /schedule/날짜 로 구성됐다.\n",
    "* 날짜는 'yyyymmdd' 형식이다.\n",
    "\n",
    "### 크롤링 전략\n",
    "* 2018010 - 20190720 에서 토요일에 해당되는 날짜 리스트 생성\n",
    "* 모든 토요일 날짜 리스트에 대하여\n",
    "    * url = 'http://jtbc.joins.com/schedule/yyyymmdd' 선언 후 접속\n",
    "    * 가장 마지막 li(23시) 선택\n",
    "        * date(날짜)\n",
    "        * time(방영시간)\n",
    "        * title(방송명)\n",
    "    * 저장"
   ]
  },
  {
   "cell_type": "code",
   "execution_count": 4,
   "metadata": {
    "ExecuteTime": {
     "end_time": "2019-07-28T06:45:31.360532Z",
     "start_time": "2019-07-28T06:45:31.024447Z"
    }
   },
   "outputs": [
    {
     "ename": "NameError",
     "evalue": "name 'date_sat' is not defined",
     "output_type": "error",
     "traceback": [
      "\u001b[1;31m---------------------------------------------------------------------------\u001b[0m",
      "\u001b[1;31mNameError\u001b[0m                                 Traceback (most recent call last)",
      "\u001b[1;32m<ipython-input-4-d4511f467ab3>\u001b[0m in \u001b[0;36m<module>\u001b[1;34m\u001b[0m\n\u001b[0;32m      2\u001b[0m \u001b[0mdate_idx\u001b[0m \u001b[1;33m=\u001b[0m \u001b[0mpd\u001b[0m\u001b[1;33m.\u001b[0m\u001b[0mdate_range\u001b[0m\u001b[1;33m(\u001b[0m\u001b[0mstart\u001b[0m\u001b[1;33m=\u001b[0m\u001b[1;34m'20180101'\u001b[0m\u001b[1;33m,\u001b[0m \u001b[0mend\u001b[0m\u001b[1;33m=\u001b[0m\u001b[1;34m'20190720'\u001b[0m\u001b[1;33m,\u001b[0m \u001b[0mfreq\u001b[0m\u001b[1;33m=\u001b[0m\u001b[1;34m'W-SAT'\u001b[0m\u001b[1;33m)\u001b[0m\u001b[1;33m\u001b[0m\u001b[0m\n\u001b[0;32m      3\u001b[0m \u001b[0mdate_array\u001b[0m \u001b[1;33m=\u001b[0m \u001b[0mdate_idx\u001b[0m\u001b[1;33m.\u001b[0m\u001b[0mvalues\u001b[0m  \u001b[1;31m# to np array\u001b[0m\u001b[1;33m\u001b[0m\u001b[0m\n\u001b[1;32m----> 4\u001b[1;33m \u001b[0mprint\u001b[0m\u001b[1;33m(\u001b[0m\u001b[1;34mf'raw date: {date_sat[0]}'\u001b[0m\u001b[1;33m)\u001b[0m\u001b[1;33m\u001b[0m\u001b[0m\n\u001b[0m\u001b[0;32m      5\u001b[0m \u001b[1;33m\u001b[0m\u001b[0m\n\u001b[0;32m      6\u001b[0m \u001b[1;31m# yyyy-mm-ddThh:mm:ss.ssssssss=> yyymmdd로 변환\u001b[0m\u001b[1;33m\u001b[0m\u001b[1;33m\u001b[0m\u001b[0m\n",
      "\u001b[1;31mNameError\u001b[0m: name 'date_sat' is not defined"
     ]
    }
   ],
   "source": [
    "# 20180801 - 20190720 토요일 날짜 리스트 생성\n",
    "date_idx = pd.date_range(start='20180101', end='20190720', freq='W-SAT')\n",
    "date_array = date_idx.values  # to np array\n",
    "print(f'raw date: {date_sat[0]}')\n",
    "\n",
    "# yyyy-mm-ddThh:mm:ss.ssssssss=> yyymmdd로 변환\n",
    "date_transformed_list = []  # yyymmdd\n",
    "for date in date_array:\n",
    "    date_str = str(date)  # np.datetime64 to str\n",
    "    date_yyymmdd = date_str.split('T')[0]  # T를 기준으로 분할\n",
    "    date_transformed = re.sub('-','',date_yyymmdd)  # - 제거\n",
    "    date_transformed_list.append(date_transformed)  # 리스트에 저장\n",
    "print(f'date transformed: {date_transformed_list[0]}')        "
   ]
  },
  {
   "cell_type": "code",
   "execution_count": null,
   "metadata": {
    "ExecuteTime": {
     "end_time": "2019-07-28T06:45:31.362528Z",
     "start_time": "2019-07-28T06:45:28.749Z"
    }
   },
   "outputs": [],
   "source": [
    "jtbc_programs = {\n",
    "    'date': [],\n",
    "    'time': [],\n",
    "    'title': []\n",
    "}\n",
    "\n",
    "for date in date_transformed_list:\n",
    "    # 접속\n",
    "    url = f'http://jtbc.joins.com/schedule/{date}'\n",
    "    driver.get(url)\n",
    "\n",
    "    # get ul last child\n",
    "    program_info = driver.find_element_by_css_selector('ul.chart_time_list > li:last-child').text.split('\\n')\n",
    "\n",
    "    # save date to dict\n",
    "    jtbc_programs['date'].append(date)\n",
    "    jtbc_programs['time'].append(program_info[0].strip())\n",
    "    jtbc_programs['title'].append(program_info[1].strip())\n",
    "    \n",
    "    time.sleep(1)"
   ]
  },
  {
   "cell_type": "code",
   "execution_count": 75,
   "metadata": {
    "ExecuteTime": {
     "end_time": "2019-07-25T10:36:36.012985Z",
     "start_time": "2019-07-25T10:36:35.645621Z"
    }
   },
   "outputs": [],
   "source": [
    "# save as csv\n",
    "jtbc_programs_df = pd.DataFrame.from_dict(jtbc_programs)\n",
    "jtbc_programs_df.to_csv('jtbc_programs.csv', index=False)"
   ]
  },
  {
   "cell_type": "markdown",
   "metadata": {},
   "source": [
    "## 시청률 크롤링\n",
    "* 닐슨코리아 시청률, 시정차수 순위(TOP10)에서 JTBC 토요일 23시 방영작 시청률\n",
    "\n",
    "### URL 분석\n",
    "* url = 'https://www.nielsenkorea.co.kr/tv_terrestrial_day.asp?menu=Tit_1&sub_menu=2_1&area=00&begin_date=날짜' 로구성됐다.\n",
    "* area\n",
    "    * 00: 전국\n",
    "    * 01: 수도권\n",
    "* 날짜는 yyyymmdd 형식\n",
    "\n",
    "### 크롤링 전략\n",
    "* 20180101 - 20190720 의 토요일에 해당하는 날짜 생성\n",
    "* 모든 토요일에 해당하는 날짜에 대하여\n",
    "    * url = 'https://www.nielsenkorea.co.kr/tv_terrestrial_day.asp?menu=Tit_1&sub_menu=2_1&area=01&begin_date=날짜' 선언 및 접속\n",
    "    * 시청률\n",
    "        * date, channel, ranking, title, rating\n",
    "    * 시청자 수\n",
    "        * date, channel, ranking, title, views\n",
    "    * 저장"
   ]
  },
  {
   "cell_type": "code",
   "execution_count": 257,
   "metadata": {
    "ExecuteTime": {
     "end_time": "2019-07-25T14:50:01.652402Z",
     "start_time": "2019-07-25T14:50:01.647417Z"
    }
   },
   "outputs": [],
   "source": [
    "rating_rank = {\n",
    "    'date': [],\n",
    "    'rank': [],\n",
    "    'title': [],\n",
    "    'channel': [],\n",
    "    'rating': []\n",
    "}"
   ]
  },
  {
   "cell_type": "code",
   "execution_count": 258,
   "metadata": {
    "ExecuteTime": {
     "end_time": "2019-07-25T14:51:43.322517Z",
     "start_time": "2019-07-25T14:50:09.290202Z"
    },
    "scrolled": true
   },
   "outputs": [
    {
     "name": "stdout",
     "output_type": "stream",
     "text": [
      "20180106: \"1/81\n",
      "20180113: \"2/81\n",
      "20180120: \"3/81\n",
      "20180127: \"4/81\n",
      "20180203: \"5/81\n",
      "20180210: \"6/81\n",
      "20180217: \"7/81\n",
      "20180224: \"8/81\n",
      "20180303: \"9/81\n",
      "20180310: \"10/81\n",
      "20180317: \"11/81\n",
      "20180324: \"12/81\n",
      "20180331: \"13/81\n",
      "20180407: \"14/81\n",
      "20180414: \"15/81\n",
      "20180421: \"16/81\n",
      "20180428: \"17/81\n",
      "20180505: \"18/81\n",
      "20180512: \"19/81\n",
      "20180519: \"20/81\n",
      "20180526: \"21/81\n",
      "20180602: \"22/81\n",
      "20180609: \"23/81\n",
      "20180616: \"24/81\n",
      "20180623: \"25/81\n",
      "20180630: \"26/81\n",
      "20180707: \"27/81\n",
      "20180714: \"28/81\n",
      "20180721: \"29/81\n",
      "20180728: \"30/81\n",
      "20180804: \"31/81\n",
      "20180811: \"32/81\n",
      "20180818: \"33/81\n",
      "20180825: \"34/81\n",
      "20180901: \"35/81\n",
      "20180908: \"36/81\n",
      "20180915: \"37/81\n",
      "20180922: \"38/81\n",
      "20180929: \"39/81\n",
      "20181006: \"40/81\n",
      "20181013: \"41/81\n",
      "20181020: \"42/81\n",
      "20181027: \"43/81\n",
      "20181103: \"44/81\n",
      "20181110: \"45/81\n",
      "20181117: \"46/81\n",
      "20181124: \"47/81\n",
      "20181201: \"48/81\n",
      "20181208: \"49/81\n",
      "20181215: \"50/81\n",
      "20181222: \"51/81\n",
      "20181229: \"52/81\n",
      "20190105: \"53/81\n",
      "20190112: \"54/81\n",
      "20190119: \"55/81\n",
      "20190126: \"56/81\n",
      "20190202: \"57/81\n",
      "20190209: \"58/81\n",
      "20190216: \"59/81\n",
      "20190223: \"60/81\n",
      "20190302: \"61/81\n",
      "20190309: \"62/81\n",
      "20190316: \"63/81\n",
      "20190323: \"64/81\n",
      "20190330: \"65/81\n",
      "20190406: \"66/81\n",
      "20190413: \"67/81\n",
      "20190420: \"68/81\n",
      "20190427: \"69/81\n",
      "20190504: \"70/81\n",
      "20190511: \"71/81\n",
      "20190518: \"72/81\n",
      "20190525: \"73/81\n",
      "20190601: \"74/81\n",
      "20190608: \"75/81\n",
      "20190615: \"76/81\n",
      "20190622: \"77/81\n",
      "20190629: \"78/81\n",
      "20190706: \"79/81\n",
      "20190713: \"80/81\n",
      "20190720: \"81/81\n"
     ]
    }
   ],
   "source": [
    "i = 0\n",
    "for date in date_transformed_list:\n",
    "    i += 1\n",
    "    # 접속\n",
    "    url = f'https://www.nielsenkorea.co.kr/tv_terrestrial_day.asp?menu=Tit_1&sub_menu=2_1&area=00&begin_date={date}'\n",
    "    response = requests.get(url)\n",
    "    soup = bs4.BeautifulSoup(response.content, 'lxml', from_encoding='utf-8')\n",
    "    table_rank = soup.select('table.ranking_tb>tr')  # get rating table\n",
    "    \n",
    "    # 3-13 번째 row(top10)\n",
    "    for idx in range(3, 13):\n",
    "        current_row = table_rank[idx]\n",
    "        tmp = re.sub('\\t', '', current_row.text).strip().split('\\n')\n",
    "        rating_rank['date'].append(date)\n",
    "        rating_rank['rank'].append(tmp[0])\n",
    "        rating_rank['channel'].append(tmp[1])\n",
    "        rating_rank['title'].append(tmp[2])\n",
    "        rating_rank['rating'].append(tmp[4])\n",
    "    print(f'{date}: \"{i}/{len(date_transformed_list)}')\n",
    "    time.sleep(1)"
   ]
  },
  {
   "cell_type": "code",
   "execution_count": 259,
   "metadata": {
    "ExecuteTime": {
     "end_time": "2019-07-25T14:52:01.811382Z",
     "start_time": "2019-07-25T14:52:01.806397Z"
    }
   },
   "outputs": [
    {
     "data": {
      "text/plain": [
       "81"
      ]
     },
     "execution_count": 259,
     "metadata": {},
     "output_type": "execute_result"
    }
   ],
   "source": [
    "len(date_transformed_list)"
   ]
  },
  {
   "cell_type": "code",
   "execution_count": 260,
   "metadata": {
    "ExecuteTime": {
     "end_time": "2019-07-25T14:52:02.555232Z",
     "start_time": "2019-07-25T14:52:02.549283Z"
    }
   },
   "outputs": [
    {
     "data": {
      "text/plain": [
       "810"
      ]
     },
     "execution_count": 260,
     "metadata": {},
     "output_type": "execute_result"
    }
   ],
   "source": [
    "len(rating_rank['date'])"
   ]
  },
  {
   "cell_type": "code",
   "execution_count": 261,
   "metadata": {
    "ExecuteTime": {
     "end_time": "2019-07-25T14:52:11.393705Z",
     "start_time": "2019-07-25T14:52:11.381699Z"
    }
   },
   "outputs": [],
   "source": [
    "# save as csv\n",
    "rating_rank_df = pd.DataFrame.from_dict(rating_rank)\n",
    "rating_rank_df.to_csv('rating_rank.csv', index=False)"
   ]
  },
  {
   "cell_type": "code",
   "execution_count": 173,
   "metadata": {
    "ExecuteTime": {
     "end_time": "2019-07-25T13:18:22.823836Z",
     "start_time": "2019-07-25T13:18:22.818839Z"
    }
   },
   "outputs": [],
   "source": [
    "def requestPage(url):\n",
    "    response = requests.get(url)\n",
    "    soup = bs4.BeautifulSoup(response.content, 'lxml', from_encoding='utf-8')\n",
    "    return soup"
   ]
  },
  {
   "cell_type": "code",
   "execution_count": 242,
   "metadata": {
    "ExecuteTime": {
     "end_time": "2019-07-25T14:40:19.478025Z",
     "start_time": "2019-07-25T14:40:19.471016Z"
    }
   },
   "outputs": [
    {
     "data": {
      "text/plain": [
       "810"
      ]
     },
     "execution_count": 242,
     "metadata": {},
     "output_type": "execute_result"
    }
   ],
   "source": [
    "len(date_transformed_list)"
   ]
  },
  {
   "cell_type": "markdown",
   "metadata": {},
   "source": [
    "## 트위터 언급량 크롤링\n",
    "* 본문, 계정에 방탄, bts, BTS를 포함한 트위터 게시물 수 카운트\n",
    "* reference: [twitterscraper](https://github.com/taspinar/twitterscraper/blob/master/twitterscraper/query.py)"
   ]
  },
  {
   "cell_type": "code",
   "execution_count": 38,
   "metadata": {
    "ExecuteTime": {
     "end_time": "2019-07-28T10:45:17.475591Z",
     "start_time": "2019-07-28T10:45:09.336545Z"
    }
   },
   "outputs": [],
   "source": [
    "twit_list = query_tweets('방탄 OR BTS OR bts', begindate=datetime.date(2019,6,15), enddate=datetime.date(2019,7,28), poolsize=150, lang='ko')"
   ]
  },
  {
   "cell_type": "code",
   "execution_count": 39,
   "metadata": {
    "ExecuteTime": {
     "end_time": "2019-07-28T10:45:18.949511Z",
     "start_time": "2019-07-28T10:45:18.940584Z"
    }
   },
   "outputs": [],
   "source": [
    "twit_dict = {\n",
    "    'id':[],\n",
    "    'date':[],\n",
    "    'content':[]\n",
    "}\n",
    "\n",
    "for twit in tweet_list:\n",
    "    twit_dict['id'].append(twit.fullname)\n",
    "    twit_dict['date'].append(twit.timestamp)\n",
    "    twit_dict['content'].append(twit.text)\n",
    "\n",
    "# save to csv\n",
    "pd.DataFrame.from_dict(twit_dict).to_csv('bangtan_twitter.csv', index=False)"
   ]
  }
 ],
 "metadata": {
  "kernelspec": {
   "display_name": "Python 3",
   "language": "python",
   "name": "python3"
  },
  "language_info": {
   "codemirror_mode": {
    "name": "ipython",
    "version": 3
   },
   "file_extension": ".py",
   "mimetype": "text/x-python",
   "name": "python",
   "nbconvert_exporter": "python",
   "pygments_lexer": "ipython3",
   "version": "3.7.0"
  },
  "toc": {
   "base_numbering": 1,
   "nav_menu": {},
   "number_sections": true,
   "sideBar": true,
   "skip_h1_title": true,
   "title_cell": "Table of Contents",
   "title_sidebar": "Contents",
   "toc_cell": true,
   "toc_position": {
    "height": "calc(100% - 180px)",
    "left": "10px",
    "top": "150px",
    "width": "165px"
   },
   "toc_section_display": true,
   "toc_window_display": false
  }
 },
 "nbformat": 4,
 "nbformat_minor": 2
}
