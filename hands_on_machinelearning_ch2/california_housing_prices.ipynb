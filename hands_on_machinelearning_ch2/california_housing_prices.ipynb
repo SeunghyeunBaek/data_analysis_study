{
 "cells": [
  {
   "cell_type": "markdown",
   "metadata": {
    "toc": true
   },
   "source": [
    "<h1>Table of Contents<span class=\"tocSkip\"></span></h1>\n",
    "<div class=\"toc\"><ul class=\"toc-item\"><li><span><a href=\"#목적\" data-toc-modified-id=\"목적-1\"><span class=\"toc-item-num\">1&nbsp;&nbsp;</span>목적</a></span></li><li><span><a href=\"#데이터-추출\" data-toc-modified-id=\"데이터-추출-2\"><span class=\"toc-item-num\">2&nbsp;&nbsp;</span>데이터 추출</a></span></li><li><span><a href=\"#EDA\" data-toc-modified-id=\"EDA-3\"><span class=\"toc-item-num\">3&nbsp;&nbsp;</span>EDA</a></span></li><li><span><a href=\"#테스트셋-생성\" data-toc-modified-id=\"테스트셋-생성-4\"><span class=\"toc-item-num\">4&nbsp;&nbsp;</span>테스트셋 생성</a></span><ul class=\"toc-item\"><li><span><a href=\"#계층적-샘플링\" data-toc-modified-id=\"계층적-샘플링-4.1\"><span class=\"toc-item-num\">4.1&nbsp;&nbsp;</span>계층적 샘플링</a></span></li></ul></li></ul></div>"
   ]
  },
  {
   "cell_type": "code",
   "execution_count": 114,
   "metadata": {
    "ExecuteTime": {
     "end_time": "2019-07-30T04:11:56.893713Z",
     "start_time": "2019-07-30T04:11:56.889237Z"
    }
   },
   "outputs": [],
   "source": [
    "# libraries\n",
    "\n",
    "# 데이터 추출\n",
    "import os\n",
    "import tarfile\n",
    "from six.moves import urllib\n",
    "\n",
    "# 데이터 로드\n",
    "import pandas as pd\n",
    "\n",
    "# 시각화\n",
    "import matplotlib.pyplot as plt\n",
    "import seaborn as sb\n",
    "plt.rcParams['figure.figsize'] = [12, 5]  # 플롯 기본 크기 설정\n",
    "\n",
    "# 테스트셋 생성\n",
    "import numpy as np\n",
    "from zlib import crc32\n",
    "from sklearn.model_selection import train_test_split, StratifiedShuffleSplit"
   ]
  },
  {
   "cell_type": "markdown",
   "metadata": {},
   "source": [
    "## 목적\n",
    "* 중간 주택 가격(median housing price) 예측\n",
    "* 평가 지표: RMSE\n",
    "* references: https://github.com/rickiepark/handson-ml"
   ]
  },
  {
   "cell_type": "markdown",
   "metadata": {},
   "source": [
    "## 데이터 추출"
   ]
  },
  {
   "cell_type": "code",
   "execution_count": 22,
   "metadata": {
    "ExecuteTime": {
     "end_time": "2019-07-30T02:31:51.688589Z",
     "start_time": "2019-07-30T02:31:51.683157Z"
    }
   },
   "outputs": [],
   "source": [
    "# root, url 설정\n",
    "download_root = 'https://raw.githubusercontent.com/ageron/handson-ml/master/'  # 다운로드 페이지\n",
    "housing_path = os.path.join('data')  # 저장경로\n",
    "housing_url = download_root + 'datasets/housing/housing.tgz'\n",
    "\n",
    "\n",
    "# 데이터 다운로드\n",
    "def fetch_housing_data(housing_url=housing_url, housing_path=housing_path):\n",
    "    if not os.path.isdir(housing_path):\n",
    "        os.mkdir(housing_path)\n",
    "        \n",
    "    tgz_path = os.path.join(housing_path, ' housing.tgz')\n",
    "    urllib.request.urlretrieve(housing_url, tgz_path)  # tgz_path에 저장\n",
    "    housing_tgz = tarfile.open(tgz_path)  # tgz 파일 열기\n",
    "    housing_tgz.extractall(path=housing_path)  # tgz 압축을 풀고, housing path에 저장\n",
    "    housing_tgz.close()\n",
    "    return f'downloaded data at {housing_path}/, from {housing_url}'"
   ]
  },
  {
   "cell_type": "code",
   "execution_count": 23,
   "metadata": {
    "ExecuteTime": {
     "end_time": "2019-07-30T02:31:54.751569Z",
     "start_time": "2019-07-30T02:31:54.348737Z"
    }
   },
   "outputs": [
    {
     "data": {
      "text/plain": [
       "'downloaded data at data/, from https://raw.githubusercontent.com/ageron/handson-ml/master/datasets/housing/housing.tgz'"
      ]
     },
     "execution_count": 23,
     "metadata": {},
     "output_type": "execute_result"
    }
   ],
   "source": [
    "fetch_housing_data()"
   ]
  },
  {
   "cell_type": "markdown",
   "metadata": {},
   "source": [
    "## EDA"
   ]
  },
  {
   "cell_type": "code",
   "execution_count": 43,
   "metadata": {
    "ExecuteTime": {
     "end_time": "2019-07-30T02:46:05.886212Z",
     "start_time": "2019-07-30T02:46:05.765186Z"
    }
   },
   "outputs": [
    {
     "name": "stdout",
     "output_type": "stream",
     "text": [
      "========================================head========================================\n"
     ]
    },
    {
     "data": {
      "text/html": [
       "<div>\n",
       "<style scoped>\n",
       "    .dataframe tbody tr th:only-of-type {\n",
       "        vertical-align: middle;\n",
       "    }\n",
       "\n",
       "    .dataframe tbody tr th {\n",
       "        vertical-align: top;\n",
       "    }\n",
       "\n",
       "    .dataframe thead th {\n",
       "        text-align: right;\n",
       "    }\n",
       "</style>\n",
       "<table border=\"1\" class=\"dataframe\">\n",
       "  <thead>\n",
       "    <tr style=\"text-align: right;\">\n",
       "      <th></th>\n",
       "      <th>longitude</th>\n",
       "      <th>latitude</th>\n",
       "      <th>housing_median_age</th>\n",
       "      <th>total_rooms</th>\n",
       "      <th>total_bedrooms</th>\n",
       "      <th>population</th>\n",
       "      <th>households</th>\n",
       "      <th>median_income</th>\n",
       "      <th>median_house_value</th>\n",
       "      <th>ocean_proximity</th>\n",
       "    </tr>\n",
       "  </thead>\n",
       "  <tbody>\n",
       "    <tr>\n",
       "      <th>0</th>\n",
       "      <td>-122.23</td>\n",
       "      <td>37.88</td>\n",
       "      <td>41.0</td>\n",
       "      <td>880.0</td>\n",
       "      <td>129.0</td>\n",
       "      <td>322.0</td>\n",
       "      <td>126.0</td>\n",
       "      <td>8.3252</td>\n",
       "      <td>452600.0</td>\n",
       "      <td>NEAR BAY</td>\n",
       "    </tr>\n",
       "    <tr>\n",
       "      <th>1</th>\n",
       "      <td>-122.22</td>\n",
       "      <td>37.86</td>\n",
       "      <td>21.0</td>\n",
       "      <td>7099.0</td>\n",
       "      <td>1106.0</td>\n",
       "      <td>2401.0</td>\n",
       "      <td>1138.0</td>\n",
       "      <td>8.3014</td>\n",
       "      <td>358500.0</td>\n",
       "      <td>NEAR BAY</td>\n",
       "    </tr>\n",
       "    <tr>\n",
       "      <th>2</th>\n",
       "      <td>-122.24</td>\n",
       "      <td>37.85</td>\n",
       "      <td>52.0</td>\n",
       "      <td>1467.0</td>\n",
       "      <td>190.0</td>\n",
       "      <td>496.0</td>\n",
       "      <td>177.0</td>\n",
       "      <td>7.2574</td>\n",
       "      <td>352100.0</td>\n",
       "      <td>NEAR BAY</td>\n",
       "    </tr>\n",
       "    <tr>\n",
       "      <th>3</th>\n",
       "      <td>-122.25</td>\n",
       "      <td>37.85</td>\n",
       "      <td>52.0</td>\n",
       "      <td>1274.0</td>\n",
       "      <td>235.0</td>\n",
       "      <td>558.0</td>\n",
       "      <td>219.0</td>\n",
       "      <td>5.6431</td>\n",
       "      <td>341300.0</td>\n",
       "      <td>NEAR BAY</td>\n",
       "    </tr>\n",
       "    <tr>\n",
       "      <th>4</th>\n",
       "      <td>-122.25</td>\n",
       "      <td>37.85</td>\n",
       "      <td>52.0</td>\n",
       "      <td>1627.0</td>\n",
       "      <td>280.0</td>\n",
       "      <td>565.0</td>\n",
       "      <td>259.0</td>\n",
       "      <td>3.8462</td>\n",
       "      <td>342200.0</td>\n",
       "      <td>NEAR BAY</td>\n",
       "    </tr>\n",
       "  </tbody>\n",
       "</table>\n",
       "</div>"
      ],
      "text/plain": [
       "   longitude  latitude  housing_median_age  total_rooms  total_bedrooms  \\\n",
       "0    -122.23     37.88                41.0        880.0           129.0   \n",
       "1    -122.22     37.86                21.0       7099.0          1106.0   \n",
       "2    -122.24     37.85                52.0       1467.0           190.0   \n",
       "3    -122.25     37.85                52.0       1274.0           235.0   \n",
       "4    -122.25     37.85                52.0       1627.0           280.0   \n",
       "\n",
       "   population  households  median_income  median_house_value ocean_proximity  \n",
       "0       322.0       126.0         8.3252            452600.0        NEAR BAY  \n",
       "1      2401.0      1138.0         8.3014            358500.0        NEAR BAY  \n",
       "2       496.0       177.0         7.2574            352100.0        NEAR BAY  \n",
       "3       558.0       219.0         5.6431            341300.0        NEAR BAY  \n",
       "4       565.0       259.0         3.8462            342200.0        NEAR BAY  "
      ]
     },
     "metadata": {},
     "output_type": "display_data"
    },
    {
     "name": "stdout",
     "output_type": "stream",
     "text": [
      "========================================info========================================\n",
      "<class 'pandas.core.frame.DataFrame'>\n",
      "RangeIndex: 20640 entries, 0 to 20639\n",
      "Data columns (total 10 columns):\n",
      "longitude             20640 non-null float64\n",
      "latitude              20640 non-null float64\n",
      "housing_median_age    20640 non-null float64\n",
      "total_rooms           20640 non-null float64\n",
      "total_bedrooms        20433 non-null float64\n",
      "population            20640 non-null float64\n",
      "households            20640 non-null float64\n",
      "median_income         20640 non-null float64\n",
      "median_house_value    20640 non-null float64\n",
      "ocean_proximity       20640 non-null object\n",
      "dtypes: float64(9), object(1)\n",
      "memory usage: 1.6+ MB\n"
     ]
    },
    {
     "data": {
      "text/plain": [
       "None"
      ]
     },
     "metadata": {},
     "output_type": "display_data"
    },
    {
     "name": "stdout",
     "output_type": "stream",
     "text": [
      "shape: (20640, 10)\n",
      "========================================desc========================================\n"
     ]
    },
    {
     "data": {
      "text/html": [
       "<div>\n",
       "<style scoped>\n",
       "    .dataframe tbody tr th:only-of-type {\n",
       "        vertical-align: middle;\n",
       "    }\n",
       "\n",
       "    .dataframe tbody tr th {\n",
       "        vertical-align: top;\n",
       "    }\n",
       "\n",
       "    .dataframe thead th {\n",
       "        text-align: right;\n",
       "    }\n",
       "</style>\n",
       "<table border=\"1\" class=\"dataframe\">\n",
       "  <thead>\n",
       "    <tr style=\"text-align: right;\">\n",
       "      <th></th>\n",
       "      <th>longitude</th>\n",
       "      <th>latitude</th>\n",
       "      <th>housing_median_age</th>\n",
       "      <th>total_rooms</th>\n",
       "      <th>total_bedrooms</th>\n",
       "      <th>population</th>\n",
       "      <th>households</th>\n",
       "      <th>median_income</th>\n",
       "      <th>median_house_value</th>\n",
       "      <th>ocean_proximity</th>\n",
       "    </tr>\n",
       "  </thead>\n",
       "  <tbody>\n",
       "    <tr>\n",
       "      <th>count</th>\n",
       "      <td>20640.000000</td>\n",
       "      <td>20640.000000</td>\n",
       "      <td>20640.000000</td>\n",
       "      <td>20640.000000</td>\n",
       "      <td>20433.000000</td>\n",
       "      <td>20640.000000</td>\n",
       "      <td>20640.000000</td>\n",
       "      <td>20640.000000</td>\n",
       "      <td>20640.000000</td>\n",
       "      <td>20640</td>\n",
       "    </tr>\n",
       "    <tr>\n",
       "      <th>unique</th>\n",
       "      <td>NaN</td>\n",
       "      <td>NaN</td>\n",
       "      <td>NaN</td>\n",
       "      <td>NaN</td>\n",
       "      <td>NaN</td>\n",
       "      <td>NaN</td>\n",
       "      <td>NaN</td>\n",
       "      <td>NaN</td>\n",
       "      <td>NaN</td>\n",
       "      <td>5</td>\n",
       "    </tr>\n",
       "    <tr>\n",
       "      <th>top</th>\n",
       "      <td>NaN</td>\n",
       "      <td>NaN</td>\n",
       "      <td>NaN</td>\n",
       "      <td>NaN</td>\n",
       "      <td>NaN</td>\n",
       "      <td>NaN</td>\n",
       "      <td>NaN</td>\n",
       "      <td>NaN</td>\n",
       "      <td>NaN</td>\n",
       "      <td>&lt;1H OCEAN</td>\n",
       "    </tr>\n",
       "    <tr>\n",
       "      <th>freq</th>\n",
       "      <td>NaN</td>\n",
       "      <td>NaN</td>\n",
       "      <td>NaN</td>\n",
       "      <td>NaN</td>\n",
       "      <td>NaN</td>\n",
       "      <td>NaN</td>\n",
       "      <td>NaN</td>\n",
       "      <td>NaN</td>\n",
       "      <td>NaN</td>\n",
       "      <td>9136</td>\n",
       "    </tr>\n",
       "    <tr>\n",
       "      <th>mean</th>\n",
       "      <td>-119.569704</td>\n",
       "      <td>35.631861</td>\n",
       "      <td>28.639486</td>\n",
       "      <td>2635.763081</td>\n",
       "      <td>537.870553</td>\n",
       "      <td>1425.476744</td>\n",
       "      <td>499.539680</td>\n",
       "      <td>3.870671</td>\n",
       "      <td>206855.816909</td>\n",
       "      <td>NaN</td>\n",
       "    </tr>\n",
       "    <tr>\n",
       "      <th>std</th>\n",
       "      <td>2.003532</td>\n",
       "      <td>2.135952</td>\n",
       "      <td>12.585558</td>\n",
       "      <td>2181.615252</td>\n",
       "      <td>421.385070</td>\n",
       "      <td>1132.462122</td>\n",
       "      <td>382.329753</td>\n",
       "      <td>1.899822</td>\n",
       "      <td>115395.615874</td>\n",
       "      <td>NaN</td>\n",
       "    </tr>\n",
       "    <tr>\n",
       "      <th>min</th>\n",
       "      <td>-124.350000</td>\n",
       "      <td>32.540000</td>\n",
       "      <td>1.000000</td>\n",
       "      <td>2.000000</td>\n",
       "      <td>1.000000</td>\n",
       "      <td>3.000000</td>\n",
       "      <td>1.000000</td>\n",
       "      <td>0.499900</td>\n",
       "      <td>14999.000000</td>\n",
       "      <td>NaN</td>\n",
       "    </tr>\n",
       "    <tr>\n",
       "      <th>25%</th>\n",
       "      <td>-121.800000</td>\n",
       "      <td>33.930000</td>\n",
       "      <td>18.000000</td>\n",
       "      <td>1447.750000</td>\n",
       "      <td>296.000000</td>\n",
       "      <td>787.000000</td>\n",
       "      <td>280.000000</td>\n",
       "      <td>2.563400</td>\n",
       "      <td>119600.000000</td>\n",
       "      <td>NaN</td>\n",
       "    </tr>\n",
       "    <tr>\n",
       "      <th>50%</th>\n",
       "      <td>-118.490000</td>\n",
       "      <td>34.260000</td>\n",
       "      <td>29.000000</td>\n",
       "      <td>2127.000000</td>\n",
       "      <td>435.000000</td>\n",
       "      <td>1166.000000</td>\n",
       "      <td>409.000000</td>\n",
       "      <td>3.534800</td>\n",
       "      <td>179700.000000</td>\n",
       "      <td>NaN</td>\n",
       "    </tr>\n",
       "    <tr>\n",
       "      <th>75%</th>\n",
       "      <td>-118.010000</td>\n",
       "      <td>37.710000</td>\n",
       "      <td>37.000000</td>\n",
       "      <td>3148.000000</td>\n",
       "      <td>647.000000</td>\n",
       "      <td>1725.000000</td>\n",
       "      <td>605.000000</td>\n",
       "      <td>4.743250</td>\n",
       "      <td>264725.000000</td>\n",
       "      <td>NaN</td>\n",
       "    </tr>\n",
       "    <tr>\n",
       "      <th>max</th>\n",
       "      <td>-114.310000</td>\n",
       "      <td>41.950000</td>\n",
       "      <td>52.000000</td>\n",
       "      <td>39320.000000</td>\n",
       "      <td>6445.000000</td>\n",
       "      <td>35682.000000</td>\n",
       "      <td>6082.000000</td>\n",
       "      <td>15.000100</td>\n",
       "      <td>500001.000000</td>\n",
       "      <td>NaN</td>\n",
       "    </tr>\n",
       "  </tbody>\n",
       "</table>\n",
       "</div>"
      ],
      "text/plain": [
       "           longitude      latitude  housing_median_age   total_rooms  \\\n",
       "count   20640.000000  20640.000000        20640.000000  20640.000000   \n",
       "unique           NaN           NaN                 NaN           NaN   \n",
       "top              NaN           NaN                 NaN           NaN   \n",
       "freq             NaN           NaN                 NaN           NaN   \n",
       "mean     -119.569704     35.631861           28.639486   2635.763081   \n",
       "std         2.003532      2.135952           12.585558   2181.615252   \n",
       "min      -124.350000     32.540000            1.000000      2.000000   \n",
       "25%      -121.800000     33.930000           18.000000   1447.750000   \n",
       "50%      -118.490000     34.260000           29.000000   2127.000000   \n",
       "75%      -118.010000     37.710000           37.000000   3148.000000   \n",
       "max      -114.310000     41.950000           52.000000  39320.000000   \n",
       "\n",
       "        total_bedrooms    population    households  median_income  \\\n",
       "count     20433.000000  20640.000000  20640.000000   20640.000000   \n",
       "unique             NaN           NaN           NaN            NaN   \n",
       "top                NaN           NaN           NaN            NaN   \n",
       "freq               NaN           NaN           NaN            NaN   \n",
       "mean        537.870553   1425.476744    499.539680       3.870671   \n",
       "std         421.385070   1132.462122    382.329753       1.899822   \n",
       "min           1.000000      3.000000      1.000000       0.499900   \n",
       "25%         296.000000    787.000000    280.000000       2.563400   \n",
       "50%         435.000000   1166.000000    409.000000       3.534800   \n",
       "75%         647.000000   1725.000000    605.000000       4.743250   \n",
       "max        6445.000000  35682.000000   6082.000000      15.000100   \n",
       "\n",
       "        median_house_value ocean_proximity  \n",
       "count         20640.000000           20640  \n",
       "unique                 NaN               5  \n",
       "top                    NaN       <1H OCEAN  \n",
       "freq                   NaN            9136  \n",
       "mean         206855.816909             NaN  \n",
       "std          115395.615874             NaN  \n",
       "min           14999.000000             NaN  \n",
       "25%          119600.000000             NaN  \n",
       "50%          179700.000000             NaN  \n",
       "75%          264725.000000             NaN  \n",
       "max          500001.000000             NaN  "
      ]
     },
     "metadata": {},
     "output_type": "display_data"
    }
   ],
   "source": [
    "csv_path = os.path.join(housing_path, 'housing.csv')\n",
    "housing_df = pd.read_csv(csv_path)\n",
    "\n",
    "print('='*40 + 'head' + '='* 40)\n",
    "display(housing_df.head())\n",
    "print('='*40 + 'info' + '='* 40)\n",
    "display(housing_df.info())\n",
    "print(f'shape: {housing_df.shape}')\n",
    "print('='*40 + 'desc' + '='* 40)\n",
    "display(housing_df.describe(include='all'))"
   ]
  },
  {
   "cell_type": "markdown",
   "metadata": {},
   "source": [
    "* Observations\n",
    "    * 데이터는 20640행 10열\n",
    "    * `total_bedrooms` 결측치 207건\n",
    "    * `ocean_proximity`를 제외한 모든 변수는 수치형"
   ]
  },
  {
   "cell_type": "code",
   "execution_count": 35,
   "metadata": {
    "ExecuteTime": {
     "end_time": "2019-07-30T02:41:56.283792Z",
     "start_time": "2019-07-30T02:41:55.935336Z"
    }
   },
   "outputs": [
    {
     "data": {
      "text/plain": [
       "<1H OCEAN     9136\n",
       "INLAND        6551\n",
       "NEAR OCEAN    2658\n",
       "NEAR BAY      2290\n",
       "ISLAND           5\n",
       "Name: ocean_proximity, dtype: int64"
      ]
     },
     "execution_count": 35,
     "metadata": {},
     "output_type": "execute_result"
    }
   ],
   "source": [
    "# ocean_proximity 확인\n",
    "housing_df['ocean_proximity'].value_counts()"
   ]
  },
  {
   "cell_type": "code",
   "execution_count": 59,
   "metadata": {
    "ExecuteTime": {
     "end_time": "2019-07-30T02:58:06.454300Z",
     "start_time": "2019-07-30T02:58:04.092809Z"
    }
   },
   "outputs": [
    {
     "data": {
      "image/png": "[encoded data removed]",
      "text/plain": [
       "<Figure size 1440x1080 with 9 Axes>"
      ]
     },
     "metadata": {
      "needs_background": "light"
     },
     "output_type": "display_data"
    }
   ],
   "source": [
    "# FAST EDA\n",
    "housing_df.hist(bins=50, figsize=[20, 15], color='deepskyblue')\n",
    "plt.tight_layout()\n",
    "plt.show()"
   ]
  },
  {
   "cell_type": "markdown",
   "metadata": {},
   "source": [
    "* Observations\n",
    "    * `중위주택연령(housing_median_age)`, `중위주택가격(housing_median_value)` 히스토그램 우측 값이 가장 높다.\n",
    "        * 중위주택연령과 중위주택가격의 상한선(50년, 500,000$)을 설정하고, 상한선 이상의 데이터를 모두 상한값으로 처리한것같다.\n",
    "        * 예측모델이 결과에 상한값이 적용될 수 있다. \n",
    "        * 상한값 이상의 결과를 출력하는 예측모델을 만들고 싶다면 \n",
    "            * 상한값 이상 구역의 데이터를 구해야한다.\n",
    "            * test data set에서 상한값 이상의 데이터를 제거한다. 만약 상한값 이상의 데이터가 있다면 평가 결과가 나쁠것이다.\n",
    "    * `중위소득(median_income)`은 스케일링 처리가 된 것으로 보임(0-15)\n",
    "    * 특성의 범위가 서로 다르다.\n",
    "        * 스케일링이 필요하다.\n",
    "    * `household`, `median_income`, `population`, `total_bedrooms`, `total_rooms` 히스토그램은 **양의 왜도**를 보인다."
   ]
  },
  {
   "cell_type": "markdown",
   "metadata": {},
   "source": [
    "## 테스트셋 생성\n",
    "* 데이터 스누핑(data snooping): 테스트셋을 미리 분리하지 않고 데이터를 탐색한 후 테스트 셋의 특성을 예측모델에 적용해 과적합이 발생하는 현상. 데이터를 탐색하기 전에 미리 테스트셋을 분리하는 것이 좋다. 답지를 보면서 문제 푸는것과 비슷하다."
   ]
  },
  {
   "cell_type": "code",
   "execution_count": 61,
   "metadata": {
    "ExecuteTime": {
     "end_time": "2019-07-30T03:19:34.167351Z",
     "start_time": "2019-07-30T03:19:34.158425Z"
    }
   },
   "outputs": [],
   "source": [
    "# 1. 트레인 데이터와 테스트 데이터를 8:2로 분류한다.\n",
    "def split_train_test(data, test_ratio, seed):\n",
    "    np.random.seed(seed)  # set random seed\n",
    "    \n",
    "    indices = np.random.permutation(len(data))  # 인덱스를 섞는다\n",
    "    test_size = int(len(data) * test_ratio)\n",
    "    test_indices = suffled_indices[:test_size]\n",
    "    train_indices = suffled_indices[test_size:]\n",
    "    \n",
    "    return data.iloc[train_indices], data.iloc[test_indices]"
   ]
  },
  {
   "cell_type": "code",
   "execution_count": 82,
   "metadata": {
    "ExecuteTime": {
     "end_time": "2019-07-30T03:44:59.875080Z",
     "start_time": "2019-07-30T03:44:59.772905Z"
    }
   },
   "outputs": [],
   "source": [
    "# 2. 해시값으로 테스트셋 생성\n",
    "def test_set_check(identifier, ratio):\n",
    "    return crc32(np.int64(identifier)) & 0xffffffff < ratio * 2**32\n",
    "\n",
    "\n",
    "def split_train_test_by_id(data, ratio, id_column):\n",
    "    ids = data[id_column]\n",
    "    in_test_set = ids.apply(lambda id_: test_set_check(id_, ratio))\n",
    "    return data.loc[~in_test_set], data.loc[in_test_set]\n",
    "\n",
    "housing_with_id_df = housing_df.reset_index()\n",
    "train_df, test_df = split_train_test_by_id(data=housing_with_id_df, ratio=0.2, id_column='index')\n",
    "\n",
    "# 위도, 경도와 id를 조합해 고유 식별자 생성\n",
    "housing_with_id_df['id'] = housing_df['longitude'] * 1000 + housing_df['latitude']\n",
    "train_df, test_df = split_train_test_by_id(data=housing_with_id_df, ratio=0.2, id_column='id')"
   ]
  },
  {
   "cell_type": "code",
   "execution_count": 127,
   "metadata": {
    "ExecuteTime": {
     "end_time": "2019-07-30T04:20:17.283386Z",
     "start_time": "2019-07-30T04:20:17.271982Z"
    }
   },
   "outputs": [],
   "source": [
    "# 3. sklearn 모듈 사용\n",
    "train_df, test_df = train_test_split(housing_df, test_size=0.5, random_state=42)"
   ]
  },
  {
   "cell_type": "markdown",
   "metadata": {},
   "source": [
    "### 계층적 샘플링\n",
    "    * 중위소득은 중위주택가격을 예측하는데 중요한 변수다.\n",
    "    * 테스트셋이 모집단의 중위소득을 반영할 수 있도록 계층적 샘플링을 진행한다."
   ]
  },
  {
   "cell_type": "code",
   "execution_count": 111,
   "metadata": {
    "ExecuteTime": {
     "end_time": "2019-07-30T04:11:21.238415Z",
     "start_time": "2019-07-30T04:11:21.229479Z"
    }
   },
   "outputs": [],
   "source": [
    "housing_df['income_cat'] = np.ceil(housing_df['median_income']/1.5)\n",
    "housing_df['income_cat'].where(cond=housing_df['income_cat']<5.0, other=5, inplace=True)"
   ]
  },
  {
   "cell_type": "code",
   "execution_count": 120,
   "metadata": {
    "ExecuteTime": {
     "end_time": "2019-07-30T04:15:21.114188Z",
     "start_time": "2019-07-30T04:15:21.110227Z"
    }
   },
   "outputs": [],
   "source": [
    "split = StratifiedShuffleSplit(n_splits=5, test_size=.2, random_state=42)  # 5번 뽑아보자"
   ]
  },
  {
   "cell_type": "code",
   "execution_count": 128,
   "metadata": {
    "ExecuteTime": {
     "end_time": "2019-07-30T04:20:23.233624Z",
     "start_time": "2019-07-30T04:20:23.202121Z"
    }
   },
   "outputs": [],
   "source": [
    "# y 비율에 따라 계층적 샘플링 진행\n",
    "# The target variable for supervised learning problems. Stratification is done based on the y labels.\n",
    "for train_idx, test_idx in split.split(X=housing_df, y=housing_df['income_cat']):\n",
    "    train_strat_df = housing_df.loc[train_idx]\n",
    "    test_strat_df = housing_df.loc[test_idx]"
   ]
  },
  {
   "cell_type": "code",
   "execution_count": 129,
   "metadata": {
    "ExecuteTime": {
     "end_time": "2019-07-30T04:22:46.480251Z",
     "start_time": "2019-07-30T04:22:46.468858Z"
    }
   },
   "outputs": [],
   "source": [
    "# income_cat 비율확인\n",
    "tot_income_cat_ratio = housing_df['income_cat'].value_counts()/len(housing_df)\n",
    "test_income_cat_ratio = test_df['income_cat'].value_counts()/len(test_df)\n",
    "test_strat_income_cat_ratio = test_strat_df['income_cat'].value_counts()/len(test_strat_df)"
   ]
  },
  {
   "cell_type": "code",
   "execution_count": 149,
   "metadata": {
    "ExecuteTime": {
     "end_time": "2019-07-30T04:31:23.047984Z",
     "start_time": "2019-07-30T04:31:23.031617Z"
    }
   },
   "outputs": [
    {
     "data": {
      "text/html": [
       "<div>\n",
       "<style scoped>\n",
       "    .dataframe tbody tr th:only-of-type {\n",
       "        vertical-align: middle;\n",
       "    }\n",
       "\n",
       "    .dataframe tbody tr th {\n",
       "        vertical-align: top;\n",
       "    }\n",
       "\n",
       "    .dataframe thead th {\n",
       "        text-align: right;\n",
       "    }\n",
       "</style>\n",
       "<table border=\"1\" class=\"dataframe\">\n",
       "  <thead>\n",
       "    <tr style=\"text-align: right;\">\n",
       "      <th></th>\n",
       "      <th>total</th>\n",
       "      <th>random_sample</th>\n",
       "      <th>stratified_sample</th>\n",
       "      <th>tot-random</th>\n",
       "      <th>tot-stratified</th>\n",
       "    </tr>\n",
       "  </thead>\n",
       "  <tbody>\n",
       "    <tr>\n",
       "      <th>3.0</th>\n",
       "      <td>0.350581</td>\n",
       "      <td>0.355039</td>\n",
       "      <td>0.350533</td>\n",
       "      <td>-0.004457</td>\n",
       "      <td>0.000048</td>\n",
       "    </tr>\n",
       "    <tr>\n",
       "      <th>2.0</th>\n",
       "      <td>0.318847</td>\n",
       "      <td>0.319380</td>\n",
       "      <td>0.318798</td>\n",
       "      <td>-0.000533</td>\n",
       "      <td>0.000048</td>\n",
       "    </tr>\n",
       "    <tr>\n",
       "      <th>4.0</th>\n",
       "      <td>0.176308</td>\n",
       "      <td>0.173353</td>\n",
       "      <td>0.176357</td>\n",
       "      <td>0.002955</td>\n",
       "      <td>-0.000048</td>\n",
       "    </tr>\n",
       "    <tr>\n",
       "      <th>5.0</th>\n",
       "      <td>0.114438</td>\n",
       "      <td>0.113566</td>\n",
       "      <td>0.114583</td>\n",
       "      <td>0.000872</td>\n",
       "      <td>-0.000145</td>\n",
       "    </tr>\n",
       "    <tr>\n",
       "      <th>1.0</th>\n",
       "      <td>0.039826</td>\n",
       "      <td>0.038663</td>\n",
       "      <td>0.039729</td>\n",
       "      <td>0.001163</td>\n",
       "      <td>0.000097</td>\n",
       "    </tr>\n",
       "  </tbody>\n",
       "</table>\n",
       "</div>"
      ],
      "text/plain": [
       "        total  random_sample  stratified_sample  tot-random  tot-stratified\n",
       "3.0  0.350581       0.355039           0.350533   -0.004457        0.000048\n",
       "2.0  0.318847       0.319380           0.318798   -0.000533        0.000048\n",
       "4.0  0.176308       0.173353           0.176357    0.002955       -0.000048\n",
       "5.0  0.114438       0.113566           0.114583    0.000872       -0.000145\n",
       "1.0  0.039826       0.038663           0.039729    0.001163        0.000097"
      ]
     },
     "metadata": {},
     "output_type": "display_data"
    }
   ],
   "source": [
    "res_ratio_df = pd.concat([tot_income_cat_ratio, test_income_cat_ratio, test_strat_income_cat_ratio],axis=1)\n",
    "res_ratio_df.columns=['total', 'random_sample', 'stratified_sample']\n",
    "res_ratio_df['tot-random'] = res_ratio_df['total'] - res_ratio_df['random_sample']\n",
    "res_ratio_df['tot-stratified'] = res_ratio_df['total'] - res_ratio_df['stratified_sample']\n",
    "display(res_ratio_df)"
   ]
  },
  {
   "cell_type": "code",
   "execution_count": 151,
   "metadata": {
    "ExecuteTime": {
     "end_time": "2019-07-30T04:32:31.177186Z",
     "start_time": "2019-07-30T04:32:31.170213Z"
    }
   },
   "outputs": [],
   "source": [
    "# income_cat을 삭제한다.\n",
    "for set_ in (train_strat_df, test_strat_df):\n",
    "    set_.drop(['income_cat'], axis=1, inplace=True)"
   ]
  },
  {
   "cell_type": "code",
   "execution_count": null,
   "metadata": {},
   "outputs": [],
   "source": []
  }
 ],
 "metadata": {
  "kernelspec": {
   "display_name": "Python 3",
   "language": "python",
   "name": "python3"
  },
  "language_info": {
   "codemirror_mode": {
    "name": "ipython",
    "version": 3
   },
   "file_extension": ".py",
   "mimetype": "text/x-python",
   "name": "python",
   "nbconvert_exporter": "python",
   "pygments_lexer": "ipython3",
   "version": "3.7.0"
  },
  "toc": {
   "base_numbering": 1,
   "nav_menu": {},
   "number_sections": true,
   "sideBar": true,
   "skip_h1_title": true,
   "title_cell": "Table of Contents",
   "title_sidebar": "Contents",
   "toc_cell": true,
   "toc_position": {
    "height": "calc(100% - 180px)",
    "left": "10px",
    "top": "150px",
    "width": "165px"
   },
   "toc_section_display": true,
   "toc_window_display": true
  }
 },
 "nbformat": 4,
 "nbformat_minor": 2
}
