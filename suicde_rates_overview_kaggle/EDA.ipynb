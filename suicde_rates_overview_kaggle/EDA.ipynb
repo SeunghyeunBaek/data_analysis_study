{
 "cells": [
  {
   "cell_type": "code",
   "execution_count": 16,
   "metadata": {
    "ExecuteTime": {
     "end_time": "2019-06-15T15:25:15.669106Z",
     "start_time": "2019-06-15T15:25:05.754402Z"
    }
   },
   "outputs": [],
   "source": [
    "import pandas as pd\n",
    "import matplotlib.pyplot as plt\n",
    "import seaborn as sb\n",
    "\n",
    "import pycountry_convert as pc  # 나라이름 => 대륙"
   ]
  },
  {
   "cell_type": "markdown",
   "metadata": {},
   "source": [
    "## 개요\n",
    " [Suicide Rates Overview 1985 to 2016](<https://www.kaggle.com/russellyates88/suicide-rates-overview-1985-to-2016>), kaggle\n",
    " \n",
    "* 1985년부터 2016년까지 국가, 연도, 나이구간에 따른 자살인원 수, 자살률 데이터 27,820건\n",
    "* 열 : 12개\n",
    "\n",
    "* 데이터 상세\n",
    "    * 명목형\n",
    "        * country : 101개 국가\n",
    "        * year : 연도, 1985-2016\n",
    "        * sex : 성별, male/femail\n",
    "        * age  : 나이그룹,  5-14, 15-24, 25-34, 35-54, 55-74, 75+\n",
    "        * country-year composite key : 국가-연도    \n",
    "        *  generation : 세대별 출생 연도\n",
    "            * GI Generation: 1900-1920\n",
    "            * Silent: 1925-1945\n",
    "            * Boomers: 1955-1964\n",
    "            * Generation X : 1965-1979\n",
    "            * Millenials: 1980-1994\n",
    "            * Generation Z: 1995-2015\n",
    "    * 수치형\n",
    "        * count of suicides: 해당년도 자살자 수\n",
    "        * population: 인구\n",
    "        * suicide rate: 10만명당 자살자 수\n",
    "        * [HDI for year](<https://ko.wikipedia.org/wiki/%EC%9D%B8%EA%B0%84_%EA%B0%9C%EB%B0%9C_%EC%A7%80%EC%88%98>) : 인간 개발 지수, Human Developement Index\n",
    "        * gdp_for_year : 연간 GDP\n",
    "        *  gdp_per_capita : 일인당 GPD\n",
    "    \n",
    "    \n",
    "* References\n",
    "  * [[R] Suicide Rates (in-depth) - Stats & Insights](<https://www.kaggle.com/lmorgan95/r-suicide-rates-in-depth-stats-insights>)"
   ]
  },
  {
   "cell_type": "markdown",
   "metadata": {},
   "source": [
    "## 주요 인사이트\n",
    "* 세계적으로 자살율은 감소하는 추세다\n",
    "* 연도에 따른 자살율 추이가 선형성을 띄는 국가중 2/3은 자살율이 감소하고 있다.\n",
    "* 평균적으로 나이가 많을 수록 자살율이 증가한다.\n",
    "    * 아메리카, 아시아, 유럽 대륙에서는 나이가 많을수록 자살율이 증가한다.\n",
    "    * 아프리카와 오세아니아 대륙에서는 적용되지 않는다.\n",
    "* 인당GDP와 자살율은 약한 양의 상관관계가 있다.\n",
    "* 자살율의 최댓값은 225다(인구 10만명 당 자살자 수)\n",
    "* 남성의 자살율이 상대적으로 과장됐다."
   ]
  },
  {
   "cell_type": "code",
   "execution_count": 15,
   "metadata": {
    "ExecuteTime": {
     "end_time": "2019-06-15T15:25:16.069566Z",
     "start_time": "2019-06-15T15:25:15.681393Z"
    }
   },
   "outputs": [
    {
     "data": {
      "text/html": [
       "<div>\n",
       "<style scoped>\n",
       "    .dataframe tbody tr th:only-of-type {\n",
       "        vertical-align: middle;\n",
       "    }\n",
       "\n",
       "    .dataframe tbody tr th {\n",
       "        vertical-align: top;\n",
       "    }\n",
       "\n",
       "    .dataframe thead th {\n",
       "        text-align: right;\n",
       "    }\n",
       "</style>\n",
       "<table border=\"1\" class=\"dataframe\">\n",
       "  <thead>\n",
       "    <tr style=\"text-align: right;\">\n",
       "      <th></th>\n",
       "      <th>country</th>\n",
       "      <th>year</th>\n",
       "      <th>sex</th>\n",
       "      <th>age</th>\n",
       "      <th>suicides_no</th>\n",
       "      <th>population</th>\n",
       "      <th>suicides/100k pop</th>\n",
       "      <th>country-year</th>\n",
       "      <th>HDI for year</th>\n",
       "      <th>gdp_for_year ($)</th>\n",
       "      <th>gdp_per_capita ($)</th>\n",
       "      <th>generation</th>\n",
       "    </tr>\n",
       "  </thead>\n",
       "  <tbody>\n",
       "    <tr>\n",
       "      <th>count</th>\n",
       "      <td>27820</td>\n",
       "      <td>27820.000000</td>\n",
       "      <td>27820</td>\n",
       "      <td>27820</td>\n",
       "      <td>27820.000000</td>\n",
       "      <td>2.782000e+04</td>\n",
       "      <td>27820.000000</td>\n",
       "      <td>27820</td>\n",
       "      <td>8364.000000</td>\n",
       "      <td>27820</td>\n",
       "      <td>27820.000000</td>\n",
       "      <td>27820</td>\n",
       "    </tr>\n",
       "    <tr>\n",
       "      <th>unique</th>\n",
       "      <td>101</td>\n",
       "      <td>NaN</td>\n",
       "      <td>2</td>\n",
       "      <td>6</td>\n",
       "      <td>NaN</td>\n",
       "      <td>NaN</td>\n",
       "      <td>NaN</td>\n",
       "      <td>2321</td>\n",
       "      <td>NaN</td>\n",
       "      <td>2321</td>\n",
       "      <td>NaN</td>\n",
       "      <td>6</td>\n",
       "    </tr>\n",
       "    <tr>\n",
       "      <th>top</th>\n",
       "      <td>Mauritius</td>\n",
       "      <td>NaN</td>\n",
       "      <td>male</td>\n",
       "      <td>55-74 years</td>\n",
       "      <td>NaN</td>\n",
       "      <td>NaN</td>\n",
       "      <td>NaN</td>\n",
       "      <td>Argentina1999</td>\n",
       "      <td>NaN</td>\n",
       "      <td>100,324,627,215</td>\n",
       "      <td>NaN</td>\n",
       "      <td>Generation X</td>\n",
       "    </tr>\n",
       "    <tr>\n",
       "      <th>freq</th>\n",
       "      <td>382</td>\n",
       "      <td>NaN</td>\n",
       "      <td>13910</td>\n",
       "      <td>4642</td>\n",
       "      <td>NaN</td>\n",
       "      <td>NaN</td>\n",
       "      <td>NaN</td>\n",
       "      <td>12</td>\n",
       "      <td>NaN</td>\n",
       "      <td>12</td>\n",
       "      <td>NaN</td>\n",
       "      <td>6408</td>\n",
       "    </tr>\n",
       "    <tr>\n",
       "      <th>mean</th>\n",
       "      <td>NaN</td>\n",
       "      <td>2001.258375</td>\n",
       "      <td>NaN</td>\n",
       "      <td>NaN</td>\n",
       "      <td>242.574407</td>\n",
       "      <td>1.844794e+06</td>\n",
       "      <td>12.816097</td>\n",
       "      <td>NaN</td>\n",
       "      <td>0.776601</td>\n",
       "      <td>NaN</td>\n",
       "      <td>16866.464414</td>\n",
       "      <td>NaN</td>\n",
       "    </tr>\n",
       "    <tr>\n",
       "      <th>std</th>\n",
       "      <td>NaN</td>\n",
       "      <td>8.469055</td>\n",
       "      <td>NaN</td>\n",
       "      <td>NaN</td>\n",
       "      <td>902.047917</td>\n",
       "      <td>3.911779e+06</td>\n",
       "      <td>18.961511</td>\n",
       "      <td>NaN</td>\n",
       "      <td>0.093367</td>\n",
       "      <td>NaN</td>\n",
       "      <td>18887.576472</td>\n",
       "      <td>NaN</td>\n",
       "    </tr>\n",
       "    <tr>\n",
       "      <th>min</th>\n",
       "      <td>NaN</td>\n",
       "      <td>1985.000000</td>\n",
       "      <td>NaN</td>\n",
       "      <td>NaN</td>\n",
       "      <td>0.000000</td>\n",
       "      <td>2.780000e+02</td>\n",
       "      <td>0.000000</td>\n",
       "      <td>NaN</td>\n",
       "      <td>0.483000</td>\n",
       "      <td>NaN</td>\n",
       "      <td>251.000000</td>\n",
       "      <td>NaN</td>\n",
       "    </tr>\n",
       "    <tr>\n",
       "      <th>25%</th>\n",
       "      <td>NaN</td>\n",
       "      <td>1995.000000</td>\n",
       "      <td>NaN</td>\n",
       "      <td>NaN</td>\n",
       "      <td>3.000000</td>\n",
       "      <td>9.749850e+04</td>\n",
       "      <td>0.920000</td>\n",
       "      <td>NaN</td>\n",
       "      <td>0.713000</td>\n",
       "      <td>NaN</td>\n",
       "      <td>3447.000000</td>\n",
       "      <td>NaN</td>\n",
       "    </tr>\n",
       "    <tr>\n",
       "      <th>50%</th>\n",
       "      <td>NaN</td>\n",
       "      <td>2002.000000</td>\n",
       "      <td>NaN</td>\n",
       "      <td>NaN</td>\n",
       "      <td>25.000000</td>\n",
       "      <td>4.301500e+05</td>\n",
       "      <td>5.990000</td>\n",
       "      <td>NaN</td>\n",
       "      <td>0.779000</td>\n",
       "      <td>NaN</td>\n",
       "      <td>9372.000000</td>\n",
       "      <td>NaN</td>\n",
       "    </tr>\n",
       "    <tr>\n",
       "      <th>75%</th>\n",
       "      <td>NaN</td>\n",
       "      <td>2008.000000</td>\n",
       "      <td>NaN</td>\n",
       "      <td>NaN</td>\n",
       "      <td>131.000000</td>\n",
       "      <td>1.486143e+06</td>\n",
       "      <td>16.620000</td>\n",
       "      <td>NaN</td>\n",
       "      <td>0.855000</td>\n",
       "      <td>NaN</td>\n",
       "      <td>24874.000000</td>\n",
       "      <td>NaN</td>\n",
       "    </tr>\n",
       "    <tr>\n",
       "      <th>max</th>\n",
       "      <td>NaN</td>\n",
       "      <td>2016.000000</td>\n",
       "      <td>NaN</td>\n",
       "      <td>NaN</td>\n",
       "      <td>22338.000000</td>\n",
       "      <td>4.380521e+07</td>\n",
       "      <td>224.970000</td>\n",
       "      <td>NaN</td>\n",
       "      <td>0.944000</td>\n",
       "      <td>NaN</td>\n",
       "      <td>126352.000000</td>\n",
       "      <td>NaN</td>\n",
       "    </tr>\n",
       "  </tbody>\n",
       "</table>\n",
       "</div>"
      ],
      "text/plain": [
       "          country          year    sex          age   suicides_no  \\\n",
       "count       27820  27820.000000  27820        27820  27820.000000   \n",
       "unique        101           NaN      2            6           NaN   \n",
       "top     Mauritius           NaN   male  55-74 years           NaN   \n",
       "freq          382           NaN  13910         4642           NaN   \n",
       "mean          NaN   2001.258375    NaN          NaN    242.574407   \n",
       "std           NaN      8.469055    NaN          NaN    902.047917   \n",
       "min           NaN   1985.000000    NaN          NaN      0.000000   \n",
       "25%           NaN   1995.000000    NaN          NaN      3.000000   \n",
       "50%           NaN   2002.000000    NaN          NaN     25.000000   \n",
       "75%           NaN   2008.000000    NaN          NaN    131.000000   \n",
       "max           NaN   2016.000000    NaN          NaN  22338.000000   \n",
       "\n",
       "          population  suicides/100k pop   country-year  HDI for year  \\\n",
       "count   2.782000e+04       27820.000000          27820   8364.000000   \n",
       "unique           NaN                NaN           2321           NaN   \n",
       "top              NaN                NaN  Argentina1999           NaN   \n",
       "freq             NaN                NaN             12           NaN   \n",
       "mean    1.844794e+06          12.816097            NaN      0.776601   \n",
       "std     3.911779e+06          18.961511            NaN      0.093367   \n",
       "min     2.780000e+02           0.000000            NaN      0.483000   \n",
       "25%     9.749850e+04           0.920000            NaN      0.713000   \n",
       "50%     4.301500e+05           5.990000            NaN      0.779000   \n",
       "75%     1.486143e+06          16.620000            NaN      0.855000   \n",
       "max     4.380521e+07         224.970000            NaN      0.944000   \n",
       "\n",
       "        gdp_for_year ($)   gdp_per_capita ($)    generation  \n",
       "count               27820        27820.000000         27820  \n",
       "unique               2321                 NaN             6  \n",
       "top       100,324,627,215                 NaN  Generation X  \n",
       "freq                   12                 NaN          6408  \n",
       "mean                  NaN        16866.464414           NaN  \n",
       "std                   NaN        18887.576472           NaN  \n",
       "min                   NaN          251.000000           NaN  \n",
       "25%                   NaN         3447.000000           NaN  \n",
       "50%                   NaN         9372.000000           NaN  \n",
       "75%                   NaN        24874.000000           NaN  \n",
       "max                   NaN       126352.000000           NaN  "
      ]
     },
     "execution_count": 15,
     "metadata": {},
     "output_type": "execute_result"
    }
   ],
   "source": [
    "## Load & Check data\n",
    "data_route = r'D:\\document\\data\\Suicied_rate_overview_kaggle\\master.csv'\n",
    "df_raw = pd.read_csv(data_route)\n",
    "df_raw.describe(include='all')"
   ]
  },
  {
   "cell_type": "markdown",
   "metadata": {},
   "source": [
    "## 데이터 클리닝\n",
    "* 데이터 수가 3개년 이하인 국가는 삭제\n",
    "    * Cabo Verde                 1\n",
    "    * Mongolia                   1\n",
    "    * Macau                      1\n",
    "    * Dominica                   1\n",
    "    * Bosnia and Herzegovina     2\n",
    "    * Saint Kitts and Nevis      3\n",
    "    * San Marino                 3\n",
    "    * Oman                       3\n",
    "* HDI 열의 70%가 결측치 이므로 삭제한다.\n",
    "* 대륙(continent) 변수 추가\n",
    "\n",
    "* 커널에는 있으나 적용하지 않은 요인\n",
    "    * Generation variable has problems, detailed in 2.11\n",
    "    * Africa has very few countries providing suicide data\n",
    "    * 2016 data was removed (few countries had any, those that did often had data missing)"
   ]
  },
  {
   "cell_type": "code",
   "execution_count": 5,
   "metadata": {
    "ExecuteTime": {
     "end_time": "2019-06-15T15:27:07.209122Z",
     "start_time": "2019-06-15T15:27:07.168409Z"
    }
   },
   "outputs": [
    {
     "data": {
      "text/plain": [
       "country               0.000000\n",
       "year                  0.000000\n",
       "sex                   0.000000\n",
       "age                   0.000000\n",
       "suicides_no           0.000000\n",
       "population            0.000000\n",
       "suicides/100k pop     0.000000\n",
       "country-year          0.000000\n",
       "HDI for year          0.699353\n",
       " gdp_for_year ($)     0.000000\n",
       "gdp_per_capita ($)    0.000000\n",
       "generation            0.000000\n",
       "dtype: float64"
      ]
     },
     "metadata": {},
     "output_type": "display_data"
    }
   ],
   "source": [
    "display(df_raw.isnull().mean())  # 열별 결측치 비율확인\n",
    "df_clean = df_raw.copy(deep=True)  # cleaned data frame\n",
    "df_clean.drop(columns=['HDI for year'], inplace=True) # HDI 제거"
   ]
  },
  {
   "cell_type": "code",
   "execution_count": 6,
   "metadata": {
    "ExecuteTime": {
     "end_time": "2019-06-15T15:33:28.197598Z",
     "start_time": "2019-06-15T15:33:28.157421Z"
    },
    "scrolled": true
   },
   "outputs": [
    {
     "data": {
      "text/plain": [
       "country\n",
       "Cabo Verde                1\n",
       "Mongolia                  1\n",
       "Macau                     1\n",
       "Dominica                  1\n",
       "Bosnia and Herzegovina    2\n",
       "Saint Kitts and Nevis     3\n",
       "San Marino                3\n",
       "Oman                      3\n",
       "Name: year, dtype: int64"
      ]
     },
     "metadata": {},
     "output_type": "display_data"
    }
   ],
   "source": [
    "# 나라별 몇개년 데이터가 있는가?\n",
    "year_count = df_raw.groupby(['country'])['year'].nunique().sort_values()\n",
    "display(year_count[:])\n",
    "# 데이터가 3개년 이하인 나라는 제거한다.\n",
    "country_under_3_year = year_count[year_count<=3].index \n",
    "df_clean = df_clean[df_clean['country'].apply(lambda country: False if country in  country_under_3_year else True)]"
   ]
  },
  {
   "cell_type": "code",
   "execution_count": 43,
   "metadata": {},
   "outputs": [],
   "source": [
    "# 대륙변수 추가\n",
    "df_clean['country'] = df_clean['country'].apply(lambda x: 'Saint Vincent and the Grenadines' if x=='Saint Vincent and Grenadines' else x)\n",
    "df_clean['country'] = df_clean['country'].apply(lambda x: 'South Korea' if x=='Republic of Korea' else x)\n",
    "\n",
    "def country2continet(country):\n",
    "    country_code = pc.country_name_to_country_alpha2(country, cn_name_format=\"default\")\n",
    "    continent_name = pc.country_alpha2_to_continent_code(country_code)\n",
    "    return continent_name\n",
    "\n",
    "df_clean['continent'] = df_clean['country'].apply(country2continet)"
   ]
  },
  {
   "cell_type": "markdown",
   "metadata": {},
   "source": [
    "## 국가별 분석"
   ]
  },
  {
   "cell_type": "markdown",
   "metadata": {},
   "source": [
    "### 전세계 연도별 자살율"
   ]
  },
  {
   "cell_type": "code",
   "execution_count": 113,
   "metadata": {},
   "outputs": [
    {
     "data": {
      "image/png": "[encoded data removed]",
      "text/plain": [
       "<Figure size 1080x504 with 1 Axes>"
      ]
     },
     "metadata": {
      "needs_background": "light"
     },
     "output_type": "display_data"
    }
   ],
   "source": [
    "# 연도별 인구 10만명당 자살자 수\n",
    "pop_year = df_clean.groupby(['year'])['population'].sum()\n",
    "suic_year = df_clean.groupby(['year'])['suicides_no'].sum()\n",
    "\n",
    "suic_rate_year = (suic_year/pop_year)*100000\n",
    "suic_avg = (suic_year.sum()/pop_year.sum())*100000\n",
    "\n",
    "plt.figure(figsize=(15,7))\n",
    "suic_rate_year.plot(marker='o', label='suicide rate per year', grid=True)\n",
    "plt.axhline(suic_avg, ls='--', label='average suicide rate')\n",
    "plt.title('Global suicides per 100k (1985-2016)', fontsize=15)\n",
    "plt.ylabel('suicides per 100k')\n",
    "plt.xticks(suic_rate.index, rotation=45)\n",
    "plt.legend()\n",
    "plt.show()"
   ]
  },
  {
   "cell_type": "markdown",
   "metadata": {},
   "source": [
    "* 자살율 최댓값은 15.3(명/10만명)으로 **1995**년에 발생했다.\n",
    "* **1995년부터 2015년**까지 자살율이 계속 감소했다. 2015년 자살율은 11.47(명/10만명)이다.\n",
    "* **2016년** 자살율은 11.68(명/10만명)으로 전년에 비해 소폭(0.21p(명/10만명)) 상승했다.\n",
    "* **1988년에서 1989년** 사이에 자살율이 급증했다."
   ]
  },
  {
   "cell_type": "markdown",
   "metadata": {},
   "source": [
    "### 대륙별 자살율"
   ]
  },
  {
   "cell_type": "code",
   "execution_count": 124,
   "metadata": {},
   "outputs": [
    {
     "data": {
      "text/plain": [
       "<BarContainer object of 6 artists>"
      ]
     },
     "execution_count": 124,
     "metadata": {},
     "output_type": "execute_result"
    },
    {
     "data": {
      "image/png": "[encoded data removed]",
      "text/plain": [
       "<Figure size 432x288 with 1 Axes>"
      ]
     },
     "metadata": {
      "needs_background": "light"
     },
     "output_type": "display_data"
    }
   ],
   "source": [
    "pop_continent = df_clean.groupby(['continent'])['population'].sum()\n",
    "suic_continent = df_clean.groupby(['continent'])['suicides_no'].sum()\n",
    "suic_rate_continent = (suic_continent/pop_continent)*100000\n",
    "plt.bar(x=suic_rate_continent.index, height=suic_rate_continent)"
   ]
  },
  {
   "cell_type": "markdown",
   "metadata": {},
   "source": [
    "### 성별별 경향"
   ]
  },
  {
   "cell_type": "markdown",
   "metadata": {},
   "source": [
    "### 나이대별 경향"
   ]
  },
  {
   "cell_type": "markdown",
   "metadata": {},
   "source": [
    "### 국가별 경향"
   ]
  },
  {
   "cell_type": "markdown",
   "metadata": {},
   "source": [
    "#### 개요"
   ]
  },
  {
   "cell_type": "markdown",
   "metadata": {},
   "source": [
    "#### 선형 경향"
   ]
  },
  {
   "cell_type": "markdown",
   "metadata": {},
   "source": [
    "### 대륙에 따른 성별 분포"
   ]
  },
  {
   "cell_type": "markdown",
   "metadata": {},
   "source": [
    "### 국가에 따른 성별 분포"
   ]
  },
  {
   "cell_type": "markdown",
   "metadata": {},
   "source": [
    "### 대륙에 따른 나이대 분포"
   ]
  },
  {
   "cell_type": "markdown",
   "metadata": {},
   "source": [
    "### 나라가 부유할수록 자살율이 낮은가?"
   ]
  },
  {
   "cell_type": "markdown",
   "metadata": {},
   "source": [
    "### 부유한 나라가 자살 위험이 높은가?"
   ]
  },
  {
   "cell_type": "markdown",
   "metadata": {},
   "source": [
    "### 세대 변수를 사용하지 않은 이유"
   ]
  },
  {
   "cell_type": "markdown",
   "metadata": {},
   "source": [
    "### The 5% highest risk instance in history"
   ]
  },
  {
   "cell_type": "markdown",
   "metadata": {},
   "source": [
    "### 영국, 아일랜드, 미국, 프랑스, 덴마크 비교"
   ]
  },
  {
   "cell_type": "markdown",
   "metadata": {},
   "source": [
    "#### 개요"
   ]
  },
  {
   "cell_type": "markdown",
   "metadata": {},
   "source": [
    "#### 성별에 따른 차이"
   ]
  },
  {
   "cell_type": "markdown",
   "metadata": {},
   "source": [
    "#### 2010-2015년"
   ]
  },
  {
   "cell_type": "markdown",
   "metadata": {},
   "source": [
    "#### 나이대별"
   ]
  },
  {
   "cell_type": "markdown",
   "metadata": {},
   "source": [
    "##### 남자 : 15-54세"
   ]
  },
  {
   "cell_type": "markdown",
   "metadata": {},
   "source": [
    "##### 남자 : 15-24, 25-34, 35-54 세"
   ]
  },
  {
   "cell_type": "code",
   "execution_count": null,
   "metadata": {},
   "outputs": [],
   "source": []
  }
 ],
 "metadata": {
  "kernelspec": {
   "display_name": "Python 3",
   "language": "python",
   "name": "python3"
  },
  "language_info": {
   "codemirror_mode": {
    "name": "ipython",
    "version": 3
   },
   "file_extension": ".py",
   "mimetype": "text/x-python",
   "name": "python",
   "nbconvert_exporter": "python",
   "pygments_lexer": "ipython3",
   "version": "3.7.0"
  },
  "toc": {
   "base_numbering": 1,
   "nav_menu": {},
   "number_sections": true,
   "sideBar": true,
   "skip_h1_title": true,
   "title_cell": "Table of Contents",
   "title_sidebar": "Contents",
   "toc_cell": false,
   "toc_position": {
    "height": "calc(100% - 180px)",
    "left": "10px",
    "top": "150px",
    "width": "165px"
   },
   "toc_section_display": true,
   "toc_window_display": false
  },
  "varInspector": {
   "cols": {
    "lenName": 16,
    "lenType": 16,
    "lenVar": 40
   },
   "kernels_config": {
    "python": {
     "delete_cmd_postfix": "",
     "delete_cmd_prefix": "del ",
     "library": "var_list.py",
     "varRefreshCmd": "print(var_dic_list())"
    },
    "r": {
     "delete_cmd_postfix": ") ",
     "delete_cmd_prefix": "rm(",
     "library": "var_list.r",
     "varRefreshCmd": "cat(var_dic_list()) "
    }
   },
   "types_to_exclude": [
    "module",
    "function",
    "builtin_function_or_method",
    "instance",
    "_Feature"
   ],
   "window_display": false
  }
 },
 "nbformat": 4,
 "nbformat_minor": 2
}
