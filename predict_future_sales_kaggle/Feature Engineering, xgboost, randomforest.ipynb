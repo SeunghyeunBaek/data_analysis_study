{
 "cells": [
  {
   "cell_type": "markdown",
   "metadata": {
    "toc": true
   },
   "source": [
    "<h1>Table of Contents<span class=\"tocSkip\"></span></h1>\n",
    "<div class=\"toc\"><ul class=\"toc-item\"><li><span><a href=\"#열-추가\" data-toc-modified-id=\"열-추가-1\"><span class=\"toc-item-num\">1&nbsp;&nbsp;</span>열 추가</a></span><ul class=\"toc-item\"><li><span><a href=\"#mean_price\" data-toc-modified-id=\"mean_price-1.1\"><span class=\"toc-item-num\">1.1&nbsp;&nbsp;</span>mean_price</a></span></li><li><span><a href=\"#mean_cnt_month\" data-toc-modified-id=\"mean_cnt_month-1.2\"><span class=\"toc-item-num\">1.2&nbsp;&nbsp;</span>mean_cnt_month</a></span></li><li><span><a href=\"#city\" data-toc-modified-id=\"city-1.3\"><span class=\"toc-item-num\">1.3&nbsp;&nbsp;</span>city</a></span><ul class=\"toc-item\"><li><span><a href=\"#num_city_shop\" data-toc-modified-id=\"num_city_shop-1.3.1\"><span class=\"toc-item-num\">1.3.1&nbsp;&nbsp;</span>num_city_shop</a></span></li><li><span><a href=\"#mean_city_sales\" data-toc-modified-id=\"mean_city_sales-1.3.2\"><span class=\"toc-item-num\">1.3.2&nbsp;&nbsp;</span>mean_city_sales</a></span></li></ul></li><li><span><a href=\"#mean_sales_category\" data-toc-modified-id=\"mean_sales_category-1.4\"><span class=\"toc-item-num\">1.4&nbsp;&nbsp;</span>mean_sales_category</a></span></li><li><span><a href=\"#tot_sales_category\" data-toc-modified-id=\"tot_sales_category-1.5\"><span class=\"toc-item-num\">1.5&nbsp;&nbsp;</span>tot_sales_category</a></span></li><li><span><a href=\"#필요없는-열-제거\" data-toc-modified-id=\"필요없는-열-제거-1.6\"><span class=\"toc-item-num\">1.6&nbsp;&nbsp;</span>필요없는 열 제거</a></span></li><li><span><a href=\"#dateblocknum-을-열로-바꾸기\" data-toc-modified-id=\"dateblocknum-을-열로-바꾸기-1.7\"><span class=\"toc-item-num\">1.7&nbsp;&nbsp;</span>dateblocknum 을 열로 바꾸기</a></span></li></ul></li><li><span><a href=\"#Feature-engineering\" data-toc-modified-id=\"Feature-engineering-2\"><span class=\"toc-item-num\">2&nbsp;&nbsp;</span>Feature engineering</a></span><ul class=\"toc-item\"><li><span><a href=\"#relabeling\" data-toc-modified-id=\"relabeling-2.1\"><span class=\"toc-item-num\">2.1&nbsp;&nbsp;</span>relabeling</a></span></li></ul></li><li><span><a href=\"#modeling\" data-toc-modified-id=\"modeling-3\"><span class=\"toc-item-num\">3&nbsp;&nbsp;</span>modeling</a></span><ul class=\"toc-item\"><li><span><a href=\"#xgboost\" data-toc-modified-id=\"xgboost-3.1\"><span class=\"toc-item-num\">3.1&nbsp;&nbsp;</span>xgboost</a></span><ul class=\"toc-item\"><li><span><a href=\"#feature-selection\" data-toc-modified-id=\"feature-selection-3.1.1\"><span class=\"toc-item-num\">3.1.1&nbsp;&nbsp;</span>feature selection</a></span></li></ul></li><li><span><a href=\"#linear-regression\" data-toc-modified-id=\"linear-regression-3.2\"><span class=\"toc-item-num\">3.2&nbsp;&nbsp;</span>linear regression</a></span><ul class=\"toc-item\"><li><span><a href=\"#중요-변수-20개\" data-toc-modified-id=\"중요-변수-20개-3.2.1\"><span class=\"toc-item-num\">3.2.1&nbsp;&nbsp;</span>중요 변수 20개</a></span></li></ul></li><li><span><a href=\"#random-forest\" data-toc-modified-id=\"random-forest-3.3\"><span class=\"toc-item-num\">3.3&nbsp;&nbsp;</span>random forest</a></span></li></ul></li></ul></div>"
   ]
  },
  {
   "cell_type": "code",
   "execution_count": 184,
   "metadata": {
    "ExecuteTime": {
     "end_time": "2019-04-20T12:47:24.121145Z",
     "start_time": "2019-04-20T12:47:24.114700Z"
    }
   },
   "outputs": [],
   "source": [
    "import pandas as pd # File I/O\n",
    "import numpy as np # Linear algebra\n",
    "\n",
    "# Vlusualization\n",
    "import matplotlib.pyplot as plt\n",
    "import seaborn as sb\n",
    "\n",
    "# Scaler\n",
    "from sklearn.preprocessing import MinMaxScaler\n",
    "from sklearn.preprocessing import StandardScaler\n",
    "import statsmodels.api as sm\n",
    "\n",
    "# modeling\n",
    "from sklearn.model_selection import train_test_split\n",
    "from sklearn.feature_selection import SelectFromModel\n",
    "\n",
    "import xgboost as xgb\n",
    "from sklearn.linear_model import LinearRegression\n",
    "from sklearn.ensemble import RandomForestRegressor\n",
    "from sklearn.datasets import make_regression\n",
    "\n",
    "import statsmodels.api as sm\n",
    "\n",
    "# metrices\n",
    "from sklearn.metrics import mean_squared_error as mse"
   ]
  },
  {
   "cell_type": "code",
   "execution_count": 3,
   "metadata": {
    "ExecuteTime": {
     "end_time": "2019-04-20T12:26:34.616161Z",
     "start_time": "2019-04-20T12:26:26.141449Z"
    }
   },
   "outputs": [],
   "source": [
    "df_sales = pd.read_csv('data/df_sales.csv')"
   ]
  },
  {
   "cell_type": "code",
   "execution_count": 4,
   "metadata": {
    "ExecuteTime": {
     "end_time": "2019-04-20T12:26:34.780145Z",
     "start_time": "2019-04-20T12:26:34.760800Z"
    },
    "scrolled": true
   },
   "outputs": [
    {
     "data": {
      "text/html": [
       "<div>\n",
       "<style scoped>\n",
       "    .dataframe tbody tr th:only-of-type {\n",
       "        vertical-align: middle;\n",
       "    }\n",
       "\n",
       "    .dataframe tbody tr th {\n",
       "        vertical-align: top;\n",
       "    }\n",
       "\n",
       "    .dataframe thead th {\n",
       "        text-align: right;\n",
       "    }\n",
       "</style>\n",
       "<table border=\"1\" class=\"dataframe\">\n",
       "  <thead>\n",
       "    <tr style=\"text-align: right;\">\n",
       "      <th></th>\n",
       "      <th>date</th>\n",
       "      <th>date_block_num</th>\n",
       "      <th>shop_id</th>\n",
       "      <th>item_id</th>\n",
       "      <th>item_price</th>\n",
       "      <th>item_cnt_day</th>\n",
       "      <th>day</th>\n",
       "      <th>month</th>\n",
       "      <th>year</th>\n",
       "      <th>week_day</th>\n",
       "      <th>item_cnt_month</th>\n",
       "      <th>item_name</th>\n",
       "      <th>item_category_id</th>\n",
       "      <th>item_category_name</th>\n",
       "      <th>main_category</th>\n",
       "      <th>sub_category</th>\n",
       "      <th>shop_name</th>\n",
       "      <th>city</th>\n",
       "    </tr>\n",
       "  </thead>\n",
       "  <tbody>\n",
       "    <tr>\n",
       "      <th>0</th>\n",
       "      <td>02.01.2013</td>\n",
       "      <td>0</td>\n",
       "      <td>59</td>\n",
       "      <td>22154</td>\n",
       "      <td>999.00</td>\n",
       "      <td>1.0</td>\n",
       "      <td>2</td>\n",
       "      <td>1</td>\n",
       "      <td>2013</td>\n",
       "      <td>2</td>\n",
       "      <td>1.0</td>\n",
       "      <td>ЯВЛЕНИЕ 2012 (BD)</td>\n",
       "      <td>37</td>\n",
       "      <td>Кино - Blu-Ray</td>\n",
       "      <td>Кино</td>\n",
       "      <td>Blu</td>\n",
       "      <td>Ярославль ТЦ \"Альтаир\"</td>\n",
       "      <td>Ярославль</td>\n",
       "    </tr>\n",
       "    <tr>\n",
       "      <th>1</th>\n",
       "      <td>03.01.2013</td>\n",
       "      <td>0</td>\n",
       "      <td>25</td>\n",
       "      <td>2552</td>\n",
       "      <td>899.00</td>\n",
       "      <td>1.0</td>\n",
       "      <td>3</td>\n",
       "      <td>1</td>\n",
       "      <td>2013</td>\n",
       "      <td>3</td>\n",
       "      <td>0.0</td>\n",
       "      <td>DEEP PURPLE  The House Of Blue Light  LP</td>\n",
       "      <td>58</td>\n",
       "      <td>Музыка - Винил</td>\n",
       "      <td>Музыка</td>\n",
       "      <td>Винил</td>\n",
       "      <td>Москва ТРК \"Атриум\"</td>\n",
       "      <td>Москва</td>\n",
       "    </tr>\n",
       "    <tr>\n",
       "      <th>2</th>\n",
       "      <td>05.01.2013</td>\n",
       "      <td>0</td>\n",
       "      <td>25</td>\n",
       "      <td>2552</td>\n",
       "      <td>899.00</td>\n",
       "      <td>-1.0</td>\n",
       "      <td>5</td>\n",
       "      <td>1</td>\n",
       "      <td>2013</td>\n",
       "      <td>5</td>\n",
       "      <td>0.0</td>\n",
       "      <td>DEEP PURPLE  The House Of Blue Light  LP</td>\n",
       "      <td>58</td>\n",
       "      <td>Музыка - Винил</td>\n",
       "      <td>Музыка</td>\n",
       "      <td>Винил</td>\n",
       "      <td>Москва ТРК \"Атриум\"</td>\n",
       "      <td>Москва</td>\n",
       "    </tr>\n",
       "    <tr>\n",
       "      <th>3</th>\n",
       "      <td>06.01.2013</td>\n",
       "      <td>0</td>\n",
       "      <td>25</td>\n",
       "      <td>2554</td>\n",
       "      <td>1709.05</td>\n",
       "      <td>1.0</td>\n",
       "      <td>6</td>\n",
       "      <td>1</td>\n",
       "      <td>2013</td>\n",
       "      <td>6</td>\n",
       "      <td>1.0</td>\n",
       "      <td>DEEP PURPLE  Who Do You Think We Are  LP</td>\n",
       "      <td>58</td>\n",
       "      <td>Музыка - Винил</td>\n",
       "      <td>Музыка</td>\n",
       "      <td>Винил</td>\n",
       "      <td>Москва ТРК \"Атриум\"</td>\n",
       "      <td>Москва</td>\n",
       "    </tr>\n",
       "    <tr>\n",
       "      <th>4</th>\n",
       "      <td>15.01.2013</td>\n",
       "      <td>0</td>\n",
       "      <td>25</td>\n",
       "      <td>2555</td>\n",
       "      <td>1099.00</td>\n",
       "      <td>1.0</td>\n",
       "      <td>15</td>\n",
       "      <td>1</td>\n",
       "      <td>2013</td>\n",
       "      <td>1</td>\n",
       "      <td>1.0</td>\n",
       "      <td>DEEP PURPLE 30 Very Best Of 2CD (Фирм.)</td>\n",
       "      <td>56</td>\n",
       "      <td>Музыка - CD фирменного производства</td>\n",
       "      <td>Музыка</td>\n",
       "      <td>CD фирменного производства</td>\n",
       "      <td>Москва ТРК \"Атриум\"</td>\n",
       "      <td>Москва</td>\n",
       "    </tr>\n",
       "  </tbody>\n",
       "</table>\n",
       "</div>"
      ],
      "text/plain": [
       "         date  date_block_num  shop_id  item_id  item_price  item_cnt_day  \\\n",
       "0  02.01.2013               0       59    22154      999.00           1.0   \n",
       "1  03.01.2013               0       25     2552      899.00           1.0   \n",
       "2  05.01.2013               0       25     2552      899.00          -1.0   \n",
       "3  06.01.2013               0       25     2554     1709.05           1.0   \n",
       "4  15.01.2013               0       25     2555     1099.00           1.0   \n",
       "\n",
       "   day  month  year  week_day  item_cnt_month  \\\n",
       "0    2      1  2013         2             1.0   \n",
       "1    3      1  2013         3             0.0   \n",
       "2    5      1  2013         5             0.0   \n",
       "3    6      1  2013         6             1.0   \n",
       "4   15      1  2013         1             1.0   \n",
       "\n",
       "                                  item_name  item_category_id  \\\n",
       "0                         ЯВЛЕНИЕ 2012 (BD)                37   \n",
       "1  DEEP PURPLE  The House Of Blue Light  LP                58   \n",
       "2  DEEP PURPLE  The House Of Blue Light  LP                58   \n",
       "3  DEEP PURPLE  Who Do You Think We Are  LP                58   \n",
       "4   DEEP PURPLE 30 Very Best Of 2CD (Фирм.)                56   \n",
       "\n",
       "                    item_category_name main_category  \\\n",
       "0                       Кино - Blu-Ray          Кино   \n",
       "1                       Музыка - Винил        Музыка   \n",
       "2                       Музыка - Винил        Музыка   \n",
       "3                       Музыка - Винил        Музыка   \n",
       "4  Музыка - CD фирменного производства        Музыка   \n",
       "\n",
       "                 sub_category               shop_name       city  \n",
       "0                         Blu  Ярославль ТЦ \"Альтаир\"  Ярославль  \n",
       "1                       Винил     Москва ТРК \"Атриум\"     Москва  \n",
       "2                       Винил     Москва ТРК \"Атриум\"     Москва  \n",
       "3                       Винил     Москва ТРК \"Атриум\"     Москва  \n",
       "4  CD фирменного производства     Москва ТРК \"Атриум\"     Москва  "
      ]
     },
     "execution_count": 4,
     "metadata": {},
     "output_type": "execute_result"
    }
   ],
   "source": [
    "df_sales.head()"
   ]
  },
  {
   "cell_type": "code",
   "execution_count": 5,
   "metadata": {},
   "outputs": [
    {
     "data": {
      "text/plain": [
       "32"
      ]
     },
     "execution_count": 5,
     "metadata": {},
     "output_type": "execute_result"
    }
   ],
   "source": [
    "df_sales['city'].nunique()"
   ]
  },
  {
   "cell_type": "markdown",
   "metadata": {},
   "source": [
    "## 열 추가"
   ]
  },
  {
   "cell_type": "markdown",
   "metadata": {},
   "source": [
    "### mean_price"
   ]
  },
  {
   "cell_type": "code",
   "execution_count": 6,
   "metadata": {
    "ExecuteTime": {
     "end_time": "2019-04-20T12:26:36.809303Z",
     "start_time": "2019-04-20T12:26:34.935415Z"
    }
   },
   "outputs": [],
   "source": [
    "# Price : 아이템의 평균가격\n",
    "mean_price = df_sales.groupby('item_id')['item_price'].mean().reset_index()\n",
    "mean_price = mean_price.rename(columns={'item_price':'mean_price'}) # rename\n",
    "df_sales = pd.merge(left = df_sales, right = mean_price, on = 'item_id', how = 'left')"
   ]
  },
  {
   "cell_type": "markdown",
   "metadata": {},
   "source": [
    "### mean_cnt_month"
   ]
  },
  {
   "cell_type": "code",
   "execution_count": 7,
   "metadata": {
    "ExecuteTime": {
     "end_time": "2019-04-20T12:26:40.235233Z",
     "start_time": "2019-04-20T12:26:37.414961Z"
    }
   },
   "outputs": [],
   "source": [
    "# mean_sales : 월 평균 판매량\n",
    "mean_sales = df_sales.groupby('item_id')['item_cnt_month'].mean().reset_index()\n",
    "mean_sales = mean_sales.rename(columns = {'item_cnt_month' : 'mean_cnt_month'})\n",
    "df_sales = pd.merge(left = df_sales, right = mean_sales, on = 'item_id', how = 'left')"
   ]
  },
  {
   "cell_type": "markdown",
   "metadata": {},
   "source": [
    "### city"
   ]
  },
  {
   "cell_type": "markdown",
   "metadata": {},
   "source": [
    "#### num_city_shop"
   ]
  },
  {
   "cell_type": "code",
   "execution_count": 8,
   "metadata": {
    "ExecuteTime": {
     "end_time": "2019-04-20T12:26:43.643255Z",
     "start_time": "2019-04-20T12:26:40.413733Z"
    }
   },
   "outputs": [],
   "source": [
    "# 도시내 매장 수\n",
    "num_city_shop = df_sales.groupby('city')['shop_id'].nunique().reset_index()\n",
    "num_city_shop = num_city_shop.rename(columns = {'shop_id' : 'num_city_shop'})\n",
    "df_sales = pd.merge(left = df_sales, right = num_city_shop, on = 'city', how = 'left')"
   ]
  },
  {
   "cell_type": "markdown",
   "metadata": {},
   "source": [
    "#### mean_city_sales"
   ]
  },
  {
   "cell_type": "code",
   "execution_count": 9,
   "metadata": {
    "ExecuteTime": {
     "end_time": "2019-04-20T12:26:48.739092Z",
     "start_time": "2019-04-20T12:26:45.134164Z"
    }
   },
   "outputs": [],
   "source": [
    "# 도시내 총 판매량\n",
    "city_tot_sales = df_sales.groupby('city')['item_cnt_day'].sum().reset_index()\n",
    "city_tot_sales = city_tot_sales.rename(columns = {'item_cnt_day' : 'city_tot_sales'})\n",
    "df_sales = pd.merge(left = df_sales, right = city_tot_sales, on = 'city', how = 'left')"
   ]
  },
  {
   "cell_type": "markdown",
   "metadata": {},
   "source": [
    "### mean_sales_category"
   ]
  },
  {
   "cell_type": "code",
   "execution_count": 10,
   "metadata": {
    "ExecuteTime": {
     "end_time": "2019-04-20T12:26:53.844977Z",
     "start_time": "2019-04-20T12:26:49.886837Z"
    }
   },
   "outputs": [],
   "source": [
    "# 카테고리 내 아이템 월 평균 판매량\n",
    "mean_sales_category = df_sales.groupby(['main_category','sub_category'])['item_cnt_month'].mean().reset_index()\n",
    "mean_sales_category = mean_sales_category.rename(columns = {'item_cnt_month' : 'mean_sales_category'})\n",
    "df_sales = pd.merge(left = df_sales, right = mean_sales_category, on = ['main_category','sub_category'], how = 'left')"
   ]
  },
  {
   "cell_type": "markdown",
   "metadata": {},
   "source": [
    "### tot_sales_category"
   ]
  },
  {
   "cell_type": "code",
   "execution_count": 11,
   "metadata": {
    "ExecuteTime": {
     "end_time": "2019-04-20T12:27:00.184348Z",
     "start_time": "2019-04-20T12:26:55.110705Z"
    }
   },
   "outputs": [],
   "source": [
    "# 카테고리 내 아이템 총  판매량\n",
    "total_sales_category = df_sales.groupby(['main_category','sub_category'])['item_cnt_month'].sum().reset_index()\n",
    "total_sales_category = total_sales_category.rename(columns = {'item_cnt_month' : 'total_sales_category'})\n",
    "df_sales = pd.merge(left = df_sales, right = total_sales_category, on = ['main_category','sub_category'], how = 'left')"
   ]
  },
  {
   "cell_type": "code",
   "execution_count": 12,
   "metadata": {
    "ExecuteTime": {
     "end_time": "2019-04-20T12:27:01.364273Z",
     "start_time": "2019-04-20T12:27:01.331536Z"
    }
   },
   "outputs": [
    {
     "data": {
      "text/html": [
       "<div>\n",
       "<style scoped>\n",
       "    .dataframe tbody tr th:only-of-type {\n",
       "        vertical-align: middle;\n",
       "    }\n",
       "\n",
       "    .dataframe tbody tr th {\n",
       "        vertical-align: top;\n",
       "    }\n",
       "\n",
       "    .dataframe thead th {\n",
       "        text-align: right;\n",
       "    }\n",
       "</style>\n",
       "<table border=\"1\" class=\"dataframe\">\n",
       "  <thead>\n",
       "    <tr style=\"text-align: right;\">\n",
       "      <th></th>\n",
       "      <th>date</th>\n",
       "      <th>date_block_num</th>\n",
       "      <th>shop_id</th>\n",
       "      <th>item_id</th>\n",
       "      <th>item_price</th>\n",
       "      <th>item_cnt_day</th>\n",
       "      <th>day</th>\n",
       "      <th>month</th>\n",
       "      <th>year</th>\n",
       "      <th>week_day</th>\n",
       "      <th>...</th>\n",
       "      <th>main_category</th>\n",
       "      <th>sub_category</th>\n",
       "      <th>shop_name</th>\n",
       "      <th>city</th>\n",
       "      <th>mean_price</th>\n",
       "      <th>mean_cnt_month</th>\n",
       "      <th>num_city_shop</th>\n",
       "      <th>city_tot_sales</th>\n",
       "      <th>mean_sales_category</th>\n",
       "      <th>total_sales_category</th>\n",
       "    </tr>\n",
       "  </thead>\n",
       "  <tbody>\n",
       "    <tr>\n",
       "      <th>0</th>\n",
       "      <td>02.01.2013</td>\n",
       "      <td>0</td>\n",
       "      <td>59</td>\n",
       "      <td>22154</td>\n",
       "      <td>999.00</td>\n",
       "      <td>1.0</td>\n",
       "      <td>2</td>\n",
       "      <td>1</td>\n",
       "      <td>2013</td>\n",
       "      <td>2</td>\n",
       "      <td>...</td>\n",
       "      <td>Кино</td>\n",
       "      <td>Blu</td>\n",
       "      <td>Ярославль ТЦ \"Альтаир\"</td>\n",
       "      <td>Ярославль</td>\n",
       "      <td>702.932203</td>\n",
       "      <td>1.440678</td>\n",
       "      <td>1</td>\n",
       "      <td>46768.0</td>\n",
       "      <td>2.741183</td>\n",
       "      <td>646963.0</td>\n",
       "    </tr>\n",
       "    <tr>\n",
       "      <th>1</th>\n",
       "      <td>03.01.2013</td>\n",
       "      <td>0</td>\n",
       "      <td>25</td>\n",
       "      <td>2552</td>\n",
       "      <td>899.00</td>\n",
       "      <td>1.0</td>\n",
       "      <td>3</td>\n",
       "      <td>1</td>\n",
       "      <td>2013</td>\n",
       "      <td>3</td>\n",
       "      <td>...</td>\n",
       "      <td>Музыка</td>\n",
       "      <td>Винил</td>\n",
       "      <td>Москва ТРК \"Атриум\"</td>\n",
       "      <td>Москва</td>\n",
       "      <td>937.888889</td>\n",
       "      <td>0.555556</td>\n",
       "      <td>13</td>\n",
       "      <td>1198950.0</td>\n",
       "      <td>1.282003</td>\n",
       "      <td>17566.0</td>\n",
       "    </tr>\n",
       "    <tr>\n",
       "      <th>2</th>\n",
       "      <td>05.01.2013</td>\n",
       "      <td>0</td>\n",
       "      <td>25</td>\n",
       "      <td>2552</td>\n",
       "      <td>899.00</td>\n",
       "      <td>-1.0</td>\n",
       "      <td>5</td>\n",
       "      <td>1</td>\n",
       "      <td>2013</td>\n",
       "      <td>5</td>\n",
       "      <td>...</td>\n",
       "      <td>Музыка</td>\n",
       "      <td>Винил</td>\n",
       "      <td>Москва ТРК \"Атриум\"</td>\n",
       "      <td>Москва</td>\n",
       "      <td>937.888889</td>\n",
       "      <td>0.555556</td>\n",
       "      <td>13</td>\n",
       "      <td>1198950.0</td>\n",
       "      <td>1.282003</td>\n",
       "      <td>17566.0</td>\n",
       "    </tr>\n",
       "    <tr>\n",
       "      <th>3</th>\n",
       "      <td>06.01.2013</td>\n",
       "      <td>0</td>\n",
       "      <td>25</td>\n",
       "      <td>2554</td>\n",
       "      <td>1709.05</td>\n",
       "      <td>1.0</td>\n",
       "      <td>6</td>\n",
       "      <td>1</td>\n",
       "      <td>2013</td>\n",
       "      <td>6</td>\n",
       "      <td>...</td>\n",
       "      <td>Музыка</td>\n",
       "      <td>Винил</td>\n",
       "      <td>Москва ТРК \"Атриум\"</td>\n",
       "      <td>Москва</td>\n",
       "      <td>1709.050000</td>\n",
       "      <td>1.000000</td>\n",
       "      <td>13</td>\n",
       "      <td>1198950.0</td>\n",
       "      <td>1.282003</td>\n",
       "      <td>17566.0</td>\n",
       "    </tr>\n",
       "    <tr>\n",
       "      <th>4</th>\n",
       "      <td>15.01.2013</td>\n",
       "      <td>0</td>\n",
       "      <td>25</td>\n",
       "      <td>2555</td>\n",
       "      <td>1099.00</td>\n",
       "      <td>1.0</td>\n",
       "      <td>15</td>\n",
       "      <td>1</td>\n",
       "      <td>2013</td>\n",
       "      <td>1</td>\n",
       "      <td>...</td>\n",
       "      <td>Музыка</td>\n",
       "      <td>CD фирменного производства</td>\n",
       "      <td>Москва ТРК \"Атриум\"</td>\n",
       "      <td>Москва</td>\n",
       "      <td>1123.101786</td>\n",
       "      <td>1.214286</td>\n",
       "      <td>13</td>\n",
       "      <td>1198950.0</td>\n",
       "      <td>2.496785</td>\n",
       "      <td>19802.0</td>\n",
       "    </tr>\n",
       "  </tbody>\n",
       "</table>\n",
       "<p>5 rows × 24 columns</p>\n",
       "</div>"
      ],
      "text/plain": [
       "         date  date_block_num  shop_id  item_id  item_price  item_cnt_day  \\\n",
       "0  02.01.2013               0       59    22154      999.00           1.0   \n",
       "1  03.01.2013               0       25     2552      899.00           1.0   \n",
       "2  05.01.2013               0       25     2552      899.00          -1.0   \n",
       "3  06.01.2013               0       25     2554     1709.05           1.0   \n",
       "4  15.01.2013               0       25     2555     1099.00           1.0   \n",
       "\n",
       "   day  month  year  week_day  ...  main_category                sub_category  \\\n",
       "0    2      1  2013         2  ...           Кино                         Blu   \n",
       "1    3      1  2013         3  ...         Музыка                       Винил   \n",
       "2    5      1  2013         5  ...         Музыка                       Винил   \n",
       "3    6      1  2013         6  ...         Музыка                       Винил   \n",
       "4   15      1  2013         1  ...         Музыка  CD фирменного производства   \n",
       "\n",
       "                shop_name       city   mean_price mean_cnt_month  \\\n",
       "0  Ярославль ТЦ \"Альтаир\"  Ярославль   702.932203       1.440678   \n",
       "1     Москва ТРК \"Атриум\"     Москва   937.888889       0.555556   \n",
       "2     Москва ТРК \"Атриум\"     Москва   937.888889       0.555556   \n",
       "3     Москва ТРК \"Атриум\"     Москва  1709.050000       1.000000   \n",
       "4     Москва ТРК \"Атриум\"     Москва  1123.101786       1.214286   \n",
       "\n",
       "  num_city_shop city_tot_sales  mean_sales_category  total_sales_category  \n",
       "0             1        46768.0             2.741183              646963.0  \n",
       "1            13      1198950.0             1.282003               17566.0  \n",
       "2            13      1198950.0             1.282003               17566.0  \n",
       "3            13      1198950.0             1.282003               17566.0  \n",
       "4            13      1198950.0             2.496785               19802.0  \n",
       "\n",
       "[5 rows x 24 columns]"
      ]
     },
     "execution_count": 12,
     "metadata": {},
     "output_type": "execute_result"
    }
   ],
   "source": [
    "df_sales.head()"
   ]
  },
  {
   "cell_type": "code",
   "execution_count": 13,
   "metadata": {
    "ExecuteTime": {
     "end_time": "2019-04-20T12:27:03.433646Z",
     "start_time": "2019-04-20T12:27:02.666804Z"
    }
   },
   "outputs": [
    {
     "name": "stdout",
     "output_type": "stream",
     "text": [
      "<class 'pandas.core.frame.DataFrame'>\n",
      "Int64Index: 2904495 entries, 0 to 2904494\n",
      "Data columns (total 24 columns):\n",
      "date                    object\n",
      "date_block_num          int64\n",
      "shop_id                 int64\n",
      "item_id                 int64\n",
      "item_price              float64\n",
      "item_cnt_day            float64\n",
      "day                     int64\n",
      "month                   int64\n",
      "year                    int64\n",
      "week_day                int64\n",
      "item_cnt_month          float64\n",
      "item_name               object\n",
      "item_category_id        int64\n",
      "item_category_name      object\n",
      "main_category           object\n",
      "sub_category            object\n",
      "shop_name               object\n",
      "city                    object\n",
      "mean_price              float64\n",
      "mean_cnt_month          float64\n",
      "num_city_shop           int64\n",
      "city_tot_sales          float64\n",
      "mean_sales_category     float64\n",
      "total_sales_category    float64\n",
      "dtypes: float64(8), int64(9), object(7)\n",
      "memory usage: 554.0+ MB\n"
     ]
    }
   ],
   "source": [
    "df_sales.info()"
   ]
  },
  {
   "cell_type": "markdown",
   "metadata": {},
   "source": [
    "### 필요없는 열 제거"
   ]
  },
  {
   "cell_type": "code",
   "execution_count": 14,
   "metadata": {
    "ExecuteTime": {
     "end_time": "2019-04-20T12:27:04.627961Z",
     "start_time": "2019-04-20T12:27:04.355647Z"
    }
   },
   "outputs": [],
   "source": [
    "#'item_price','shop_id','item_id','date','day','month','year','week_day','item_name','item_category_id','item_category_name','shop_name' 제거\n",
    "df_sales_2 = df_sales.drop(['item_cnt_day','item_price','item_id','shop_id','date','day','month','year','week_day','item_name','item_category_id','item_category_name','shop_name'],axis = 1)"
   ]
  },
  {
   "cell_type": "code",
   "execution_count": 15,
   "metadata": {
    "ExecuteTime": {
     "end_time": "2019-04-20T12:27:05.875923Z",
     "start_time": "2019-04-20T12:27:05.851583Z"
    }
   },
   "outputs": [
    {
     "data": {
      "text/html": [
       "<div>\n",
       "<style scoped>\n",
       "    .dataframe tbody tr th:only-of-type {\n",
       "        vertical-align: middle;\n",
       "    }\n",
       "\n",
       "    .dataframe tbody tr th {\n",
       "        vertical-align: top;\n",
       "    }\n",
       "\n",
       "    .dataframe thead th {\n",
       "        text-align: right;\n",
       "    }\n",
       "</style>\n",
       "<table border=\"1\" class=\"dataframe\">\n",
       "  <thead>\n",
       "    <tr style=\"text-align: right;\">\n",
       "      <th></th>\n",
       "      <th>date_block_num</th>\n",
       "      <th>item_cnt_month</th>\n",
       "      <th>main_category</th>\n",
       "      <th>sub_category</th>\n",
       "      <th>city</th>\n",
       "      <th>mean_price</th>\n",
       "      <th>mean_cnt_month</th>\n",
       "      <th>num_city_shop</th>\n",
       "      <th>city_tot_sales</th>\n",
       "      <th>mean_sales_category</th>\n",
       "      <th>total_sales_category</th>\n",
       "    </tr>\n",
       "  </thead>\n",
       "  <tbody>\n",
       "    <tr>\n",
       "      <th>0</th>\n",
       "      <td>0</td>\n",
       "      <td>1.0</td>\n",
       "      <td>Кино</td>\n",
       "      <td>Blu</td>\n",
       "      <td>Ярославль</td>\n",
       "      <td>702.932203</td>\n",
       "      <td>1.440678</td>\n",
       "      <td>1</td>\n",
       "      <td>46768.0</td>\n",
       "      <td>2.741183</td>\n",
       "      <td>646963.0</td>\n",
       "    </tr>\n",
       "    <tr>\n",
       "      <th>1</th>\n",
       "      <td>0</td>\n",
       "      <td>0.0</td>\n",
       "      <td>Музыка</td>\n",
       "      <td>Винил</td>\n",
       "      <td>Москва</td>\n",
       "      <td>937.888889</td>\n",
       "      <td>0.555556</td>\n",
       "      <td>13</td>\n",
       "      <td>1198950.0</td>\n",
       "      <td>1.282003</td>\n",
       "      <td>17566.0</td>\n",
       "    </tr>\n",
       "    <tr>\n",
       "      <th>2</th>\n",
       "      <td>0</td>\n",
       "      <td>0.0</td>\n",
       "      <td>Музыка</td>\n",
       "      <td>Винил</td>\n",
       "      <td>Москва</td>\n",
       "      <td>937.888889</td>\n",
       "      <td>0.555556</td>\n",
       "      <td>13</td>\n",
       "      <td>1198950.0</td>\n",
       "      <td>1.282003</td>\n",
       "      <td>17566.0</td>\n",
       "    </tr>\n",
       "    <tr>\n",
       "      <th>3</th>\n",
       "      <td>0</td>\n",
       "      <td>1.0</td>\n",
       "      <td>Музыка</td>\n",
       "      <td>Винил</td>\n",
       "      <td>Москва</td>\n",
       "      <td>1709.050000</td>\n",
       "      <td>1.000000</td>\n",
       "      <td>13</td>\n",
       "      <td>1198950.0</td>\n",
       "      <td>1.282003</td>\n",
       "      <td>17566.0</td>\n",
       "    </tr>\n",
       "    <tr>\n",
       "      <th>4</th>\n",
       "      <td>0</td>\n",
       "      <td>1.0</td>\n",
       "      <td>Музыка</td>\n",
       "      <td>CD фирменного производства</td>\n",
       "      <td>Москва</td>\n",
       "      <td>1123.101786</td>\n",
       "      <td>1.214286</td>\n",
       "      <td>13</td>\n",
       "      <td>1198950.0</td>\n",
       "      <td>2.496785</td>\n",
       "      <td>19802.0</td>\n",
       "    </tr>\n",
       "  </tbody>\n",
       "</table>\n",
       "</div>"
      ],
      "text/plain": [
       "   date_block_num  item_cnt_month main_category                sub_category  \\\n",
       "0               0             1.0          Кино                         Blu   \n",
       "1               0             0.0        Музыка                       Винил   \n",
       "2               0             0.0        Музыка                       Винил   \n",
       "3               0             1.0        Музыка                       Винил   \n",
       "4               0             1.0        Музыка  CD фирменного производства   \n",
       "\n",
       "        city   mean_price  mean_cnt_month  num_city_shop  city_tot_sales  \\\n",
       "0  Ярославль   702.932203        1.440678              1         46768.0   \n",
       "1     Москва   937.888889        0.555556             13       1198950.0   \n",
       "2     Москва   937.888889        0.555556             13       1198950.0   \n",
       "3     Москва  1709.050000        1.000000             13       1198950.0   \n",
       "4     Москва  1123.101786        1.214286             13       1198950.0   \n",
       "\n",
       "   mean_sales_category  total_sales_category  \n",
       "0             2.741183              646963.0  \n",
       "1             1.282003               17566.0  \n",
       "2             1.282003               17566.0  \n",
       "3             1.282003               17566.0  \n",
       "4             2.496785               19802.0  "
      ]
     },
     "execution_count": 15,
     "metadata": {},
     "output_type": "execute_result"
    }
   ],
   "source": [
    "df_sales_2.head()"
   ]
  },
  {
   "cell_type": "code",
   "execution_count": 16,
   "metadata": {
    "ExecuteTime": {
     "end_time": "2019-04-20T12:27:06.797491Z",
     "start_time": "2019-04-20T12:27:06.794975Z"
    }
   },
   "outputs": [],
   "source": [
    "cols = df_sales_2.columns.tolist()"
   ]
  },
  {
   "cell_type": "code",
   "execution_count": 17,
   "metadata": {
    "ExecuteTime": {
     "end_time": "2019-04-20T12:27:07.560302Z",
     "start_time": "2019-04-20T12:27:07.554847Z"
    }
   },
   "outputs": [
    {
     "data": {
      "text/plain": [
       "['date_block_num',\n",
       " 'item_cnt_month',\n",
       " 'main_category',\n",
       " 'sub_category',\n",
       " 'city',\n",
       " 'mean_price',\n",
       " 'mean_cnt_month',\n",
       " 'num_city_shop',\n",
       " 'city_tot_sales',\n",
       " 'mean_sales_category',\n",
       " 'total_sales_category']"
      ]
     },
     "execution_count": 17,
     "metadata": {},
     "output_type": "execute_result"
    }
   ],
   "source": [
    "cols"
   ]
  },
  {
   "cell_type": "markdown",
   "metadata": {},
   "source": [
    "### dateblocknum 을 열로 바꾸기"
   ]
  },
  {
   "cell_type": "code",
   "execution_count": 18,
   "metadata": {
    "ExecuteTime": {
     "end_time": "2019-04-20T12:27:27.511952Z",
     "start_time": "2019-04-20T12:27:23.227158Z"
    }
   },
   "outputs": [],
   "source": [
    "df_sales_3 = df_sales_2.pivot_table('item_cnt_month', ['city','main_category','sub_category','mean_price','num_city_shop','city_tot_sales','mean_sales_category','total_sales_category'], 'date_block_num').reset_index().fillna(0)"
   ]
  },
  {
   "cell_type": "code",
   "execution_count": 19,
   "metadata": {
    "ExecuteTime": {
     "end_time": "2019-04-20T07:35:32.283415Z",
     "start_time": "2019-04-20T07:35:22.866325Z"
    }
   },
   "outputs": [],
   "source": [
    "df_sales_3.to_csv('data/df_sales_3.csv',index = False)"
   ]
  },
  {
   "cell_type": "code",
   "execution_count": 20,
   "metadata": {
    "ExecuteTime": {
     "end_time": "2019-04-20T12:16:56.611646Z",
     "start_time": "2019-04-20T12:16:53.876344Z"
    }
   },
   "outputs": [],
   "source": [
    "df_sales_3 = pd.read_csv('data/df_sales_3.csv')"
   ]
  },
  {
   "cell_type": "code",
   "execution_count": 21,
   "metadata": {
    "ExecuteTime": {
     "end_time": "2019-04-20T12:17:03.394233Z",
     "start_time": "2019-04-20T12:17:03.223204Z"
    }
   },
   "outputs": [
    {
     "data": {
      "text/html": [
       "<div>\n",
       "<style scoped>\n",
       "    .dataframe tbody tr th:only-of-type {\n",
       "        vertical-align: middle;\n",
       "    }\n",
       "\n",
       "    .dataframe tbody tr th {\n",
       "        vertical-align: top;\n",
       "    }\n",
       "\n",
       "    .dataframe thead th {\n",
       "        text-align: right;\n",
       "    }\n",
       "</style>\n",
       "<table border=\"1\" class=\"dataframe\">\n",
       "  <thead>\n",
       "    <tr style=\"text-align: right;\">\n",
       "      <th></th>\n",
       "      <th>city</th>\n",
       "      <th>main_category</th>\n",
       "      <th>sub_category</th>\n",
       "      <th>mean_price</th>\n",
       "      <th>num_city_shop</th>\n",
       "      <th>city_tot_sales</th>\n",
       "      <th>mean_sales_category</th>\n",
       "      <th>total_sales_category</th>\n",
       "      <th>0</th>\n",
       "      <th>1</th>\n",
       "      <th>...</th>\n",
       "      <th>24</th>\n",
       "      <th>25</th>\n",
       "      <th>26</th>\n",
       "      <th>27</th>\n",
       "      <th>28</th>\n",
       "      <th>29</th>\n",
       "      <th>30</th>\n",
       "      <th>31</th>\n",
       "      <th>32</th>\n",
       "      <th>33</th>\n",
       "    </tr>\n",
       "  </thead>\n",
       "  <tbody>\n",
       "    <tr>\n",
       "      <th>0</th>\n",
       "      <td>!Якутск</td>\n",
       "      <td>PC</td>\n",
       "      <td>Гарнитуры/Наушники</td>\n",
       "      <td>93.000000</td>\n",
       "      <td>2</td>\n",
       "      <td>18016.0</td>\n",
       "      <td>1.000000</td>\n",
       "      <td>3.0</td>\n",
       "      <td>0.0</td>\n",
       "      <td>1.0</td>\n",
       "      <td>...</td>\n",
       "      <td>0.0</td>\n",
       "      <td>0.0</td>\n",
       "      <td>0.0</td>\n",
       "      <td>0.0</td>\n",
       "      <td>0.0</td>\n",
       "      <td>0.0</td>\n",
       "      <td>0.0</td>\n",
       "      <td>0.0</td>\n",
       "      <td>0.0</td>\n",
       "      <td>0.0</td>\n",
       "    </tr>\n",
       "    <tr>\n",
       "      <th>1</th>\n",
       "      <td>!Якутск</td>\n",
       "      <td>Аксессуары</td>\n",
       "      <td>PS2</td>\n",
       "      <td>283.000000</td>\n",
       "      <td>2</td>\n",
       "      <td>18016.0</td>\n",
       "      <td>1.000000</td>\n",
       "      <td>2.0</td>\n",
       "      <td>0.0</td>\n",
       "      <td>1.0</td>\n",
       "      <td>...</td>\n",
       "      <td>0.0</td>\n",
       "      <td>0.0</td>\n",
       "      <td>0.0</td>\n",
       "      <td>0.0</td>\n",
       "      <td>0.0</td>\n",
       "      <td>0.0</td>\n",
       "      <td>0.0</td>\n",
       "      <td>0.0</td>\n",
       "      <td>0.0</td>\n",
       "      <td>0.0</td>\n",
       "    </tr>\n",
       "    <tr>\n",
       "      <th>2</th>\n",
       "      <td>!Якутск</td>\n",
       "      <td>Аксессуары</td>\n",
       "      <td>PS3</td>\n",
       "      <td>93.000000</td>\n",
       "      <td>2</td>\n",
       "      <td>18016.0</td>\n",
       "      <td>3.325064</td>\n",
       "      <td>61384.0</td>\n",
       "      <td>0.0</td>\n",
       "      <td>1.0</td>\n",
       "      <td>...</td>\n",
       "      <td>0.0</td>\n",
       "      <td>0.0</td>\n",
       "      <td>0.0</td>\n",
       "      <td>0.0</td>\n",
       "      <td>0.0</td>\n",
       "      <td>0.0</td>\n",
       "      <td>0.0</td>\n",
       "      <td>0.0</td>\n",
       "      <td>0.0</td>\n",
       "      <td>0.0</td>\n",
       "    </tr>\n",
       "    <tr>\n",
       "      <th>3</th>\n",
       "      <td>!Якутск</td>\n",
       "      <td>Аксессуары</td>\n",
       "      <td>PS3</td>\n",
       "      <td>367.666667</td>\n",
       "      <td>2</td>\n",
       "      <td>18016.0</td>\n",
       "      <td>3.325064</td>\n",
       "      <td>61384.0</td>\n",
       "      <td>0.0</td>\n",
       "      <td>1.0</td>\n",
       "      <td>...</td>\n",
       "      <td>0.0</td>\n",
       "      <td>0.0</td>\n",
       "      <td>0.0</td>\n",
       "      <td>0.0</td>\n",
       "      <td>0.0</td>\n",
       "      <td>0.0</td>\n",
       "      <td>0.0</td>\n",
       "      <td>0.0</td>\n",
       "      <td>0.0</td>\n",
       "      <td>0.0</td>\n",
       "    </tr>\n",
       "    <tr>\n",
       "      <th>4</th>\n",
       "      <td>!Якутск</td>\n",
       "      <td>Аксессуары</td>\n",
       "      <td>PS3</td>\n",
       "      <td>378.000000</td>\n",
       "      <td>2</td>\n",
       "      <td>18016.0</td>\n",
       "      <td>3.325064</td>\n",
       "      <td>61384.0</td>\n",
       "      <td>0.0</td>\n",
       "      <td>1.0</td>\n",
       "      <td>...</td>\n",
       "      <td>0.0</td>\n",
       "      <td>0.0</td>\n",
       "      <td>0.0</td>\n",
       "      <td>0.0</td>\n",
       "      <td>0.0</td>\n",
       "      <td>0.0</td>\n",
       "      <td>0.0</td>\n",
       "      <td>0.0</td>\n",
       "      <td>0.0</td>\n",
       "      <td>0.0</td>\n",
       "    </tr>\n",
       "  </tbody>\n",
       "</table>\n",
       "<p>5 rows × 42 columns</p>\n",
       "</div>"
      ],
      "text/plain": [
       "      city main_category        sub_category  mean_price  num_city_shop  \\\n",
       "0  !Якутск            PC  Гарнитуры/Наушники   93.000000              2   \n",
       "1  !Якутск    Аксессуары                 PS2  283.000000              2   \n",
       "2  !Якутск    Аксессуары                 PS3   93.000000              2   \n",
       "3  !Якутск    Аксессуары                 PS3  367.666667              2   \n",
       "4  !Якутск    Аксессуары                 PS3  378.000000              2   \n",
       "\n",
       "   city_tot_sales  mean_sales_category  total_sales_category    0    1  ...  \\\n",
       "0         18016.0             1.000000                   3.0  0.0  1.0  ...   \n",
       "1         18016.0             1.000000                   2.0  0.0  1.0  ...   \n",
       "2         18016.0             3.325064               61384.0  0.0  1.0  ...   \n",
       "3         18016.0             3.325064               61384.0  0.0  1.0  ...   \n",
       "4         18016.0             3.325064               61384.0  0.0  1.0  ...   \n",
       "\n",
       "    24   25   26   27   28   29   30   31   32   33  \n",
       "0  0.0  0.0  0.0  0.0  0.0  0.0  0.0  0.0  0.0  0.0  \n",
       "1  0.0  0.0  0.0  0.0  0.0  0.0  0.0  0.0  0.0  0.0  \n",
       "2  0.0  0.0  0.0  0.0  0.0  0.0  0.0  0.0  0.0  0.0  \n",
       "3  0.0  0.0  0.0  0.0  0.0  0.0  0.0  0.0  0.0  0.0  \n",
       "4  0.0  0.0  0.0  0.0  0.0  0.0  0.0  0.0  0.0  0.0  \n",
       "\n",
       "[5 rows x 42 columns]"
      ]
     },
     "execution_count": 21,
     "metadata": {},
     "output_type": "execute_result"
    }
   ],
   "source": [
    "df_sales_3.head()"
   ]
  },
  {
   "cell_type": "code",
   "execution_count": 22,
   "metadata": {},
   "outputs": [
    {
     "data": {
      "text/plain": [
       "array(['!Якутск', 'Адыгея', 'Балашиха', 'Волжский', 'Вологда', 'Воронеж',\n",
       "       'Выездная', 'Жуковский', 'Интернет-магазин', 'Казань', 'Калуга',\n",
       "       'Коломна', 'Красноярск', 'Курск', 'Москва', 'Мытищи', 'Н.Новгород',\n",
       "       'Новосибирск', 'Омск', 'РостовНаДону', 'СПб', 'Самара', 'Сергиев',\n",
       "       'Сургут', 'Томск', 'Тюмень', 'Уфа', 'Химки', 'Цифровой', 'Чехов',\n",
       "       'Якутск', 'Ярославль'], dtype=object)"
      ]
     },
     "execution_count": 22,
     "metadata": {},
     "output_type": "execute_result"
    }
   ],
   "source": [
    "df_sales_3['city'].unique()"
   ]
  },
  {
   "cell_type": "code",
   "execution_count": 23,
   "metadata": {},
   "outputs": [
    {
     "data": {
      "text/plain": [
       "(257172, 42)"
      ]
     },
     "execution_count": 23,
     "metadata": {},
     "output_type": "execute_result"
    }
   ],
   "source": [
    "df_sales_3.shape"
   ]
  },
  {
   "cell_type": "markdown",
   "metadata": {},
   "source": [
    "## Feature engineering"
   ]
  },
  {
   "cell_type": "markdown",
   "metadata": {},
   "source": [
    "### relabeling"
   ]
  },
  {
   "cell_type": "markdown",
   "metadata": {},
   "source": [
    "'33'을 기준으로 증가하도록 재정렬"
   ]
  },
  {
   "cell_type": "code",
   "execution_count": 24,
   "metadata": {},
   "outputs": [],
   "source": [
    "df_sales_4 = df_sales_3.copy(deep=True)"
   ]
  },
  {
   "cell_type": "code",
   "execution_count": 25,
   "metadata": {},
   "outputs": [],
   "source": [
    "n_rows = df_sales_4.shape[0]\n",
    "n_cols = df_sales_4.shape[1]"
   ]
  },
  {
   "cell_type": "code",
   "execution_count": 26,
   "metadata": {},
   "outputs": [],
   "source": [
    "features = ['city', 'main_category', 'sub_category', 'mean_price', 'num_city_shop','city_tot_sales', 'mean_sales_category', 'total_sales_category']"
   ]
  },
  {
   "cell_type": "code",
   "execution_count": 27,
   "metadata": {},
   "outputs": [
    {
     "data": {
      "text/plain": [
       "array(['!Якутск', 'Адыгея', 'Балашиха', 'Волжский', 'Вологда', 'Воронеж',\n",
       "       'Выездная', 'Жуковский', 'Интернет-магазин', 'Казань', 'Калуга',\n",
       "       'Коломна', 'Красноярск', 'Курск', 'Москва', 'Мытищи', 'Н.Новгород',\n",
       "       'Новосибирск', 'Омск', 'РостовНаДону', 'СПб', 'Самара', 'Сергиев',\n",
       "       'Сургут', 'Томск', 'Тюмень', 'Уфа', 'Химки', 'Цифровой', 'Чехов',\n",
       "       'Якутск', 'Ярославль'], dtype=object)"
      ]
     },
     "execution_count": 27,
     "metadata": {},
     "output_type": "execute_result"
    }
   ],
   "source": [
    "df_sales_4['city'].unique()"
   ]
  },
  {
   "cell_type": "code",
   "execution_count": 28,
   "metadata": {},
   "outputs": [
    {
     "name": "stdout",
     "output_type": "stream",
     "text": [
      "city relabelling\n",
      "main_category relabelling\n",
      "sub_category relabelling\n",
      "mean_price relabelling\n",
      "num_city_shop relabelling\n",
      "city_tot_sales relabelling\n",
      "mean_sales_category relabelling\n",
      "total_sales_category relabelling\n"
     ]
    }
   ],
   "source": [
    "for feat in features:\n",
    "    print(f'{feat} relabelling')\n",
    "    x = df_sales_4.groupby(feat)['33'].mean().sort_values().reset_index()\n",
    "    rank = x.index\n",
    "    att = x[feat]\n",
    "    dict_rank = dict(zip(att,rank))\n",
    "    df_sales_4[feat] = df_sales_4[feat].apply(lambda val : dict_rank[val])"
   ]
  },
  {
   "cell_type": "markdown",
   "metadata": {},
   "source": [
    "## modeling\n",
    "* xgboost : 1.107\n",
    "* randomforest : 1.134"
   ]
  },
  {
   "cell_type": "markdown",
   "metadata": {},
   "source": [
    "### xgboost"
   ]
  },
  {
   "cell_type": "code",
   "execution_count": 51,
   "metadata": {
    "scrolled": true
   },
   "outputs": [],
   "source": [
    "x = df_sales_4.drop(['33'],axis =1)\n",
    "y = df_sales_4['33']"
   ]
  },
  {
   "cell_type": "code",
   "execution_count": 52,
   "metadata": {},
   "outputs": [],
   "source": [
    "x_train,x_test,y_train,y_test = train_test_split(x,y,test_size =0.3, random_state = 123)"
   ]
  },
  {
   "cell_type": "code",
   "execution_count": 80,
   "metadata": {
    "scrolled": true
   },
   "outputs": [
    {
     "data": {
      "image/png": "[encoded data removed]",
      "text/plain": [
       "<Figure size 864x1296 with 1 Axes>"
      ]
     },
     "metadata": {
      "needs_background": "light"
     },
     "output_type": "display_data"
    }
   ],
   "source": [
    "# xgb\n",
    "xgb_params = {\n",
    "    'eta': 0.005,\n",
    "    'max_depth': 20,\n",
    "    'subsample': 0.7,\n",
    "    'colsample_bytree': 0.7,\n",
    "    'objective': 'reg:linear',\n",
    "    'silent': 1,\n",
    "    'seed' : 0\n",
    "}\n",
    "dtrain = xgb.DMatrix(x_train, y_train, feature_names=x_train.columns.values)\n",
    "\n",
    "XGB_model = xgb.train(dict(xgb_params, silent=0), dtrain, num_boost_round=50)\n",
    "\n",
    "# plot the important features #\n",
    "fig, ax = plt.subplots(figsize=(12,18))\n",
    "xgb.plot_importance(XGB_model, max_num_features=50, height=0.8, ax=ax, color = 'deeppink')\n",
    "plt.show()"
   ]
  },
  {
   "cell_type": "code",
   "execution_count": 81,
   "metadata": {},
   "outputs": [],
   "source": [
    "dtest = xgb.DMatrix(x_test, feature_names=x_test.columns.values)\n",
    "y_pred = XGB_model.predict(dtest)"
   ]
  },
  {
   "cell_type": "code",
   "execution_count": 84,
   "metadata": {},
   "outputs": [
    {
     "data": {
      "text/plain": [
       "1.1076078842418977"
      ]
     },
     "execution_count": 84,
     "metadata": {},
     "output_type": "execute_result"
    }
   ],
   "source": [
    "np.sqrt(mse(y_test,y_pred))"
   ]
  },
  {
   "cell_type": "markdown",
   "metadata": {},
   "source": [
    "#### feature selection"
   ]
  },
  {
   "cell_type": "code",
   "execution_count": 178,
   "metadata": {},
   "outputs": [],
   "source": [
    "feature_top_20 = ['mean_price','city','sub_category','main_category','sub_category','city_tot_sales','mean_sales_category',\n",
    "                 '23','31','30','27','26','28','32','22','num_city_shop','21','25','29','24','33']"
   ]
  },
  {
   "cell_type": "markdown",
   "metadata": {},
   "source": [
    "### linear regression"
   ]
  },
  {
   "cell_type": "code",
   "execution_count": 96,
   "metadata": {},
   "outputs": [
    {
     "data": {
      "text/plain": [
       "4.5612421831765495"
      ]
     },
     "execution_count": 96,
     "metadata": {},
     "output_type": "execute_result"
    }
   ],
   "source": [
    "ols = sm.OLS(endog = y_train, exog =x_train)\n",
    "lm = ols.fit()\n",
    "y_pred_lm = lm.predict(x_test)\n",
    "rmse = np.sqrt(mse(y_test,y_pred_lm))\n",
    "rmse"
   ]
  },
  {
   "cell_type": "code",
   "execution_count": 97,
   "metadata": {
    "scrolled": true
   },
   "outputs": [
    {
     "name": "stdout",
     "output_type": "stream",
     "text": [
      "                            OLS Regression Results                            \n",
      "==============================================================================\n",
      "Dep. Variable:                     33   R-squared:                       0.583\n",
      "Model:                            OLS   Adj. R-squared:                  0.582\n",
      "Method:                 Least Squares   F-statistic:                     6125.\n",
      "Date:                Mon, 22 Apr 2019   Prob (F-statistic):               0.00\n",
      "Time:                        17:26:30   Log-Likelihood:            -4.8243e+05\n",
      "No. Observations:              180020   AIC:                         9.649e+05\n",
      "Df Residuals:                  179979   BIC:                         9.654e+05\n",
      "Df Model:                          41                                         \n",
      "Covariance Type:            nonrobust                                         \n",
      "========================================================================================\n",
      "                           coef    std err          t      P>|t|      [0.025      0.975]\n",
      "----------------------------------------------------------------------------------------\n",
      "city                    -0.0666      0.027     -2.448      0.014      -0.120      -0.013\n",
      "main_category           -0.0154      0.003     -4.496      0.000      -0.022      -0.009\n",
      "sub_category            -0.0053      0.003     -1.860      0.063      -0.011       0.000\n",
      "mean_price           -4.906e-06   1.82e-06     -2.689      0.007   -8.48e-06   -1.33e-06\n",
      "num_city_shop            0.0031      0.010      0.308      0.758      -0.016       0.023\n",
      "city_tot_sales           0.0635      0.027      2.331      0.020       0.010       0.117\n",
      "mean_sales_category     -0.0253      0.011     -2.319      0.020      -0.047      -0.004\n",
      "total_sales_category     0.0263      0.010      2.508      0.012       0.006       0.047\n",
      "0                       -0.0215      0.007     -3.042      0.002      -0.035      -0.008\n",
      "1                       -0.0311      0.007     -4.296      0.000      -0.045      -0.017\n",
      "2                        0.0071      0.006      1.170      0.242      -0.005       0.019\n",
      "3                       -0.0257      0.009     -2.734      0.006      -0.044      -0.007\n",
      "4                       -0.0834      0.009     -9.494      0.000      -0.101      -0.066\n",
      "5                        0.0983      0.008     12.345      0.000       0.083       0.114\n",
      "6                       -0.0873      0.010     -8.489      0.000      -0.107      -0.067\n",
      "7                        0.0364      0.006      5.730      0.000       0.024       0.049\n",
      "8                       -0.0198      0.004     -5.056      0.000      -0.027      -0.012\n",
      "9                       -0.0945      0.004    -21.486      0.000      -0.103      -0.086\n",
      "10                       0.8003      0.006    141.986      0.000       0.789       0.811\n",
      "11                      -0.5112      0.007    -76.250      0.000      -0.524      -0.498\n",
      "12                      -0.2963      0.010    -28.567      0.000      -0.317      -0.276\n",
      "13                       0.5201      0.009     59.606      0.000       0.503       0.537\n",
      "14                       0.4963      0.008     63.575      0.000       0.481       0.512\n",
      "15                      -0.0982      0.006    -15.639      0.000      -0.111      -0.086\n",
      "16                       0.4933      0.009     56.413      0.000       0.476       0.510\n",
      "17                      -0.2856      0.011    -24.906      0.000      -0.308      -0.263\n",
      "18                      -0.1238      0.011    -11.033      0.000      -0.146      -0.102\n",
      "19                      -0.2641      0.009    -28.100      0.000      -0.282      -0.246\n",
      "20                       0.0311      0.004      7.228      0.000       0.023       0.040\n",
      "21                       0.0085      0.003      3.036      0.002       0.003       0.014\n",
      "22                       0.2076      0.005     40.773      0.000       0.198       0.218\n",
      "23                      -0.0392      0.006     -6.527      0.000      -0.051      -0.027\n",
      "24                      -0.0366      0.003    -11.809      0.000      -0.043      -0.031\n",
      "25                      -0.0951      0.010     -9.670      0.000      -0.114      -0.076\n",
      "26                       0.1380      0.007     19.536      0.000       0.124       0.152\n",
      "27                       0.0111      0.002      5.332      0.000       0.007       0.015\n",
      "28                       0.6875      0.004    177.648      0.000       0.680       0.695\n",
      "29                       0.1414      0.012     11.389      0.000       0.117       0.166\n",
      "30                       1.5282      0.014    108.886      0.000       1.501       1.556\n",
      "31                      -0.6547      0.011    -59.610      0.000      -0.676      -0.633\n",
      "32                       0.0097      0.001      7.211      0.000       0.007       0.012\n",
      "==============================================================================\n",
      "Omnibus:                   680793.225   Durbin-Watson:                   1.998\n",
      "Prob(Omnibus):                  0.000   Jarque-Bera (JB):    5083241126020.349\n",
      "Skew:                          84.725   Prob(JB):                         0.00\n",
      "Kurtosis:                   26034.932   Cond. No.                     4.32e+04\n",
      "==============================================================================\n",
      "\n",
      "Warnings:\n",
      "[1] Standard Errors assume that the covariance matrix of the errors is correctly specified.\n",
      "[2] The condition number is large, 4.32e+04. This might indicate that there are\n",
      "strong multicollinearity or other numerical problems.\n"
     ]
    }
   ],
   "source": [
    "print(lm.summary())"
   ]
  },
  {
   "cell_type": "markdown",
   "metadata": {},
   "source": [
    "#### 중요 변수 20개"
   ]
  },
  {
   "cell_type": "code",
   "execution_count": 167,
   "metadata": {},
   "outputs": [],
   "source": [
    "feature_top_20 = ['mean_price','city','sub_category','main_category','sub_category','city_tot_sales','mean_sales_category',\n",
    "                 '23','31','30','27','26','28','32','22','num_city_shop','21','25','29','24','33']"
   ]
  },
  {
   "cell_type": "code",
   "execution_count": 168,
   "metadata": {},
   "outputs": [],
   "source": [
    "remove_cols = [col for col in df_sales_4.columns if col not in feature_top_20]"
   ]
  },
  {
   "cell_type": "code",
   "execution_count": 169,
   "metadata": {},
   "outputs": [],
   "source": [
    "df_sales_5 = df_sales_4.drop(remove_cols,axis =1)"
   ]
  },
  {
   "cell_type": "code",
   "execution_count": 170,
   "metadata": {},
   "outputs": [],
   "source": [
    "x = df_sales_5.drop(['33'],axis =1)\n",
    "y = df_sales_5['33']\n",
    "x_train,x_test,y_train,y_test = train_test_split(x,y,test_size =0.3, random_state = 123)"
   ]
  },
  {
   "cell_type": "code",
   "execution_count": 171,
   "metadata": {},
   "outputs": [
    {
     "data": {
      "text/plain": [
       "3.869687887238876"
      ]
     },
     "execution_count": 171,
     "metadata": {},
     "output_type": "execute_result"
    }
   ],
   "source": [
    "ols = sm.OLS(endog = y_train, exog =x_train)\n",
    "lm = ols.fit()\n",
    "y_pred_lm = lm.predict(x_test)\n",
    "rmse = np.sqrt(mse(y_test,y_pred_lm))\n",
    "rmse"
   ]
  },
  {
   "cell_type": "code",
   "execution_count": 172,
   "metadata": {
    "scrolled": true
   },
   "outputs": [
    {
     "name": "stdout",
     "output_type": "stream",
     "text": [
      "                            OLS Regression Results                            \n",
      "==============================================================================\n",
      "Dep. Variable:                     33   R-squared:                       0.480\n",
      "Model:                            OLS   Adj. R-squared:                  0.480\n",
      "Method:                 Least Squares   F-statistic:                     8748.\n",
      "Date:                Mon, 22 Apr 2019   Prob (F-statistic):               0.00\n",
      "Time:                        17:57:55   Log-Likelihood:            -5.0219e+05\n",
      "No. Observations:              180020   AIC:                         1.004e+06\n",
      "Df Residuals:                  180001   BIC:                         1.005e+06\n",
      "Df Model:                          19                                         \n",
      "Covariance Type:            nonrobust                                         \n",
      "=======================================================================================\n",
      "                          coef    std err          t      P>|t|      [0.025      0.975]\n",
      "---------------------------------------------------------------------------------------\n",
      "city                   -0.0369      0.030     -1.228      0.219      -0.096       0.022\n",
      "main_category          -0.0069      0.004     -1.829      0.067      -0.014       0.000\n",
      "sub_category           -0.0028      0.003     -0.894      0.371      -0.009       0.003\n",
      "mean_price          -1.618e-05   2.02e-06     -8.011      0.000   -2.01e-05   -1.22e-05\n",
      "num_city_shop           0.0099      0.011      0.898      0.369      -0.012       0.031\n",
      "city_tot_sales          0.0332      0.030      1.102      0.271      -0.026       0.092\n",
      "mean_sales_category     0.0018      0.003      0.670      0.503      -0.003       0.007\n",
      "21                      0.0030      0.003      0.987      0.324      -0.003       0.009\n",
      "22                      0.2725      0.006     48.065      0.000       0.261       0.284\n",
      "23                     -0.0764      0.007    -11.471      0.000      -0.089      -0.063\n",
      "24                     -0.0404      0.003    -11.722      0.000      -0.047      -0.034\n",
      "25                     -0.0669      0.011     -6.175      0.000      -0.088      -0.046\n",
      "26                      0.1507      0.008     19.162      0.000       0.135       0.166\n",
      "27                      0.0158      0.002      6.767      0.000       0.011       0.020\n",
      "28                      0.8924      0.004    213.564      0.000       0.884       0.901\n",
      "29                      0.1736      0.014     12.552      0.000       0.146       0.201\n",
      "30                      1.8654      0.016    119.999      0.000       1.835       1.896\n",
      "31                     -0.8546      0.012    -70.053      0.000      -0.878      -0.831\n",
      "32                      0.0137      0.001      9.114      0.000       0.011       0.017\n",
      "==============================================================================\n",
      "Omnibus:                   770061.709   Durbin-Watson:                   2.000\n",
      "Prob(Omnibus):                  0.000   Jarque-Bera (JB):   14743639365654.809\n",
      "Skew:                         125.997   Prob(JB):                         0.00\n",
      "Kurtosis:                   44337.374   Cond. No.                     4.28e+04\n",
      "==============================================================================\n",
      "\n",
      "Warnings:\n",
      "[1] Standard Errors assume that the covariance matrix of the errors is correctly specified.\n",
      "[2] The condition number is large, 4.28e+04. This might indicate that there are\n",
      "strong multicollinearity or other numerical problems.\n"
     ]
    }
   ],
   "source": [
    "print(lm.summary())"
   ]
  },
  {
   "cell_type": "markdown",
   "metadata": {},
   "source": [
    "### random forest"
   ]
  },
  {
   "cell_type": "code",
   "execution_count": 193,
   "metadata": {},
   "outputs": [],
   "source": [
    "rf = RandomForestRegressor(max_features=15, min_samples_split=4, n_estimators=50, min_samples_leaf=2)"
   ]
  },
  {
   "cell_type": "code",
   "execution_count": 194,
   "metadata": {},
   "outputs": [
    {
     "data": {
      "text/plain": [
       "RandomForestRegressor(bootstrap=True, criterion='mse', max_depth=None,\n",
       "           max_features=15, max_leaf_nodes=None, min_impurity_decrease=0.0,\n",
       "           min_impurity_split=None, min_samples_leaf=2,\n",
       "           min_samples_split=4, min_weight_fraction_leaf=0.0,\n",
       "           n_estimators=50, n_jobs=None, oob_score=False,\n",
       "           random_state=None, verbose=0, warm_start=False)"
      ]
     },
     "execution_count": 194,
     "metadata": {},
     "output_type": "execute_result"
    }
   ],
   "source": [
    "rf.fit(x_train,y_train)"
   ]
  },
  {
   "cell_type": "code",
   "execution_count": 195,
   "metadata": {},
   "outputs": [],
   "source": [
    "y_pred_rf = rf.predict(x_test)"
   ]
  },
  {
   "cell_type": "code",
   "execution_count": 196,
   "metadata": {},
   "outputs": [
    {
     "data": {
      "text/plain": [
       "1.1338478207575131"
      ]
     },
     "execution_count": 196,
     "metadata": {},
     "output_type": "execute_result"
    }
   ],
   "source": [
    "np.sqrt(mse(y_test,y_pred))"
   ]
  }
 ],
 "metadata": {
  "kernelspec": {
   "display_name": "Python 3",
   "language": "python",
   "name": "python3"
  },
  "language_info": {
   "codemirror_mode": {
    "name": "ipython",
    "version": 3
   },
   "file_extension": ".py",
   "mimetype": "text/x-python",
   "name": "python",
   "nbconvert_exporter": "python",
   "pygments_lexer": "ipython3",
   "version": "3.6.8"
  },
  "toc": {
   "base_numbering": 1,
   "nav_menu": {},
   "number_sections": true,
   "sideBar": true,
   "skip_h1_title": true,
   "title_cell": "Table of Contents",
   "title_sidebar": "Contents",
   "toc_cell": true,
   "toc_position": {
    "height": "calc(100% - 180px)",
    "left": "10px",
    "top": "150px",
    "width": "165px"
   },
   "toc_section_display": true,
   "toc_window_display": true
  },
  "varInspector": {
   "cols": {
    "lenName": 16,
    "lenType": 16,
    "lenVar": 40
   },
   "kernels_config": {
    "python": {
     "delete_cmd_postfix": "",
     "delete_cmd_prefix": "del ",
     "library": "var_list.py",
     "varRefreshCmd": "print(var_dic_list())"
    },
    "r": {
     "delete_cmd_postfix": ") ",
     "delete_cmd_prefix": "rm(",
     "library": "var_list.r",
     "varRefreshCmd": "cat(var_dic_list()) "
    }
   },
   "types_to_exclude": [
    "module",
    "function",
    "builtin_function_or_method",
    "instance",
    "_Feature"
   ],
   "window_display": false
  }
 },
 "nbformat": 4,
 "nbformat_minor": 2
}
