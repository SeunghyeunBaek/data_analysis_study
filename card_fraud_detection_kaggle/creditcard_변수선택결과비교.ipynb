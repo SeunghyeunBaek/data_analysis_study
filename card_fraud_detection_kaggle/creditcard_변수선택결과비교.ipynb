{
 "cells": [
  {
   "cell_type": "markdown",
   "metadata": {
    "toc": true
   },
   "source": [
    "<h1>Table of Contents<span class=\"tocSkip\"></span></h1>\n",
    "<div class=\"toc\"><ul class=\"toc-item\"><li><span><a href=\"#Amount,-Time-Scaling\" data-toc-modified-id=\"Amount,-Time-Scaling-1\"><span class=\"toc-item-num\">1&nbsp;&nbsp;</span>Amount, Time Scaling</a></span></li><li><span><a href=\"#Time-to-Day,Hour-dummies\" data-toc-modified-id=\"Time-to-Day,Hour-dummies-2\"><span class=\"toc-item-num\">2&nbsp;&nbsp;</span>Time to Day,Hour dummies</a></span></li><li><span><a href=\"#Select-V-with-T-test,-KS-test\" data-toc-modified-id=\"Select-V-with-T-test,-KS-test-3\"><span class=\"toc-item-num\">3&nbsp;&nbsp;</span>Select V with T-test, KS-test</a></span></li><li><span><a href=\"#변수-선택\" data-toc-modified-id=\"변수-선택-4\"><span class=\"toc-item-num\">4&nbsp;&nbsp;</span>변수 선택</a></span></li><li><span><a href=\"#평가\" data-toc-modified-id=\"평가-5\"><span class=\"toc-item-num\">5&nbsp;&nbsp;</span>평가</a></span></li><li><span><a href=\"#Functions\" data-toc-modified-id=\"Functions-6\"><span class=\"toc-item-num\">6&nbsp;&nbsp;</span>Functions</a></span></li><li><span><a href=\"#Save-df-to-csv\" data-toc-modified-id=\"Save-df-to-csv-7\"><span class=\"toc-item-num\">7&nbsp;&nbsp;</span>Save df to csv</a></span></li></ul></div>"
   ]
  },
  {
   "cell_type": "code",
   "execution_count": 12,
   "metadata": {
    "ExecuteTime": {
     "end_time": "2019-03-25T03:49:52.867354Z",
     "start_time": "2019-03-25T03:49:52.861340Z"
    },
    "hide_input": false
   },
   "outputs": [],
   "source": [
    "# 전처리, 차원축소, 평가 모듈\n",
    "import module.muresa as muresa\n",
    "\n",
    "# 데이터 입출력\n",
    "import numpy as np\n",
    "import pandas as pd\n",
    "\n",
    "# 검정 \n",
    "import scipy.stats as st\n",
    "\n",
    "# 전처리\n",
    "from sklearn.preprocessing import MinMaxScaler,RobustScaler,Normalizer\n",
    "from sklearn.decomposition import PCA,TruncatedSVD # 차원축소\n",
    "\n",
    "# Machine Learning\n",
    "from sklearn.model_selection import train_test_split\n",
    "from sklearn.linear_model import LogisticRegression\n",
    "\n",
    "# 시각화\n",
    "import matplotlib.pyplot as plt\n",
    "import matplotlib.gridspec as gridspec\n",
    "import seaborn as sb\n",
    "\n",
    "# second to dd:hh:mm:ss\n",
    "import datetime\n",
    "\n",
    "# pipeline\n",
    "from sklearn.pipeline import Pipeline\n",
    "\n",
    "# model save\n",
    "import pickle"
   ]
  },
  {
   "cell_type": "code",
   "execution_count": 13,
   "metadata": {
    "ExecuteTime": {
     "end_time": "2019-03-25T03:49:55.752760Z",
     "start_time": "2019-03-25T03:49:53.369103Z"
    }
   },
   "outputs": [],
   "source": [
    "df = pd.read_csv(r'data/creditcard.csv')"
   ]
  },
  {
   "cell_type": "markdown",
   "metadata": {},
   "source": [
    "# Amount, Time Scaling"
   ]
  },
  {
   "cell_type": "code",
   "execution_count": 14,
   "metadata": {
    "ExecuteTime": {
     "end_time": "2019-03-25T03:49:56.717413Z",
     "start_time": "2019-03-25T03:49:56.395013Z"
    }
   },
   "outputs": [],
   "source": [
    "# scaling Amount, Time\n",
    "df['Amount'] = df.Amount.apply(lambda x : np.log(x+0.0001))\n",
    "df['Time_scaled'] =  muresa.robustScale(df['Time'])"
   ]
  },
  {
   "cell_type": "markdown",
   "metadata": {},
   "source": [
    "# Time to Day,Hour dummies"
   ]
  },
  {
   "cell_type": "code",
   "execution_count": 15,
   "metadata": {
    "ExecuteTime": {
     "end_time": "2019-03-25T03:49:59.161613Z",
     "start_time": "2019-03-25T03:49:57.709497Z"
    }
   },
   "outputs": [],
   "source": [
    "# second to Day Hour\n",
    "df['Time_str'] = df['Time'].apply(lambda s : str(datetime.timedelta(seconds=s)))\n",
    "df['Day'] = df['Time_str'].apply(lambda s: '0' if len(s.split(\",\"))==1 else s.split(\",\")[0][0])\n",
    "df['Hour'] = df['Time_str'].apply(lambda s: s.split(\",\")[-1].split(\":\")[0].strip())\n",
    "#df.drop(columns='Time_str',inplace = True)\n",
    "\n",
    "# Hour to dummies\n",
    "df['Hour'] = df['Hour'].apply(Hour2num)\n",
    "hour_dummies = pd.get_dummies(df['Hour'],drop_first=True,prefix='Hour')\n",
    "day_dummies = pd.get_dummies(df['Day'],drop_first=True,prefix='Day')\n",
    "\n",
    "# Amount to dummies\n",
    "df['Amount_interval']=pd.qcut(df.Amount,10)\n",
    "df['Amount_interval'] = df['Amount_interval'].apply(log_Amount_interval2num)\n",
    "amount_dummies = pd.get_dummies(df['Amount_interval'],drop_first=True,prefix='Amount')\n",
    "\n",
    "# Day:Hour interaction term\n",
    "day_hour_dummies = pd.DataFrame(np.multiply(day_dummies.values,hour_dummies.values))\n",
    "day_hour_dummies.columns = ['Day1*Hour2','Day1*Hour3','Day1*Hour4','Day1*Hour5','Day1*Hour6']"
   ]
  },
  {
   "cell_type": "markdown",
   "metadata": {},
   "source": [
    "# Select V with T-test, KS-test"
   ]
  },
  {
   "cell_type": "code",
   "execution_count": 16,
   "metadata": {
    "ExecuteTime": {
     "end_time": "2019-03-25T03:50:02.785954Z",
     "start_time": "2019-03-25T03:50:01.300894Z"
    }
   },
   "outputs": [],
   "source": [
    "# t-test, ks-test for V\n",
    "v_list = list(df.columns[1:29])\n",
    "t_pval_list = []\n",
    "ks_pval_list = []\n",
    "\n",
    "for v in v_list:\n",
    "    t_pval, ks_pval = compare2dist(df,v)\n",
    "    t_pval_list.append(t_pval)\n",
    "    ks_pval_list.append(ks_pval)"
   ]
  },
  {
   "cell_type": "code",
   "execution_count": 17,
   "metadata": {
    "ExecuteTime": {
     "end_time": "2019-03-25T03:50:03.141991Z",
     "start_time": "2019-03-25T03:50:03.135986Z"
    }
   },
   "outputs": [],
   "source": [
    "pval = pd.DataFrame(list(zip(t_pval_list, ks_pval_list)))\n",
    "pval.columns = ['t-test','ks-test']\n",
    "pval.index = v_list"
   ]
  },
  {
   "cell_type": "code",
   "execution_count": 18,
   "metadata": {
    "ExecuteTime": {
     "end_time": "2019-03-25T03:50:03.974743Z",
     "start_time": "2019-03-25T03:50:03.491037Z"
    }
   },
   "outputs": [
    {
     "data": {
      "image/png": "[encoded data removed]",
      "text/plain": [
       "<Figure size 864x360 with 3 Axes>"
      ]
     },
     "metadata": {
      "needs_background": "light"
     },
     "output_type": "display_data"
    }
   ],
   "source": [
    "fig,ax = plt.subplots(1,2,figsize = (12,5))\n",
    "sb.scatterplot(pval['t-test'],pval['ks-test'],ax=ax[0])\n",
    "ax[0].plot([0.05,0.05],[0,0.07],color = 'red')\n",
    "ax[0].plot([0,1],[0.05,0.05],color = 'red')\n",
    "ax[0].set_title('t-test,ks-test for v',fontsize = 15)\n",
    "sb.heatmap(pval,cmap = 'coolwarm',ax=ax[1])\n",
    "ax[1].set_title('t-test,ks-test heamap for v',fontsize =15)\n",
    "plt.tight_layout()\n",
    "plt.show()"
   ]
  },
  {
   "cell_type": "code",
   "execution_count": 19,
   "metadata": {
    "ExecuteTime": {
     "end_time": "2019-03-25T03:50:04.650971Z",
     "start_time": "2019-03-25T03:50:04.644952Z"
    }
   },
   "outputs": [
    {
     "data": {
      "text/plain": [
       "Index(['V1', 'V2', 'V3', 'V4', 'V5', 'V6', 'V7', 'V9', 'V10', 'V11', 'V12',\n",
       "       'V13', 'V14', 'V15', 'V16', 'V17', 'V18', 'V19', 'V20', 'V21', 'V24',\n",
       "       'V26', 'V27', 'V28'],\n",
       "      dtype='object')"
      ]
     },
     "execution_count": 19,
     "metadata": {},
     "output_type": "execute_result"
    }
   ],
   "source": [
    "# ks-test, t-test 둘다 통과\n",
    "# v15 는 0.0049 간당간당함\n",
    "pval.loc[(pval['ks-test']<0.05)&(pval['t-test']<0.05),:].index"
   ]
  },
  {
   "cell_type": "code",
   "execution_count": 20,
   "metadata": {
    "ExecuteTime": {
     "end_time": "2019-03-25T03:50:06.061163Z",
     "start_time": "2019-03-25T03:50:06.054240Z"
    }
   },
   "outputs": [
    {
     "data": {
      "text/plain": [
       "Index(['V22'], dtype='object')"
      ]
     },
     "execution_count": 20,
     "metadata": {},
     "output_type": "execute_result"
    }
   ],
   "source": [
    "# ks-test, t-test 둘다 통과 못함\n",
    "pval.loc[(pval['ks-test']>0.05)&(pval['t-test']>0.05),:].index"
   ]
  },
  {
   "cell_type": "code",
   "execution_count": 21,
   "metadata": {
    "ExecuteTime": {
     "end_time": "2019-03-25T03:50:06.510962Z",
     "start_time": "2019-03-25T03:50:06.503980Z"
    }
   },
   "outputs": [
    {
     "data": {
      "text/plain": [
       "Index(['V8', 'V22', 'V23', 'V25'], dtype='object')"
      ]
     },
     "execution_count": 21,
     "metadata": {},
     "output_type": "execute_result"
    }
   ],
   "source": [
    "# t-test 통과 못함\n",
    "pval.loc[(pval['t-test']>0.05),:].index"
   ]
  },
  {
   "cell_type": "markdown",
   "metadata": {},
   "source": [
    "# 변수 선택"
   ]
  },
  {
   "cell_type": "code",
   "execution_count": 22,
   "metadata": {
    "ExecuteTime": {
     "end_time": "2019-03-25T03:50:07.775280Z",
     "start_time": "2019-03-25T03:50:07.410019Z"
    }
   },
   "outputs": [],
   "source": [
    "# Original, -Time\n",
    "df_1 = df.drop(columns=['Time','Time_str','Day', 'Hour', 'Amount_interval'])\n",
    "df_2 = df.drop(columns=['Time','Time_str','Day', 'Hour', 'Amount_interval','Time'])\n",
    "\n",
    "# Dummies\n",
    "df_3 = df.drop(columns=['Amount','Time','Time_str','Day', 'Hour','Time_scaled','Amount_interval'])\n",
    "df_3 = pd.concat([df_3,amount_dummies,day_dummies,hour_dummies],axis = 1)\n",
    "df_4 = pd.concat([df_3,amount_dummies,day_dummies,hour_dummies,day_hour_dummies],axis = 1) # day:hour interaction\n",
    "\n",
    "# V \n",
    "v_not_good = ['V10','V12','V14','V16','V17','V18']\n",
    "v_bad = ['V1','V2','V5','V6','V8','V13','V15','V19','V20','V21','V22','V23','V24','V25','V26','V27','V28']\n",
    "kst_bad = ['V8','V15','V22','V23','V25']\n",
    "df_5 = df.drop(['Time','Time_str','Day', 'Hour', 'Amount_interval','Time']+v_not_good+v_bad,axis =1)\n",
    "df_6 = df.drop(['Time','Time_str','Day', 'Hour', 'Amount_interval','Time']+v_bad,axis =1)\n",
    "df_7 = df.drop(['Time','Time_str','Day', 'Hour', 'Amount_interval','Time']+kst_bad,axis =1)"
   ]
  },
  {
   "cell_type": "markdown",
   "metadata": {},
   "source": [
    "# 평가"
   ]
  },
  {
   "cell_type": "code",
   "execution_count": 41,
   "metadata": {
    "ExecuteTime": {
     "end_time": "2019-03-25T04:27:10.476168Z",
     "start_time": "2019-03-25T04:26:36.969784Z"
    }
   },
   "outputs": [
    {
     "name": "stderr",
     "output_type": "stream",
     "text": [
      "d:\\pl\\python\\python37\\lib\\site-packages\\sklearn\\linear_model\\logistic.py:433: FutureWarning: Default solver will be changed to 'lbfgs' in 0.22. Specify a solver to silence this warning.\n",
      "  FutureWarning)\n",
      "d:\\pl\\python\\python37\\lib\\site-packages\\sklearn\\linear_model\\logistic.py:433: FutureWarning: Default solver will be changed to 'lbfgs' in 0.22. Specify a solver to silence this warning.\n",
      "  FutureWarning)\n",
      "d:\\pl\\python\\python37\\lib\\site-packages\\sklearn\\linear_model\\logistic.py:433: FutureWarning: Default solver will be changed to 'lbfgs' in 0.22. Specify a solver to silence this warning.\n",
      "  FutureWarning)\n",
      "d:\\pl\\python\\python37\\lib\\site-packages\\sklearn\\linear_model\\logistic.py:433: FutureWarning: Default solver will be changed to 'lbfgs' in 0.22. Specify a solver to silence this warning.\n",
      "  FutureWarning)\n",
      "d:\\pl\\python\\python37\\lib\\site-packages\\sklearn\\linear_model\\logistic.py:433: FutureWarning: Default solver will be changed to 'lbfgs' in 0.22. Specify a solver to silence this warning.\n",
      "  FutureWarning)\n",
      "d:\\pl\\python\\python37\\lib\\site-packages\\sklearn\\linear_model\\logistic.py:433: FutureWarning: Default solver will be changed to 'lbfgs' in 0.22. Specify a solver to silence this warning.\n",
      "  FutureWarning)\n",
      "d:\\pl\\python\\python37\\lib\\site-packages\\sklearn\\linear_model\\logistic.py:433: FutureWarning: Default solver will be changed to 'lbfgs' in 0.22. Specify a solver to silence this warning.\n",
      "  FutureWarning)\n"
     ]
    },
    {
     "data": {
      "image/png": "[encoded data removed]",
      "text/plain": [
       "<Figure size 1080x432 with 2 Axes>"
      ]
     },
     "metadata": {
      "needs_background": "light"
     },
     "output_type": "display_data"
    },
    {
     "data": {
      "image/png": "[encoded data removed]",
      "text/plain": [
       "<Figure size 1080x432 with 2 Axes>"
      ]
     },
     "metadata": {
      "needs_background": "light"
     },
     "output_type": "display_data"
    },
    {
     "data": {
      "image/png": "[encoded data removed]",
      "text/plain": [
       "<Figure size 1080x432 with 2 Axes>"
      ]
     },
     "metadata": {
      "needs_background": "light"
     },
     "output_type": "display_data"
    },
    {
     "data": {
      "image/png": "[encoded data removed]",
      "text/plain": [
       "<Figure size 1080x432 with 2 Axes>"
      ]
     },
     "metadata": {
      "needs_background": "light"
     },
     "output_type": "display_data"
    },
    {
     "data": {
      "image/png": "[encoded data removed]",
      "text/plain": [
       "<Figure size 1080x432 with 2 Axes>"
      ]
     },
     "metadata": {
      "needs_background": "light"
     },
     "output_type": "display_data"
    },
    {
     "data": {
      "image/png": "[encoded data removed]",
      "text/plain": [
       "<Figure size 1080x432 with 2 Axes>"
      ]
     },
     "metadata": {
      "needs_background": "light"
     },
     "output_type": "display_data"
    },
    {
     "data": {
      "image/png": "[encoded data removed]",
      "text/plain": [
       "<Figure size 1080x432 with 2 Axes>"
      ]
     },
     "metadata": {
      "needs_background": "light"
     },
     "output_type": "display_data"
    }
   ],
   "source": [
    "df_list = [df_1,df_2,df_3,df_4,df_5,df_6,df_7]\n",
    "res = []\n",
    "for df in df_list:\n",
    "    res.append(Eval(df))"
   ]
  },
  {
   "cell_type": "code",
   "execution_count": 43,
   "metadata": {
    "ExecuteTime": {
     "end_time": "2019-03-25T04:27:57.315912Z",
     "start_time": "2019-03-25T04:27:56.961859Z"
    }
   },
   "outputs": [
    {
     "data": {
      "text/html": [
       "<div>\n",
       "<style scoped>\n",
       "    .dataframe tbody tr th:only-of-type {\n",
       "        vertical-align: middle;\n",
       "    }\n",
       "\n",
       "    .dataframe tbody tr th {\n",
       "        vertical-align: top;\n",
       "    }\n",
       "\n",
       "    .dataframe thead th {\n",
       "        text-align: right;\n",
       "    }\n",
       "</style>\n",
       "<table border=\"1\" class=\"dataframe\">\n",
       "  <thead>\n",
       "    <tr style=\"text-align: right;\">\n",
       "      <th></th>\n",
       "      <th>acc</th>\n",
       "      <th>average precision</th>\n",
       "      <th>confusion matrix</th>\n",
       "      <th>f1 score</th>\n",
       "      <th>precision</th>\n",
       "      <th>recall</th>\n",
       "    </tr>\n",
       "  </thead>\n",
       "  <tbody>\n",
       "    <tr>\n",
       "      <th>0</th>\n",
       "      <td>0.999040</td>\n",
       "      <td>0.758833</td>\n",
       "      <td>[[85266, 17], [65, 95]]</td>\n",
       "      <td>0.698529</td>\n",
       "      <td>0.848214</td>\n",
       "      <td>0.59375</td>\n",
       "    </tr>\n",
       "    <tr>\n",
       "      <th>1</th>\n",
       "      <td>0.999040</td>\n",
       "      <td>0.758833</td>\n",
       "      <td>[[85266, 17], [65, 95]]</td>\n",
       "      <td>0.698529</td>\n",
       "      <td>0.848214</td>\n",
       "      <td>0.59375</td>\n",
       "    </tr>\n",
       "    <tr>\n",
       "      <th>2</th>\n",
       "      <td>0.999064</td>\n",
       "      <td>0.766860</td>\n",
       "      <td>[[85265, 18], [62, 98]]</td>\n",
       "      <td>0.710145</td>\n",
       "      <td>0.844828</td>\n",
       "      <td>0.61250</td>\n",
       "    </tr>\n",
       "    <tr>\n",
       "      <th>3</th>\n",
       "      <td>0.999075</td>\n",
       "      <td>0.770956</td>\n",
       "      <td>[[85265, 18], [61, 99]]</td>\n",
       "      <td>0.714801</td>\n",
       "      <td>0.846154</td>\n",
       "      <td>0.61875</td>\n",
       "    </tr>\n",
       "    <tr>\n",
       "      <th>4</th>\n",
       "      <td>0.998795</td>\n",
       "      <td>0.647056</td>\n",
       "      <td>[[85266, 17], [86, 74]]</td>\n",
       "      <td>0.589641</td>\n",
       "      <td>0.813187</td>\n",
       "      <td>0.46250</td>\n",
       "    </tr>\n",
       "    <tr>\n",
       "      <th>5</th>\n",
       "      <td>0.999029</td>\n",
       "      <td>0.750516</td>\n",
       "      <td>[[85266, 17], [66, 94]]</td>\n",
       "      <td>0.693727</td>\n",
       "      <td>0.846847</td>\n",
       "      <td>0.58750</td>\n",
       "    </tr>\n",
       "    <tr>\n",
       "      <th>6</th>\n",
       "      <td>0.999017</td>\n",
       "      <td>0.757745</td>\n",
       "      <td>[[85267, 16], [68, 92]]</td>\n",
       "      <td>0.686567</td>\n",
       "      <td>0.851852</td>\n",
       "      <td>0.57500</td>\n",
       "    </tr>\n",
       "  </tbody>\n",
       "</table>\n",
       "</div>"
      ],
      "text/plain": [
       "        acc  average precision         confusion matrix  f1 score  precision  \\\n",
       "0  0.999040           0.758833  [[85266, 17], [65, 95]]  0.698529   0.848214   \n",
       "1  0.999040           0.758833  [[85266, 17], [65, 95]]  0.698529   0.848214   \n",
       "2  0.999064           0.766860  [[85265, 18], [62, 98]]  0.710145   0.844828   \n",
       "3  0.999075           0.770956  [[85265, 18], [61, 99]]  0.714801   0.846154   \n",
       "4  0.998795           0.647056  [[85266, 17], [86, 74]]  0.589641   0.813187   \n",
       "5  0.999029           0.750516  [[85266, 17], [66, 94]]  0.693727   0.846847   \n",
       "6  0.999017           0.757745  [[85267, 16], [68, 92]]  0.686567   0.851852   \n",
       "\n",
       "    recall  \n",
       "0  0.59375  \n",
       "1  0.59375  \n",
       "2  0.61250  \n",
       "3  0.61875  \n",
       "4  0.46250  \n",
       "5  0.58750  \n",
       "6  0.57500  "
      ]
     },
     "execution_count": 43,
     "metadata": {},
     "output_type": "execute_result"
    }
   ],
   "source": [
    "pd.DataFrame(res)"
   ]
  },
  {
   "cell_type": "code",
   "execution_count": 158,
   "metadata": {
    "ExecuteTime": {
     "end_time": "2019-03-23T18:28:38.308157Z",
     "start_time": "2019-03-23T18:28:31.456386Z"
    }
   },
   "outputs": [
    {
     "name": "stderr",
     "output_type": "stream",
     "text": [
      "d:\\pl\\python\\python37\\lib\\site-packages\\sklearn\\linear_model\\logistic.py:433: FutureWarning: Default solver will be changed to 'lbfgs' in 0.22. Specify a solver to silence this warning.\n",
      "  FutureWarning)\n"
     ]
    },
    {
     "data": {
      "text/plain": [
       "LogisticRegression(C=1.0, class_weight=None, dual=False, fit_intercept=True,\n",
       "          intercept_scaling=1, max_iter=100, multi_class='warn',\n",
       "          n_jobs=None, penalty='l2', random_state=None, solver='warn',\n",
       "          tol=0.0001, verbose=0, warm_start=False)"
      ]
     },
     "execution_count": 158,
     "metadata": {},
     "output_type": "execute_result"
    }
   ],
   "source": [
    "x,y = df_3.drop(columns = 'Class'),df_3.Class\n",
    "x_train,x_test,y_train,y_test = train_test_split(x,y,test_size = 0.4,random_state = 123)\n",
    "\n",
    "# smapling with Trainset\n",
    "x_train_sm,x_test_sm, y_train_sm, y_test_sm = muresa.SMOTESampling(x_train,y_train, over = 0.4, ratio = 0.3,random_state=123)\n",
    "\n",
    "glm = LogisticRegression()\n",
    "glm.fit(x_train_sm,y_train_sm)"
   ]
  },
  {
   "cell_type": "markdown",
   "metadata": {},
   "source": [
    "# Functions"
   ]
  },
  {
   "cell_type": "code",
   "execution_count": 7,
   "metadata": {
    "ExecuteTime": {
     "end_time": "2019-03-25T03:49:44.875711Z",
     "start_time": "2019-03-25T03:49:44.870707Z"
    }
   },
   "outputs": [],
   "source": [
    "#Hour_interval to num(4 Feature Engineering - 4.1. time(Hour)\n",
    "def Hour2num(hour):\n",
    "    res = '0'\n",
    "    if hour == '2' :res =  '1'\n",
    "    elif hour == '4' : res = '2'\n",
    "    elif (hour == '3')or(hour =='5'): res = '3'\n",
    "    elif hour == '7' : res = '4'\n",
    "    elif hour == '11': res = '5'\n",
    "    else :res = '6'\n",
    "    return res"
   ]
  },
  {
   "cell_type": "code",
   "execution_count": 8,
   "metadata": {
    "ExecuteTime": {
     "end_time": "2019-03-25T03:49:45.353416Z",
     "start_time": "2019-03-25T03:49:45.349427Z"
    }
   },
   "outputs": [],
   "source": [
    "#log_Amount_interval to num(4.Feature Engineering - 4.1. Amount)\n",
    "def log_Amount_interval2num(interval):\n",
    "    interval = str(interval)\n",
    "    # 1\n",
    "    if (interval) == '(-9.211, 0.0001]':\n",
    "        return '1'\n",
    "    # 10\n",
    "    elif (interval) == '(5.313, 10.154]':\n",
    "        return '2'\n",
    "    # 2,3,8,9 / 나머지로 나눠보니까 비율이 비슷해서 합침\n",
    "    else : return '3'"
   ]
  },
  {
   "cell_type": "code",
   "execution_count": 37,
   "metadata": {
    "ExecuteTime": {
     "end_time": "2019-03-25T04:23:59.257472Z",
     "start_time": "2019-03-25T04:23:59.248498Z"
    }
   },
   "outputs": [],
   "source": [
    "# Evaluation\n",
    "def evaluation_class(y_true,y_pred,true_idx=1,thresholds = 0.5):\n",
    "    \n",
    "    from sklearn import metrics # for result\n",
    "    import matplotlib.pyplot as plt # for visualization\n",
    "    \n",
    "    # tranform y_pred into integer array\n",
    "    y_pred_val = ([1 if prob>thresholds else 0 for prob in y_pred[:,true_idx]])\n",
    "    # counfusion matrix\n",
    "    conf_mat = metrics.confusion_matrix(y_true,y_pred_val)\n",
    "    \n",
    "    #acc\n",
    "    acc = metrics.accuracy_score(y_true,y_pred_val)   \n",
    "    #recall\n",
    "    re = metrics.recall_score(y_true,y_pred_val) \n",
    "    #precision\n",
    "    pre = metrics.precision_score(y_true,y_pred_val)\n",
    "    #f1\n",
    "    f1 = metrics.f1_score(y_true,y_pred_val)   \n",
    "    #average precsion\n",
    "    avg_pre = metrics.average_precision_score(y_true,y_pred[:,true_idx])  \n",
    "    \n",
    "    # visualization\n",
    "    fig,ax = plt.subplots(1,2,figsize = (15,6))\n",
    "    \n",
    "    # ROC\n",
    "    #fpr,tpr,thresholds = metrics.roc_curve(y_true,y_pred[:,true_idx])\n",
    "    #ax[0].plot(fpr,tpr,color = 'b')\n",
    "    #ax[0].set_title('ROC Curve',fontsize = 15)\n",
    "    #ax[0].set_xlabel('1- FP')\n",
    "    #ax[0].set_ylabel('TP')\n",
    "    \n",
    "    # PR\n",
    "    #precision,recall,thresholds = metrics.precision_recall_curve(y_true,y_pred[:,true_idx])\n",
    "    #ax[1].step(recall,precision,color = 'r', where = 'post')\n",
    "    #ax[1].set_title('PR Curve',fontsize = 15)\n",
    "    #ax[1].set_xlabel('Recall')\n",
    "    #ax[1].set_ylabel('Precision')\n",
    "    \n",
    "    \n",
    "    # 결과 저장\n",
    "    result_dic = {\n",
    "        'confusion matrix':conf_mat,\n",
    "        'acc':acc,\n",
    "        'recall':re,\n",
    "        'precision':pre,\n",
    "        'f1 score':f1,\n",
    "        'average precision':avg_pre\n",
    "    }\n",
    "    return result_dic"
   ]
  },
  {
   "cell_type": "code",
   "execution_count": 40,
   "metadata": {
    "ExecuteTime": {
     "end_time": "2019-03-25T04:26:25.585209Z",
     "start_time": "2019-03-25T04:26:25.579268Z"
    }
   },
   "outputs": [],
   "source": [
    "def Eval(df):\n",
    "    \n",
    "    x,y = df.drop(columns = 'Class'),df.Class\n",
    "    x_train,x_test,y_train,y_test = train_test_split(x,y,test_size = 0.3,random_state = 123)\n",
    "\n",
    "    #smapling with Trainset\n",
    "    x_train_sm,x_test_sm, y_train_sm, y_test_sm = muresa.SMOTESampling(x_train,y_train, over = 0.4, ratio = 0.3,random_state=123)\n",
    "\n",
    "    glm = LogisticRegression()\n",
    "    glm.fit(x_train,y_train)\n",
    "    \n",
    "    #in sample evaluation\n",
    "    #print('In-sample test')\n",
    "    #print('='*100)\n",
    "    #y_pred = glm.predict_proba(x_test_sm)\n",
    "    #print(evaluation_class(y_test_sm,y_pred))\n",
    "    #print('='*100)\n",
    "    #print('Out-sample test')\n",
    "    \n",
    "    # out sample evaluation\n",
    "    y_pred_all = glm.predict_proba(x_test)\n",
    "    #print(evaluation_class(y_test,y_pred_all))\n",
    "    \n",
    "    return evaluation_class(y_test,y_pred_all)"
   ]
  },
  {
   "cell_type": "code",
   "execution_count": 11,
   "metadata": {
    "ExecuteTime": {
     "end_time": "2019-03-25T03:49:46.222094Z",
     "start_time": "2019-03-25T03:49:46.216111Z"
    }
   },
   "outputs": [],
   "source": [
    "# compare distribution  Fraud - No Fraud data for V\n",
    "def compare2dist(df,v):\n",
    "    \n",
    "    fraud,no_fraud = df.loc[df['Class']==0,v].values,df.loc[df['Class']==1,v].values\n",
    "    \n",
    "    # t-test\n",
    "    t_pval = st.ttest_ind(fraud,no_fraud,equal_var=False)[1]\n",
    "    \n",
    "    # 2 sample ks test\n",
    "    ks_pval = st.ks_2samp(fraud,no_fraud)[1]\n",
    "    \n",
    "    return t_pval, ks_pval\n",
    "    "
   ]
  },
  {
   "cell_type": "markdown",
   "metadata": {},
   "source": [
    "# Save df to csv"
   ]
  },
  {
   "cell_type": "code",
   "execution_count": 154,
   "metadata": {
    "ExecuteTime": {
     "end_time": "2019-03-23T17:20:03.574172Z",
     "start_time": "2019-03-23T17:18:21.333780Z"
    }
   },
   "outputs": [],
   "source": [
    "for i in range(1,8):\n",
    "    globals()[f'df_{i}'].to_csv(f'D:\\\\document\\\\data_project\\\\Kaggle\\card_fraud\\\\data\\\\df_{i}.csv')"
   ]
  }
 ],
 "metadata": {
  "kernelspec": {
   "display_name": "Python 3",
   "language": "python",
   "name": "python3"
  },
  "language_info": {
   "codemirror_mode": {
    "name": "ipython",
    "version": 3
   },
   "file_extension": ".py",
   "mimetype": "text/x-python",
   "name": "python",
   "nbconvert_exporter": "python",
   "pygments_lexer": "ipython3",
   "version": "3.7.0"
  },
  "toc": {
   "base_numbering": 1,
   "nav_menu": {},
   "number_sections": true,
   "sideBar": true,
   "skip_h1_title": false,
   "title_cell": "Table of Contents",
   "title_sidebar": "Contents",
   "toc_cell": true,
   "toc_position": {
    "height": "calc(100% - 180px)",
    "left": "10px",
    "top": "150px",
    "width": "174.818px"
   },
   "toc_section_display": true,
   "toc_window_display": true
  },
  "varInspector": {
   "cols": {
    "lenName": 16,
    "lenType": 16,
    "lenVar": 40
   },
   "kernels_config": {
    "python": {
     "delete_cmd_postfix": "",
     "delete_cmd_prefix": "del ",
     "library": "var_list.py",
     "varRefreshCmd": "print(var_dic_list())"
    },
    "r": {
     "delete_cmd_postfix": ") ",
     "delete_cmd_prefix": "rm(",
     "library": "var_list.r",
     "varRefreshCmd": "cat(var_dic_list()) "
    }
   },
   "types_to_exclude": [
    "module",
    "function",
    "builtin_function_or_method",
    "instance",
    "_Feature"
   ],
   "window_display": false
  }
 },
 "nbformat": 4,
 "nbformat_minor": 2
}
