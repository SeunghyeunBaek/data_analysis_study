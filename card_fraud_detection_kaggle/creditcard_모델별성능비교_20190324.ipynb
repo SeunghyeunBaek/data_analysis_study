{
 "cells": [
  {
   "cell_type": "markdown",
   "metadata": {
    "toc": true
   },
   "source": [
    "<h1>Table of Contents<span class=\"tocSkip\"></span></h1>\n",
    "<div class=\"toc\"><ul class=\"toc-item\"><li><span><a href=\"#Train-Test-set-split\" data-toc-modified-id=\"Train-Test-set-split-1\"><span class=\"toc-item-num\">1&nbsp;&nbsp;</span>Train Test set split</a></span></li><li><span><a href=\"#평가\" data-toc-modified-id=\"평가-2\"><span class=\"toc-item-num\">2&nbsp;&nbsp;</span>평가</a></span></li><li><span><a href=\"#functions\" data-toc-modified-id=\"functions-3\"><span class=\"toc-item-num\">3&nbsp;&nbsp;</span>functions</a></span></li></ul></div>"
   ]
  },
  {
   "cell_type": "code",
   "execution_count": 2,
   "metadata": {
    "ExecuteTime": {
     "end_time": "2019-03-24T06:13:42.382377Z",
     "start_time": "2019-03-24T06:13:29.022994Z"
    }
   },
   "outputs": [],
   "source": [
    "# 전처리, 차원축소, 평가 모듈\n",
    "import module.muresa as muresa\n",
    "\n",
    "# 데이터 입출력\n",
    "import numpy as np\n",
    "import pandas as pd\n",
    "\n",
    "# 검정 \n",
    "import scipy.stats as st\n",
    "\n",
    "# 전처리\n",
    "from sklearn.preprocessing import MinMaxScaler,RobustScaler,Normalizer\n",
    "from sklearn.decomposition import PCA,TruncatedSVD # 차원축소\n",
    "\n",
    "# Machine Learning\n",
    "from sklearn.linear_model import LogisticRegression\n",
    "from sklearn.svm import SVC\n",
    "from sklearn.pipeline import Pipeline\n",
    "from sklearn.model_selection import train_test_split\n",
    "\n",
    "# 시각화\n",
    "import matplotlib.pyplot as plt\n",
    "import matplotlib.gridspec as gridspec\n",
    "import seaborn as sb\n"
   ]
  },
  {
   "cell_type": "code",
   "execution_count": 6,
   "metadata": {
    "ExecuteTime": {
     "end_time": "2019-03-23T17:32:33.087182Z",
     "start_time": "2019-03-23T17:32:30.405340Z"
    }
   },
   "outputs": [],
   "source": [
    "df=pd.read_csv(r'data/df_3.csv')\n",
    "df2=pd.read_csv(r'data/df_2.csv')"
   ]
  },
  {
   "cell_type": "code",
   "execution_count": 7,
   "metadata": {
    "ExecuteTime": {
     "end_time": "2019-03-23T17:32:33.408091Z",
     "start_time": "2019-03-23T17:32:33.351062Z"
    }
   },
   "outputs": [],
   "source": [
    "df.drop(columns='Unnamed: 0',inplace = True)"
   ]
  },
  {
   "cell_type": "code",
   "execution_count": null,
   "metadata": {},
   "outputs": [],
   "source": []
  },
  {
   "cell_type": "markdown",
   "metadata": {},
   "source": [
    "# Train Test set split"
   ]
  },
  {
   "cell_type": "code",
   "execution_count": 18,
   "metadata": {
    "ExecuteTime": {
     "end_time": "2019-03-23T17:40:08.442507Z",
     "start_time": "2019-03-23T17:40:07.685549Z"
    }
   },
   "outputs": [],
   "source": [
    "x,y = df.drop(columns = 'Class'),df.Class\n",
    "x_train,x_test,y_train,y_test = train_test_split(x,y,test_size = 0.4,random_state = 123)\n",
    "# smapling with Trainset\n",
    "x_train_sm,x_test_sm, y_train_sm, y_test_sm = muresa.SMOTESampling(x_train,y_train, over = 0.4, ratio = 0.3,random_state=123)"
   ]
  },
  {
   "cell_type": "code",
   "execution_count": 3,
   "metadata": {
    "ExecuteTime": {
     "end_time": "2019-03-24T06:13:51.378214Z",
     "start_time": "2019-03-24T06:13:42.404214Z"
    }
   },
   "outputs": [],
   "source": [
    "train_1 = pd.read_csv(r'data/fraud_train_01.csv')\n",
    "train_2 = pd.read_csv(r'data/fraud_train_02.csv')\n",
    "train_3 = pd.read_csv(r'data/fraud_train_03.csv')\n",
    "\n",
    "test_1 = pd.read_csv(r'data/fraud_test_01.csv')\n",
    "test_2 = pd.read_csv(r'data/fraud_test_02.csv')\n",
    "test_3 = pd.read_csv(r'data/fraud_test_03.csv')"
   ]
  },
  {
   "cell_type": "code",
   "execution_count": 4,
   "metadata": {
    "ExecuteTime": {
     "end_time": "2019-03-24T06:19:42.031780Z",
     "start_time": "2019-03-24T06:19:41.568810Z"
    }
   },
   "outputs": [],
   "source": [
    "x_train_1, y_train_1 = train_1.drop(['Class','Time'],axis = 1), train_1.Class\n",
    "x_train_2, y_train_2 = train_2.drop(['Class','Time'],axis = 1), train_2.Class\n",
    "x_train_3, y_train_3 = train_3.drop(['Class','Time'],axis = 1), train_3.Class\n",
    "\n",
    "x_test_1, y_test_1 = test_1.drop(['Class','Time'],axis = 1), test_1.Class\n",
    "x_test_2, y_test_2 = test_2.drop(['Class','Time'],axis = 1), test_2.Class\n",
    "x_test_3, y_test_3 = test_3.drop(['Class','Time'],axis = 1), test_3.Class"
   ]
  },
  {
   "cell_type": "code",
   "execution_count": 15,
   "metadata": {
    "ExecuteTime": {
     "end_time": "2019-03-24T06:24:52.532234Z",
     "start_time": "2019-03-24T06:24:52.526500Z"
    }
   },
   "outputs": [
    {
     "data": {
      "text/plain": [
       "(28944, 31)"
      ]
     },
     "execution_count": 15,
     "metadata": {},
     "output_type": "execute_result"
    }
   ],
   "source": [
    "test_1.shape"
   ]
  },
  {
   "cell_type": "code",
   "execution_count": 16,
   "metadata": {
    "ExecuteTime": {
     "end_time": "2019-03-24T06:25:03.076040Z",
     "start_time": "2019-03-24T06:25:03.070056Z"
    }
   },
   "outputs": [
    {
     "data": {
      "text/plain": [
       "(255863, 31)"
      ]
     },
     "execution_count": 16,
     "metadata": {},
     "output_type": "execute_result"
    }
   ],
   "source": [
    "train_1.shape"
   ]
  },
  {
   "cell_type": "code",
   "execution_count": 7,
   "metadata": {
    "ExecuteTime": {
     "end_time": "2019-03-24T06:22:30.033294Z",
     "start_time": "2019-03-24T06:21:58.230180Z"
    }
   },
   "outputs": [
    {
     "name": "stderr",
     "output_type": "stream",
     "text": [
      "d:\\pl\\python\\python37\\lib\\site-packages\\sklearn\\linear_model\\logistic.py:433: FutureWarning: Default solver will be changed to 'lbfgs' in 0.22. Specify a solver to silence this warning.\n",
      "  FutureWarning)\n",
      "d:\\pl\\python\\python37\\lib\\site-packages\\sklearn\\linear_model\\logistic.py:433: FutureWarning: Default solver will be changed to 'lbfgs' in 0.22. Specify a solver to silence this warning.\n",
      "  FutureWarning)\n",
      "d:\\pl\\python\\python37\\lib\\site-packages\\sklearn\\linear_model\\logistic.py:433: FutureWarning: Default solver will be changed to 'lbfgs' in 0.22. Specify a solver to silence this warning.\n",
      "  FutureWarning)\n"
     ]
    }
   ],
   "source": [
    "glm1 = LogisticRegression().fit(x_train_1,y_train_1)\n",
    "glm2 = LogisticRegression().fit(x_train_2,y_train_2)\n",
    "glm3 = LogisticRegression().fit(x_train_3,y_train_3)"
   ]
  },
  {
   "cell_type": "code",
   "execution_count": 12,
   "metadata": {
    "ExecuteTime": {
     "end_time": "2019-03-24T06:23:40.836962Z",
     "start_time": "2019-03-24T06:23:39.493611Z"
    }
   },
   "outputs": [
    {
     "data": {
      "image/png": "[encoded data removed]",
      "text/plain": [
       "<Figure size 1080x432 with 2 Axes>"
      ]
     },
     "metadata": {
      "needs_background": "light"
     },
     "output_type": "display_data"
    },
    {
     "data": {
      "image/png": "[encoded data removed]",
      "text/plain": [
       "<Figure size 1080x432 with 2 Axes>"
      ]
     },
     "metadata": {
      "needs_background": "light"
     },
     "output_type": "display_data"
    },
    {
     "data": {
      "image/png": "[encoded data removed]",
      "text/plain": [
       "<Figure size 1080x432 with 2 Axes>"
      ]
     },
     "metadata": {
      "needs_background": "light"
     },
     "output_type": "display_data"
    }
   ],
   "source": [
    "res1= evaluation_class(y_test_1,glm1.predict_proba(x_test_1))\n",
    "res2= evaluation_class(y_test_2,glm2.predict_proba(x_test_2))\n",
    "res3= evaluation_class(y_test_3,glm3.predict_proba(x_test_3))"
   ]
  },
  {
   "cell_type": "code",
   "execution_count": 13,
   "metadata": {
    "ExecuteTime": {
     "end_time": "2019-03-24T06:24:16.085271Z",
     "start_time": "2019-03-24T06:24:16.077460Z"
    }
   },
   "outputs": [
    {
     "name": "stdout",
     "output_type": "stream",
     "text": [
      "{'confusion matrix': array([[28888,     6],\n",
      "       [   14,    36]], dtype=int64), 'acc': 0.9993090105030403, 'recall': 0.72, 'precision': 0.8571428571428571, 'f1 score': 0.782608695652174, 'average precision': 0.816059900240613} \n",
      " {'confusion matrix': array([[28891,     3],\n",
      "       [   20,    30]], dtype=int64), 'acc': 0.9992053620784964, 'recall': 0.6, 'precision': 0.9090909090909091, 'f1 score': 0.7228915662650602, 'average precision': 0.7705554751924028} \n",
      " {'confusion matrix': array([[28889,     5],\n",
      "       [   21,    29]], dtype=int64), 'acc': 0.9991017136539525, 'recall': 0.58, 'precision': 0.8529411764705882, 'f1 score': 0.6904761904761905, 'average precision': 0.735255918832873}\n"
     ]
    }
   ],
   "source": [
    "print(f'{res1} \\n {res2} \\n {res3}')"
   ]
  },
  {
   "cell_type": "markdown",
   "metadata": {
    "ExecuteTime": {
     "end_time": "2019-03-23T17:32:39.127206Z",
     "start_time": "2019-03-23T17:32:39.101907Z"
    }
   },
   "source": [
    "# 평가"
   ]
  },
  {
   "cell_type": "code",
   "execution_count": 31,
   "metadata": {
    "ExecuteTime": {
     "end_time": "2019-03-23T17:45:37.907565Z",
     "start_time": "2019-03-23T17:45:31.817211Z"
    }
   },
   "outputs": [
    {
     "name": "stderr",
     "output_type": "stream",
     "text": [
      "d:\\pl\\python\\python37\\lib\\site-packages\\sklearn\\linear_model\\logistic.py:433: FutureWarning: Default solver will be changed to 'lbfgs' in 0.22. Specify a solver to silence this warning.\n",
      "  FutureWarning)\n"
     ]
    },
    {
     "data": {
      "image/png": "[encoded data removed]",
      "text/plain": [
       "<Figure size 1080x432 with 2 Axes>"
      ]
     },
     "metadata": {
      "needs_background": "light"
     },
     "output_type": "display_data"
    }
   ],
   "source": [
    "glm = LogisticRegression().fit(x_train_sm,y_train_sm)\n",
    "y_pred_glm= glm.predict_proba(x_test)\n",
    "glm_res = evaluation_class(y_test,y_pred_glm)"
   ]
  },
  {
   "cell_type": "code",
   "execution_count": 34,
   "metadata": {
    "ExecuteTime": {
     "end_time": "2019-03-23T18:27:40.068775Z",
     "start_time": "2019-03-23T18:10:59.437806Z"
    }
   },
   "outputs": [
    {
     "name": "stderr",
     "output_type": "stream",
     "text": [
      "d:\\pl\\python\\python37\\lib\\site-packages\\sklearn\\svm\\base.py:196: FutureWarning: The default value of gamma will change from 'auto' to 'scale' in version 0.22 to account better for unscaled features. Set gamma explicitly to 'auto' or 'scale' to avoid this warning.\n",
      "  \"avoid this warning.\", FutureWarning)\n"
     ]
    },
    {
     "data": {
      "image/png": "[encoded data removed]",
      "text/plain": [
       "<Figure size 1080x432 with 2 Axes>"
      ]
     },
     "metadata": {
      "needs_background": "light"
     },
     "output_type": "display_data"
    }
   ],
   "source": [
    "svm = SVC(probability=True).fit(x_train_sm,y_train_sm)\n",
    "y_pred_svm = svm.predict_proba(x_test)\n",
    "svm_res = evaluation_class(y_test,y_pred_svm)"
   ]
  },
  {
   "cell_type": "code",
   "execution_count": 39,
   "metadata": {
    "ExecuteTime": {
     "end_time": "2019-03-23T18:41:14.390948Z",
     "start_time": "2019-03-23T18:41:14.386486Z"
    }
   },
   "outputs": [
    {
     "data": {
      "text/plain": [
       "{'confusion matrix': array([[113511,    205],\n",
       "        [    39,    168]], dtype=int64),\n",
       " 'acc': 0.9978582024700895,\n",
       " 'recall': 0.8115942028985508,\n",
       " 'precision': 0.450402144772118,\n",
       " 'f1 score': 0.5793103448275861,\n",
       " 'average precision': 0.6809323099768543}"
      ]
     },
     "execution_count": 39,
     "metadata": {},
     "output_type": "execute_result"
    }
   ],
   "source": [
    "svm_res"
   ]
  },
  {
   "cell_type": "markdown",
   "metadata": {},
   "source": [
    "# functions"
   ]
  },
  {
   "cell_type": "code",
   "execution_count": 9,
   "metadata": {
    "ExecuteTime": {
     "end_time": "2019-03-24T06:22:36.841130Z",
     "start_time": "2019-03-24T06:22:36.830113Z"
    }
   },
   "outputs": [],
   "source": [
    "# Evaluation\n",
    "def evaluation_class(y_true,y_pred,true_idx=1,thresholds = 0.5):\n",
    "    \n",
    "    from sklearn import metrics # for result\n",
    "    import matplotlib.pyplot as plt # for visualization\n",
    "    \n",
    "    # tranform y_pred into integer array\n",
    "    y_pred_val = ([1 if prob>thresholds else 0 for prob in y_pred[:,true_idx]])\n",
    "    # counfusion matrix\n",
    "    conf_mat = metrics.confusion_matrix(y_true,y_pred_val)\n",
    "    \n",
    "    #acc\n",
    "    acc = metrics.accuracy_score(y_true,y_pred_val)   \n",
    "    #recall\n",
    "    re = metrics.recall_score(y_true,y_pred_val) \n",
    "    #precision\n",
    "    pre = metrics.precision_score(y_true,y_pred_val)\n",
    "    #f1\n",
    "    f1 = metrics.f1_score(y_true,y_pred_val)   \n",
    "    #average precsion\n",
    "    avg_pre = metrics.average_precision_score(y_true,y_pred[:,true_idx])  \n",
    "    \n",
    "    # visualization\n",
    "    fig,ax = plt.subplots(1,2,figsize = (15,6))\n",
    "    # ROC\n",
    "    fpr,tpr,thresholds = metrics.roc_curve(y_true,y_pred[:,true_idx])\n",
    "    ax[0].plot(fpr,tpr,color = 'b')\n",
    "    ax[0].set_title('ROC Curve',fontsize = 15)\n",
    "    ax[0].set_xlabel('1- FP')\n",
    "    ax[0].set_ylabel('TP')\n",
    "    \n",
    "    # PR\n",
    "    precision,recall,thresholds = metrics.precision_recall_curve(y_true,y_pred[:,true_idx])\n",
    "    ax[1].step(recall,precision,color = 'r', where = 'post')\n",
    "    ax[1].set_title('PR Curve',fontsize = 15)\n",
    "    ax[1].set_xlabel('Recall')\n",
    "    ax[1].set_ylabel('Precision')\n",
    "    \n",
    "    # 결과 저장\n",
    "    result_dic = {\n",
    "        'confusion matrix':conf_mat,\n",
    "        'acc':acc,\n",
    "        'recall':re,\n",
    "        'precision':pre,\n",
    "        'f1 score':f1,\n",
    "        'average precision':avg_pre\n",
    "    }\n",
    "    return result_dic"
   ]
  },
  {
   "cell_type": "code",
   "execution_count": null,
   "metadata": {},
   "outputs": [],
   "source": []
  }
 ],
 "metadata": {
  "kernelspec": {
   "display_name": "Python 3",
   "language": "python",
   "name": "python3"
  },
  "language_info": {
   "codemirror_mode": {
    "name": "ipython",
    "version": 3
   },
   "file_extension": ".py",
   "mimetype": "text/x-python",
   "name": "python",
   "nbconvert_exporter": "python",
   "pygments_lexer": "ipython3",
   "version": "3.7.0"
  },
  "toc": {
   "base_numbering": 1,
   "nav_menu": {},
   "number_sections": true,
   "sideBar": true,
   "skip_h1_title": false,
   "title_cell": "Table of Contents",
   "title_sidebar": "Contents",
   "toc_cell": true,
   "toc_position": {
    "height": "calc(100% - 180px)",
    "left": "10px",
    "top": "150px",
    "width": "227.818px"
   },
   "toc_section_display": true,
   "toc_window_display": true
  },
  "varInspector": {
   "cols": {
    "lenName": 16,
    "lenType": 16,
    "lenVar": 40
   },
   "kernels_config": {
    "python": {
     "delete_cmd_postfix": "",
     "delete_cmd_prefix": "del ",
     "library": "var_list.py",
     "varRefreshCmd": "print(var_dic_list())"
    },
    "r": {
     "delete_cmd_postfix": ") ",
     "delete_cmd_prefix": "rm(",
     "library": "var_list.r",
     "varRefreshCmd": "cat(var_dic_list()) "
    }
   },
   "types_to_exclude": [
    "module",
    "function",
    "builtin_function_or_method",
    "instance",
    "_Feature"
   ],
   "window_display": false
  }
 },
 "nbformat": 4,
 "nbformat_minor": 2
}
