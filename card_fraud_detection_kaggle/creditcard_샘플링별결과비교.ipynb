{
 "cells": [
  {
   "cell_type": "markdown",
   "metadata": {
    "toc": true
   },
   "source": [
    "<h1>Table of Contents<span class=\"tocSkip\"></span></h1>\n",
    "<div class=\"toc\"><ul class=\"toc-item\"></ul></div>"
   ]
  },
  {
   "cell_type": "code",
   "execution_count": 54,
   "metadata": {
    "ExecuteTime": {
     "end_time": "2019-03-25T03:29:49.381510Z",
     "start_time": "2019-03-25T03:29:47.574345Z"
    }
   },
   "outputs": [],
   "source": [
    "import pandas as pd\n",
    "import numpy as np \n",
    "from sklearn.linear_model import LogisticRegression\n",
    "from sklearn.model_selection import train_test_split\n",
    "import module.muresa as muresa"
   ]
  },
  {
   "cell_type": "code",
   "execution_count": 8,
   "metadata": {
    "ExecuteTime": {
     "end_time": "2019-03-25T03:04:28.434423Z",
     "start_time": "2019-03-25T03:04:25.888201Z"
    }
   },
   "outputs": [],
   "source": [
    "df = pd.read_csv(r'data/df_2.csv')\n",
    "df.drop('Unnamed: 0',axis = 1,inplace = True)"
   ]
  },
  {
   "cell_type": "code",
   "execution_count": 9,
   "metadata": {
    "ExecuteTime": {
     "end_time": "2019-03-25T03:04:33.619524Z",
     "start_time": "2019-03-25T03:04:33.589604Z"
    }
   },
   "outputs": [
    {
     "data": {
      "text/html": [
       "<div>\n",
       "<style scoped>\n",
       "    .dataframe tbody tr th:only-of-type {\n",
       "        vertical-align: middle;\n",
       "    }\n",
       "\n",
       "    .dataframe tbody tr th {\n",
       "        vertical-align: top;\n",
       "    }\n",
       "\n",
       "    .dataframe thead th {\n",
       "        text-align: right;\n",
       "    }\n",
       "</style>\n",
       "<table border=\"1\" class=\"dataframe\">\n",
       "  <thead>\n",
       "    <tr style=\"text-align: right;\">\n",
       "      <th></th>\n",
       "      <th>V1</th>\n",
       "      <th>V2</th>\n",
       "      <th>V3</th>\n",
       "      <th>V4</th>\n",
       "      <th>V5</th>\n",
       "      <th>V6</th>\n",
       "      <th>V7</th>\n",
       "      <th>V8</th>\n",
       "      <th>V9</th>\n",
       "      <th>V10</th>\n",
       "      <th>...</th>\n",
       "      <th>V22</th>\n",
       "      <th>V23</th>\n",
       "      <th>V24</th>\n",
       "      <th>V25</th>\n",
       "      <th>V26</th>\n",
       "      <th>V27</th>\n",
       "      <th>V28</th>\n",
       "      <th>Amount</th>\n",
       "      <th>Class</th>\n",
       "      <th>Time_scaled</th>\n",
       "    </tr>\n",
       "  </thead>\n",
       "  <tbody>\n",
       "    <tr>\n",
       "      <th>0</th>\n",
       "      <td>-1.359807</td>\n",
       "      <td>-0.072781</td>\n",
       "      <td>2.536347</td>\n",
       "      <td>1.378155</td>\n",
       "      <td>-0.338321</td>\n",
       "      <td>0.462388</td>\n",
       "      <td>0.239599</td>\n",
       "      <td>0.098698</td>\n",
       "      <td>0.363787</td>\n",
       "      <td>0.090794</td>\n",
       "      <td>...</td>\n",
       "      <td>0.277838</td>\n",
       "      <td>-0.110474</td>\n",
       "      <td>0.066928</td>\n",
       "      <td>0.128539</td>\n",
       "      <td>-0.189115</td>\n",
       "      <td>0.133558</td>\n",
       "      <td>-0.021053</td>\n",
       "      <td>5.008099</td>\n",
       "      <td>0</td>\n",
       "      <td>-0.994983</td>\n",
       "    </tr>\n",
       "    <tr>\n",
       "      <th>1</th>\n",
       "      <td>1.191857</td>\n",
       "      <td>0.266151</td>\n",
       "      <td>0.166480</td>\n",
       "      <td>0.448154</td>\n",
       "      <td>0.060018</td>\n",
       "      <td>-0.082361</td>\n",
       "      <td>-0.078803</td>\n",
       "      <td>0.085102</td>\n",
       "      <td>-0.255425</td>\n",
       "      <td>-0.166974</td>\n",
       "      <td>...</td>\n",
       "      <td>-0.638672</td>\n",
       "      <td>0.101288</td>\n",
       "      <td>-0.339846</td>\n",
       "      <td>0.167170</td>\n",
       "      <td>0.125895</td>\n",
       "      <td>-0.008983</td>\n",
       "      <td>0.014724</td>\n",
       "      <td>0.989578</td>\n",
       "      <td>0</td>\n",
       "      <td>-0.994983</td>\n",
       "    </tr>\n",
       "    <tr>\n",
       "      <th>2</th>\n",
       "      <td>-1.358354</td>\n",
       "      <td>-1.340163</td>\n",
       "      <td>1.773209</td>\n",
       "      <td>0.379780</td>\n",
       "      <td>-0.503198</td>\n",
       "      <td>1.800499</td>\n",
       "      <td>0.791461</td>\n",
       "      <td>0.247676</td>\n",
       "      <td>-1.514654</td>\n",
       "      <td>0.207643</td>\n",
       "      <td>...</td>\n",
       "      <td>0.771679</td>\n",
       "      <td>0.909412</td>\n",
       "      <td>-0.689281</td>\n",
       "      <td>-0.327642</td>\n",
       "      <td>-0.139097</td>\n",
       "      <td>-0.055353</td>\n",
       "      <td>-0.059752</td>\n",
       "      <td>5.936639</td>\n",
       "      <td>0</td>\n",
       "      <td>-0.994972</td>\n",
       "    </tr>\n",
       "    <tr>\n",
       "      <th>3</th>\n",
       "      <td>-0.966272</td>\n",
       "      <td>-0.185226</td>\n",
       "      <td>1.792993</td>\n",
       "      <td>-0.863291</td>\n",
       "      <td>-0.010309</td>\n",
       "      <td>1.247203</td>\n",
       "      <td>0.237609</td>\n",
       "      <td>0.377436</td>\n",
       "      <td>-1.387024</td>\n",
       "      <td>-0.054952</td>\n",
       "      <td>...</td>\n",
       "      <td>0.005274</td>\n",
       "      <td>-0.190321</td>\n",
       "      <td>-1.175575</td>\n",
       "      <td>0.647376</td>\n",
       "      <td>-0.221929</td>\n",
       "      <td>0.062723</td>\n",
       "      <td>0.061458</td>\n",
       "      <td>4.816242</td>\n",
       "      <td>0</td>\n",
       "      <td>-0.994972</td>\n",
       "    </tr>\n",
       "    <tr>\n",
       "      <th>4</th>\n",
       "      <td>-1.158233</td>\n",
       "      <td>0.877737</td>\n",
       "      <td>1.548718</td>\n",
       "      <td>0.403034</td>\n",
       "      <td>-0.407193</td>\n",
       "      <td>0.095921</td>\n",
       "      <td>0.592941</td>\n",
       "      <td>-0.270533</td>\n",
       "      <td>0.817739</td>\n",
       "      <td>0.753074</td>\n",
       "      <td>...</td>\n",
       "      <td>0.798278</td>\n",
       "      <td>-0.137458</td>\n",
       "      <td>0.141267</td>\n",
       "      <td>-0.206010</td>\n",
       "      <td>0.502292</td>\n",
       "      <td>0.219422</td>\n",
       "      <td>0.215153</td>\n",
       "      <td>4.248354</td>\n",
       "      <td>0</td>\n",
       "      <td>-0.994960</td>\n",
       "    </tr>\n",
       "  </tbody>\n",
       "</table>\n",
       "<p>5 rows × 31 columns</p>\n",
       "</div>"
      ],
      "text/plain": [
       "         V1        V2        V3        V4        V5        V6        V7  \\\n",
       "0 -1.359807 -0.072781  2.536347  1.378155 -0.338321  0.462388  0.239599   \n",
       "1  1.191857  0.266151  0.166480  0.448154  0.060018 -0.082361 -0.078803   \n",
       "2 -1.358354 -1.340163  1.773209  0.379780 -0.503198  1.800499  0.791461   \n",
       "3 -0.966272 -0.185226  1.792993 -0.863291 -0.010309  1.247203  0.237609   \n",
       "4 -1.158233  0.877737  1.548718  0.403034 -0.407193  0.095921  0.592941   \n",
       "\n",
       "         V8        V9       V10  ...       V22       V23       V24       V25  \\\n",
       "0  0.098698  0.363787  0.090794  ...  0.277838 -0.110474  0.066928  0.128539   \n",
       "1  0.085102 -0.255425 -0.166974  ... -0.638672  0.101288 -0.339846  0.167170   \n",
       "2  0.247676 -1.514654  0.207643  ...  0.771679  0.909412 -0.689281 -0.327642   \n",
       "3  0.377436 -1.387024 -0.054952  ...  0.005274 -0.190321 -1.175575  0.647376   \n",
       "4 -0.270533  0.817739  0.753074  ...  0.798278 -0.137458  0.141267 -0.206010   \n",
       "\n",
       "        V26       V27       V28    Amount  Class  Time_scaled  \n",
       "0 -0.189115  0.133558 -0.021053  5.008099      0    -0.994983  \n",
       "1  0.125895 -0.008983  0.014724  0.989578      0    -0.994983  \n",
       "2 -0.139097 -0.055353 -0.059752  5.936639      0    -0.994972  \n",
       "3 -0.221929  0.062723  0.061458  4.816242      0    -0.994972  \n",
       "4  0.502292  0.219422  0.215153  4.248354      0    -0.994960  \n",
       "\n",
       "[5 rows x 31 columns]"
      ]
     },
     "execution_count": 9,
     "metadata": {},
     "output_type": "execute_result"
    }
   ],
   "source": [
    "df.head()"
   ]
  },
  {
   "cell_type": "code",
   "execution_count": 13,
   "metadata": {
    "ExecuteTime": {
     "end_time": "2019-03-25T03:09:59.531545Z",
     "start_time": "2019-03-25T03:09:59.525554Z"
    }
   },
   "outputs": [
    {
     "data": {
      "text/plain": [
       "49.0"
      ]
     },
     "execution_count": 13,
     "metadata": {},
     "output_type": "execute_result"
    }
   ],
   "source": [
    "int(np.floor(ones.shape[0]*0.1))"
   ]
  },
  {
   "cell_type": "code",
   "execution_count": 36,
   "metadata": {
    "ExecuteTime": {
     "end_time": "2019-03-25T03:21:20.807739Z",
     "start_time": "2019-03-25T03:21:20.333765Z"
    }
   },
   "outputs": [],
   "source": [
    "# 층화추출 10%\n",
    "ones = df[df['Class']==1].copy()\n",
    "zeros = df[df['Class']==0].copy()\n",
    "idx1 = np.random.choice(ones.shape[0],int(np.floor(ones.shape[0]*0.1)),replace = False)\n",
    "idx2 = np.random.choice(zeros.shape[0],int(np.floor(zeros.shape[0]*0.1)),replace = False)\n",
    "test_st = pd.concat((ones.iloc[idx1].copy(),zeros.iloc[idx2].copy()),axis = 0)\n",
    "train_st = pd.concat((ones.drop(ones.index[idx1]),zeros.drop(zeros.index[idx2])) ,axis = 0)\n",
    "\n",
    "x_train_st, y_train_st, x_test_st, y_test_st = train_st.drop('Class',axis = 1),train_st.Class, test_st.drop('Class',axis = 1),test_st.Class"
   ]
  },
  {
   "cell_type": "code",
   "execution_count": 51,
   "metadata": {
    "ExecuteTime": {
     "end_time": "2019-03-25T03:28:08.882315Z",
     "start_time": "2019-03-25T03:28:08.734648Z"
    }
   },
   "outputs": [],
   "source": [
    "# train-test 0.3 \n",
    "x_train,x_test,y_train,y_test = train_test_split(df.drop('Class',axis = 1),df.Class,test_size = 0.3)"
   ]
  },
  {
   "cell_type": "code",
   "execution_count": 66,
   "metadata": {
    "ExecuteTime": {
     "end_time": "2019-03-25T03:36:34.678073Z",
     "start_time": "2019-03-25T03:36:33.842311Z"
    }
   },
   "outputs": [],
   "source": [
    "# SMOTE 0.4, Train-Test 0.3\n",
    "x,y = df.drop(columns = 'Class'),df.Class\n",
    "x_train_sm,x_test_sm, y_train_sm, y_test_sm = muresa.SMOTESampling(x,y, over = 0.4, ratio = 0.3)"
   ]
  },
  {
   "cell_type": "code",
   "execution_count": 52,
   "metadata": {
    "ExecuteTime": {
     "end_time": "2019-03-25T03:28:13.801100Z",
     "start_time": "2019-03-25T03:28:10.341388Z"
    }
   },
   "outputs": [
    {
     "name": "stderr",
     "output_type": "stream",
     "text": [
      "d:\\pl\\python\\python37\\lib\\site-packages\\sklearn\\linear_model\\logistic.py:433: FutureWarning: Default solver will be changed to 'lbfgs' in 0.22. Specify a solver to silence this warning.\n",
      "  FutureWarning)\n"
     ]
    }
   ],
   "source": [
    "glm = LogisticRegression()\n",
    "glm.fit(x_train,y_train)\n",
    "y_pred = glm.predict_proba(x_test)\n",
    "res = evaluation_class(y_test,y_pred)"
   ]
  },
  {
   "cell_type": "code",
   "execution_count": 45,
   "metadata": {
    "ExecuteTime": {
     "end_time": "2019-03-25T03:27:23.272218Z",
     "start_time": "2019-03-25T03:27:19.034552Z"
    }
   },
   "outputs": [
    {
     "name": "stderr",
     "output_type": "stream",
     "text": [
      "d:\\pl\\python\\python37\\lib\\site-packages\\sklearn\\linear_model\\logistic.py:433: FutureWarning: Default solver will be changed to 'lbfgs' in 0.22. Specify a solver to silence this warning.\n",
      "  FutureWarning)\n"
     ]
    }
   ],
   "source": [
    "glm2 = LogisticRegression()\n",
    "glm.fit(x_train_st,y_train_st)\n",
    "y_pred_st = glm.predict_proba(x_test_st)\n",
    "res_st = evaluation_class(y_test_st,y_pred_st)"
   ]
  },
  {
   "cell_type": "code",
   "execution_count": 101,
   "metadata": {
    "ExecuteTime": {
     "end_time": "2019-03-25T03:47:01.129375Z",
     "start_time": "2019-03-25T03:47:01.124389Z"
    }
   },
   "outputs": [
    {
     "data": {
      "text/plain": [
       "array([0, 1, 0, ..., 1, 0, 0], dtype=int64)"
      ]
     },
     "execution_count": 101,
     "metadata": {},
     "output_type": "execute_result"
    }
   ],
   "source": [
    "y_train_sm"
   ]
  },
  {
   "cell_type": "code",
   "execution_count": 103,
   "metadata": {
    "ExecuteTime": {
     "end_time": "2019-03-25T03:47:47.591284Z",
     "start_time": "2019-03-25T03:47:47.579280Z"
    }
   },
   "outputs": [
    {
     "data": {
      "text/plain": [
       "0.28367933139607915"
      ]
     },
     "execution_count": 103,
     "metadata": {},
     "output_type": "execute_result"
    }
   ],
   "source": [
    "pd.Series(y_test_sm).value_counts()[1]/pd.Series(y_test_sm).value_counts().sum()"
   ]
  },
  {
   "cell_type": "code",
   "execution_count": 90,
   "metadata": {
    "ExecuteTime": {
     "end_time": "2019-03-25T03:43:51.323009Z",
     "start_time": "2019-03-25T03:43:51.300991Z"
    }
   },
   "outputs": [
    {
     "data": {
      "text/plain": [
       "0.001727485630620034"
      ]
     },
     "execution_count": 90,
     "metadata": {},
     "output_type": "execute_result"
    }
   ],
   "source": [
    "y.value_counts()[1]/y.value_counts().sum()"
   ]
  },
  {
   "cell_type": "code",
   "execution_count": 61,
   "metadata": {
    "ExecuteTime": {
     "end_time": "2019-03-25T03:33:56.041190Z",
     "start_time": "2019-03-25T03:33:52.993309Z"
    }
   },
   "outputs": [
    {
     "name": "stderr",
     "output_type": "stream",
     "text": [
      "d:\\pl\\python\\python37\\lib\\site-packages\\sklearn\\linear_model\\logistic.py:433: FutureWarning: Default solver will be changed to 'lbfgs' in 0.22. Specify a solver to silence this warning.\n",
      "  FutureWarning)\n"
     ]
    }
   ],
   "source": [
    "glm3 = LogisticRegression()\n",
    "glm.fit(x_train_sm,y_train_sm)\n",
    "y_pred_sm = glm.predict_proba(x_test_sm)\n",
    "res_sm = evaluation_class(y_test_sm,y_pred_sm)"
   ]
  },
  {
   "cell_type": "code",
   "execution_count": 62,
   "metadata": {
    "ExecuteTime": {
     "end_time": "2019-03-25T03:33:58.429774Z",
     "start_time": "2019-03-25T03:33:58.423787Z"
    }
   },
   "outputs": [
    {
     "data": {
      "text/plain": [
       "{'confusion matrix': array([[59224,   543],\n",
       "        [ 2667, 21151]], dtype=int64),\n",
       " 'acc': 0.9615959801399773,\n",
       " 'recall': 0.8880258627928458,\n",
       " 'precision': 0.9749700377984696,\n",
       " 'f1 score': 0.9294691509931446,\n",
       " 'average precision': 0.9767970947151287}"
      ]
     },
     "execution_count": 62,
     "metadata": {},
     "output_type": "execute_result"
    }
   ],
   "source": [
    "res_sm"
   ]
  },
  {
   "cell_type": "code",
   "execution_count": null,
   "metadata": {},
   "outputs": [],
   "source": [
    "lm"
   ]
  },
  {
   "cell_type": "code",
   "execution_count": 43,
   "metadata": {
    "ExecuteTime": {
     "end_time": "2019-03-25T03:26:25.164606Z",
     "start_time": "2019-03-25T03:26:25.156628Z"
    }
   },
   "outputs": [],
   "source": [
    "# Evaluation\n",
    "def evaluation_class(y_true,y_pred,true_idx=1,thresholds = 0.5):\n",
    "    \n",
    "    from sklearn import metrics # for result\n",
    "    import matplotlib.pyplot as plt # for visualization\n",
    "    \n",
    "    # tranform y_pred into integer array\n",
    "    y_pred_val = ([1 if prob>thresholds else 0 for prob in y_pred[:,true_idx]])\n",
    "    # counfusion matrix\n",
    "    conf_mat = metrics.confusion_matrix(y_true,y_pred_val)\n",
    "    \n",
    "    #acc\n",
    "    acc = metrics.accuracy_score(y_true,y_pred_val)   \n",
    "    #recall\n",
    "    re = metrics.recall_score(y_true,y_pred_val) \n",
    "    #precision\n",
    "    pre = metrics.precision_score(y_true,y_pred_val)\n",
    "    #f1\n",
    "    f1 = metrics.f1_score(y_true,y_pred_val)   \n",
    "    #average precsion\n",
    "    avg_pre = metrics.average_precision_score(y_true,y_pred[:,true_idx])  \n",
    "    \n",
    "    # visualization\n",
    "#    fig,ax = plt.subplots(1,2,figsize = (15,6))\n",
    "#     # ROC\n",
    "#     fpr,tpr,thresholds = metrics.roc_curve(y_true,y_pred[:,true_idx])\n",
    "#     ax[0].plot(fpr,tpr,color = 'b')\n",
    "#     ax[0].set_title('ROC Curve',fontsize = 15)\n",
    "#     ax[0].set_xlabel('1- FP')\n",
    "#     ax[0].set_ylabel('TP')\n",
    "    \n",
    "#     # PR\n",
    "#     precision,recall,thresholds = metrics.precision_recall_curve(y_true,y_pred[:,true_idx])\n",
    "#     ax[1].step(recall,precision,color = 'r', where = 'post')\n",
    "#     ax[1].set_title('PR Curve',fontsize = 15)\n",
    "#     ax[1].set_xlabel('Recall')\n",
    "#     ax[1].set_ylabel('Precision')\n",
    "    \n",
    "    # 결과 저장\n",
    "    result_dic = {\n",
    "        'confusion matrix':conf_mat,\n",
    "        'acc':acc,\n",
    "        'recall':re,\n",
    "        'precision':pre,\n",
    "        'f1 score':f1,\n",
    "        'average precision':avg_pre\n",
    "    }\n",
    "    return result_dic"
   ]
  },
  {
   "cell_type": "code",
   "execution_count": null,
   "metadata": {},
   "outputs": [],
   "source": [
    "def getKeword():"
   ]
  }
 ],
 "metadata": {
  "kernelspec": {
   "display_name": "Python 3",
   "language": "python",
   "name": "python3"
  },
  "language_info": {
   "codemirror_mode": {
    "name": "ipython",
    "version": 3
   },
   "file_extension": ".py",
   "mimetype": "text/x-python",
   "name": "python",
   "nbconvert_exporter": "python",
   "pygments_lexer": "ipython3",
   "version": "3.7.0"
  },
  "toc": {
   "base_numbering": 1,
   "nav_menu": {},
   "number_sections": true,
   "sideBar": true,
   "skip_h1_title": false,
   "title_cell": "Table of Contents",
   "title_sidebar": "Contents",
   "toc_cell": true,
   "toc_position": {},
   "toc_section_display": true,
   "toc_window_display": true
  },
  "varInspector": {
   "cols": {
    "lenName": 16,
    "lenType": 16,
    "lenVar": 40
   },
   "kernels_config": {
    "python": {
     "delete_cmd_postfix": "",
     "delete_cmd_prefix": "del ",
     "library": "var_list.py",
     "varRefreshCmd": "print(var_dic_list())"
    },
    "r": {
     "delete_cmd_postfix": ") ",
     "delete_cmd_prefix": "rm(",
     "library": "var_list.r",
     "varRefreshCmd": "cat(var_dic_list()) "
    }
   },
   "types_to_exclude": [
    "module",
    "function",
    "builtin_function_or_method",
    "instance",
    "_Feature"
   ],
   "window_display": false
  }
 },
 "nbformat": 4,
 "nbformat_minor": 2
}
